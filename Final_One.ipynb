{
  "nbformat": 4,
  "nbformat_minor": 0,
  "metadata": {
    "colab": {
      "provenance": []
    },
    "kernelspec": {
      "name": "python3",
      "display_name": "Python 3"
    },
    "language_info": {
      "name": "python"
    }
  },
  "cells": [
    {
      "cell_type": "code",
      "execution_count": null,
      "metadata": {
        "id": "WO-DGbnYEm-S"
      },
      "outputs": [],
      "source": [
        "import numpy as np\n",
        "import pandas as pd\n",
        "import matplotlib.pyplot as plt\n",
        "#With this backend, the output of plotting commands is displayed inline within frontends like the Jupyter notebook, \n",
        "#directly below the code cell that produced it. The resulting plots will then also be stored in the notebook document.\n",
        "%matplotlib inline\n",
        "import seaborn as sns\n",
        "from scipy.stats import kurtosis\n",
        "\n",
        "from sklearn.preprocessing import StandardScaler\n",
        "from sklearn.model_selection import train_test_split\n",
        "from sklearn.decomposition import PCA\n",
        "from mlxtend.frequent_patterns import apriori, association_rules \n",
        "\n",
        "import tensorflow as tf\n",
        "\n",
        "import pandas as pd\n",
        "from collections import defaultdict\n"
      ]
    },
    {
      "cell_type": "markdown",
      "source": [
        "**Converting data to Binary Data:**"
      ],
      "metadata": {
        "id": "vz_i4k2fua0X"
      }
    },
    {
      "cell_type": "code",
      "source": [
        "data=pd.read_csv('d.csv')\n",
        "data"
      ],
      "metadata": {
        "colab": {
          "base_uri": "https://localhost:8080/",
          "height": 591
        },
        "id": "M11HMmK8uZ2b",
        "outputId": "3848df3c-f41f-4bf0-a557-915adfd3ec23"
      },
      "execution_count": null,
      "outputs": [
        {
          "output_type": "execute_result",
          "data": {
            "text/plain": [
              "      Age  Gender        Weight friends/Relatives understanding parents  \\\n",
              "0      23    Male  More than 70               Yes                   Yes   \n",
              "1      31    Male       50 - 60                No                    No   \n",
              "2      22    Male       60 - 70               Yes                   Yes   \n",
              "3      42  Female       60 - 70               Yes                   Yes   \n",
              "4      43    Male       60 - 70                No                    No   \n",
              "...   ...     ...           ...               ...                   ...   \n",
              "2074   30  Female       50 - 60               Yes                   Yes   \n",
              "2075   30  Female       50 - 60               Yes                   Yes   \n",
              "2076   24  Female       60 - 70               Yes                    No   \n",
              "2077   31    Male       50 - 60                No                    No   \n",
              "2078   39    Male       50 - 60                No                   Yes   \n",
              "\n",
              "     injury fights bullied toxic relationship stressed missed classes smoke  \\\n",
              "0        No    Yes      No                 No      Yes            Yes    No   \n",
              "1       Yes     No      No                Yes       No            Yes    No   \n",
              "2        No     No      No                 No       No             No    No   \n",
              "3        No     No     Yes                Yes       No            Yes   Yes   \n",
              "4        No    Yes     Yes                 No       No             No    No   \n",
              "...     ...    ...     ...                ...      ...            ...   ...   \n",
              "2074     No     No     Yes                 No      Yes             No    No   \n",
              "2075     No     No     Yes                 No      Yes             No    No   \n",
              "2076     No    Yes      No                Yes       No             No    No   \n",
              "2077    Yes     No      No                Yes       No            Yes    No   \n",
              "2078    Yes     No      No                Yes       No             No   Yes   \n",
              "\n",
              "     Alcohol got drunk drugs Have you ever thought of attempting suicide?  \\\n",
              "0         No        No   Yes                                           NO   \n",
              "1        Yes       Yes    No                                          Yes   \n",
              "2         No        No    No                                           NO   \n",
              "3        Yes        No    No                                           NO   \n",
              "4         No        No    No                                           NO   \n",
              "...      ...       ...   ...                                          ...   \n",
              "2074      No       Yes    No                                           NO   \n",
              "2075      No       Yes    No                                           NO   \n",
              "2076      No        No    No                                           NO   \n",
              "2077     Yes       Yes    No                                          Yes   \n",
              "2078      No        No   Yes                                           NO   \n",
              "\n",
              "     bad experience  \n",
              "0                No  \n",
              "1                No  \n",
              "2                No  \n",
              "3                No  \n",
              "4                No  \n",
              "...             ...  \n",
              "2074             No  \n",
              "2075             No  \n",
              "2076             No  \n",
              "2077             No  \n",
              "2078             No  \n",
              "\n",
              "[2079 rows x 17 columns]"
            ],
            "text/html": [
              "\n",
              "  <div id=\"df-88d59797-1204-4fd9-a951-fc3690e8ba08\">\n",
              "    <div class=\"colab-df-container\">\n",
              "      <div>\n",
              "<style scoped>\n",
              "    .dataframe tbody tr th:only-of-type {\n",
              "        vertical-align: middle;\n",
              "    }\n",
              "\n",
              "    .dataframe tbody tr th {\n",
              "        vertical-align: top;\n",
              "    }\n",
              "\n",
              "    .dataframe thead th {\n",
              "        text-align: right;\n",
              "    }\n",
              "</style>\n",
              "<table border=\"1\" class=\"dataframe\">\n",
              "  <thead>\n",
              "    <tr style=\"text-align: right;\">\n",
              "      <th></th>\n",
              "      <th>Age</th>\n",
              "      <th>Gender</th>\n",
              "      <th>Weight</th>\n",
              "      <th>friends/Relatives</th>\n",
              "      <th>understanding parents</th>\n",
              "      <th>injury</th>\n",
              "      <th>fights</th>\n",
              "      <th>bullied</th>\n",
              "      <th>toxic relationship</th>\n",
              "      <th>stressed</th>\n",
              "      <th>missed classes</th>\n",
              "      <th>smoke</th>\n",
              "      <th>Alcohol</th>\n",
              "      <th>got drunk</th>\n",
              "      <th>drugs</th>\n",
              "      <th>Have you ever thought of attempting suicide?</th>\n",
              "      <th>bad experience</th>\n",
              "    </tr>\n",
              "  </thead>\n",
              "  <tbody>\n",
              "    <tr>\n",
              "      <th>0</th>\n",
              "      <td>23</td>\n",
              "      <td>Male</td>\n",
              "      <td>More than 70</td>\n",
              "      <td>Yes</td>\n",
              "      <td>Yes</td>\n",
              "      <td>No</td>\n",
              "      <td>Yes</td>\n",
              "      <td>No</td>\n",
              "      <td>No</td>\n",
              "      <td>Yes</td>\n",
              "      <td>Yes</td>\n",
              "      <td>No</td>\n",
              "      <td>No</td>\n",
              "      <td>No</td>\n",
              "      <td>Yes</td>\n",
              "      <td>NO</td>\n",
              "      <td>No</td>\n",
              "    </tr>\n",
              "    <tr>\n",
              "      <th>1</th>\n",
              "      <td>31</td>\n",
              "      <td>Male</td>\n",
              "      <td>50 - 60</td>\n",
              "      <td>No</td>\n",
              "      <td>No</td>\n",
              "      <td>Yes</td>\n",
              "      <td>No</td>\n",
              "      <td>No</td>\n",
              "      <td>Yes</td>\n",
              "      <td>No</td>\n",
              "      <td>Yes</td>\n",
              "      <td>No</td>\n",
              "      <td>Yes</td>\n",
              "      <td>Yes</td>\n",
              "      <td>No</td>\n",
              "      <td>Yes</td>\n",
              "      <td>No</td>\n",
              "    </tr>\n",
              "    <tr>\n",
              "      <th>2</th>\n",
              "      <td>22</td>\n",
              "      <td>Male</td>\n",
              "      <td>60 - 70</td>\n",
              "      <td>Yes</td>\n",
              "      <td>Yes</td>\n",
              "      <td>No</td>\n",
              "      <td>No</td>\n",
              "      <td>No</td>\n",
              "      <td>No</td>\n",
              "      <td>No</td>\n",
              "      <td>No</td>\n",
              "      <td>No</td>\n",
              "      <td>No</td>\n",
              "      <td>No</td>\n",
              "      <td>No</td>\n",
              "      <td>NO</td>\n",
              "      <td>No</td>\n",
              "    </tr>\n",
              "    <tr>\n",
              "      <th>3</th>\n",
              "      <td>42</td>\n",
              "      <td>Female</td>\n",
              "      <td>60 - 70</td>\n",
              "      <td>Yes</td>\n",
              "      <td>Yes</td>\n",
              "      <td>No</td>\n",
              "      <td>No</td>\n",
              "      <td>Yes</td>\n",
              "      <td>Yes</td>\n",
              "      <td>No</td>\n",
              "      <td>Yes</td>\n",
              "      <td>Yes</td>\n",
              "      <td>Yes</td>\n",
              "      <td>No</td>\n",
              "      <td>No</td>\n",
              "      <td>NO</td>\n",
              "      <td>No</td>\n",
              "    </tr>\n",
              "    <tr>\n",
              "      <th>4</th>\n",
              "      <td>43</td>\n",
              "      <td>Male</td>\n",
              "      <td>60 - 70</td>\n",
              "      <td>No</td>\n",
              "      <td>No</td>\n",
              "      <td>No</td>\n",
              "      <td>Yes</td>\n",
              "      <td>Yes</td>\n",
              "      <td>No</td>\n",
              "      <td>No</td>\n",
              "      <td>No</td>\n",
              "      <td>No</td>\n",
              "      <td>No</td>\n",
              "      <td>No</td>\n",
              "      <td>No</td>\n",
              "      <td>NO</td>\n",
              "      <td>No</td>\n",
              "    </tr>\n",
              "    <tr>\n",
              "      <th>...</th>\n",
              "      <td>...</td>\n",
              "      <td>...</td>\n",
              "      <td>...</td>\n",
              "      <td>...</td>\n",
              "      <td>...</td>\n",
              "      <td>...</td>\n",
              "      <td>...</td>\n",
              "      <td>...</td>\n",
              "      <td>...</td>\n",
              "      <td>...</td>\n",
              "      <td>...</td>\n",
              "      <td>...</td>\n",
              "      <td>...</td>\n",
              "      <td>...</td>\n",
              "      <td>...</td>\n",
              "      <td>...</td>\n",
              "      <td>...</td>\n",
              "    </tr>\n",
              "    <tr>\n",
              "      <th>2074</th>\n",
              "      <td>30</td>\n",
              "      <td>Female</td>\n",
              "      <td>50 - 60</td>\n",
              "      <td>Yes</td>\n",
              "      <td>Yes</td>\n",
              "      <td>No</td>\n",
              "      <td>No</td>\n",
              "      <td>Yes</td>\n",
              "      <td>No</td>\n",
              "      <td>Yes</td>\n",
              "      <td>No</td>\n",
              "      <td>No</td>\n",
              "      <td>No</td>\n",
              "      <td>Yes</td>\n",
              "      <td>No</td>\n",
              "      <td>NO</td>\n",
              "      <td>No</td>\n",
              "    </tr>\n",
              "    <tr>\n",
              "      <th>2075</th>\n",
              "      <td>30</td>\n",
              "      <td>Female</td>\n",
              "      <td>50 - 60</td>\n",
              "      <td>Yes</td>\n",
              "      <td>Yes</td>\n",
              "      <td>No</td>\n",
              "      <td>No</td>\n",
              "      <td>Yes</td>\n",
              "      <td>No</td>\n",
              "      <td>Yes</td>\n",
              "      <td>No</td>\n",
              "      <td>No</td>\n",
              "      <td>No</td>\n",
              "      <td>Yes</td>\n",
              "      <td>No</td>\n",
              "      <td>NO</td>\n",
              "      <td>No</td>\n",
              "    </tr>\n",
              "    <tr>\n",
              "      <th>2076</th>\n",
              "      <td>24</td>\n",
              "      <td>Female</td>\n",
              "      <td>60 - 70</td>\n",
              "      <td>Yes</td>\n",
              "      <td>No</td>\n",
              "      <td>No</td>\n",
              "      <td>Yes</td>\n",
              "      <td>No</td>\n",
              "      <td>Yes</td>\n",
              "      <td>No</td>\n",
              "      <td>No</td>\n",
              "      <td>No</td>\n",
              "      <td>No</td>\n",
              "      <td>No</td>\n",
              "      <td>No</td>\n",
              "      <td>NO</td>\n",
              "      <td>No</td>\n",
              "    </tr>\n",
              "    <tr>\n",
              "      <th>2077</th>\n",
              "      <td>31</td>\n",
              "      <td>Male</td>\n",
              "      <td>50 - 60</td>\n",
              "      <td>No</td>\n",
              "      <td>No</td>\n",
              "      <td>Yes</td>\n",
              "      <td>No</td>\n",
              "      <td>No</td>\n",
              "      <td>Yes</td>\n",
              "      <td>No</td>\n",
              "      <td>Yes</td>\n",
              "      <td>No</td>\n",
              "      <td>Yes</td>\n",
              "      <td>Yes</td>\n",
              "      <td>No</td>\n",
              "      <td>Yes</td>\n",
              "      <td>No</td>\n",
              "    </tr>\n",
              "    <tr>\n",
              "      <th>2078</th>\n",
              "      <td>39</td>\n",
              "      <td>Male</td>\n",
              "      <td>50 - 60</td>\n",
              "      <td>No</td>\n",
              "      <td>Yes</td>\n",
              "      <td>Yes</td>\n",
              "      <td>No</td>\n",
              "      <td>No</td>\n",
              "      <td>Yes</td>\n",
              "      <td>No</td>\n",
              "      <td>No</td>\n",
              "      <td>Yes</td>\n",
              "      <td>No</td>\n",
              "      <td>No</td>\n",
              "      <td>Yes</td>\n",
              "      <td>NO</td>\n",
              "      <td>No</td>\n",
              "    </tr>\n",
              "  </tbody>\n",
              "</table>\n",
              "<p>2079 rows × 17 columns</p>\n",
              "</div>\n",
              "      <button class=\"colab-df-convert\" onclick=\"convertToInteractive('df-88d59797-1204-4fd9-a951-fc3690e8ba08')\"\n",
              "              title=\"Convert this dataframe to an interactive table.\"\n",
              "              style=\"display:none;\">\n",
              "        \n",
              "  <svg xmlns=\"http://www.w3.org/2000/svg\" height=\"24px\"viewBox=\"0 0 24 24\"\n",
              "       width=\"24px\">\n",
              "    <path d=\"M0 0h24v24H0V0z\" fill=\"none\"/>\n",
              "    <path d=\"M18.56 5.44l.94 2.06.94-2.06 2.06-.94-2.06-.94-.94-2.06-.94 2.06-2.06.94zm-11 1L8.5 8.5l.94-2.06 2.06-.94-2.06-.94L8.5 2.5l-.94 2.06-2.06.94zm10 10l.94 2.06.94-2.06 2.06-.94-2.06-.94-.94-2.06-.94 2.06-2.06.94z\"/><path d=\"M17.41 7.96l-1.37-1.37c-.4-.4-.92-.59-1.43-.59-.52 0-1.04.2-1.43.59L10.3 9.45l-7.72 7.72c-.78.78-.78 2.05 0 2.83L4 21.41c.39.39.9.59 1.41.59.51 0 1.02-.2 1.41-.59l7.78-7.78 2.81-2.81c.8-.78.8-2.07 0-2.86zM5.41 20L4 18.59l7.72-7.72 1.47 1.35L5.41 20z\"/>\n",
              "  </svg>\n",
              "      </button>\n",
              "      \n",
              "  <style>\n",
              "    .colab-df-container {\n",
              "      display:flex;\n",
              "      flex-wrap:wrap;\n",
              "      gap: 12px;\n",
              "    }\n",
              "\n",
              "    .colab-df-convert {\n",
              "      background-color: #E8F0FE;\n",
              "      border: none;\n",
              "      border-radius: 50%;\n",
              "      cursor: pointer;\n",
              "      display: none;\n",
              "      fill: #1967D2;\n",
              "      height: 32px;\n",
              "      padding: 0 0 0 0;\n",
              "      width: 32px;\n",
              "    }\n",
              "\n",
              "    .colab-df-convert:hover {\n",
              "      background-color: #E2EBFA;\n",
              "      box-shadow: 0px 1px 2px rgba(60, 64, 67, 0.3), 0px 1px 3px 1px rgba(60, 64, 67, 0.15);\n",
              "      fill: #174EA6;\n",
              "    }\n",
              "\n",
              "    [theme=dark] .colab-df-convert {\n",
              "      background-color: #3B4455;\n",
              "      fill: #D2E3FC;\n",
              "    }\n",
              "\n",
              "    [theme=dark] .colab-df-convert:hover {\n",
              "      background-color: #434B5C;\n",
              "      box-shadow: 0px 1px 3px 1px rgba(0, 0, 0, 0.15);\n",
              "      filter: drop-shadow(0px 1px 2px rgba(0, 0, 0, 0.3));\n",
              "      fill: #FFFFFF;\n",
              "    }\n",
              "  </style>\n",
              "\n",
              "      <script>\n",
              "        const buttonEl =\n",
              "          document.querySelector('#df-88d59797-1204-4fd9-a951-fc3690e8ba08 button.colab-df-convert');\n",
              "        buttonEl.style.display =\n",
              "          google.colab.kernel.accessAllowed ? 'block' : 'none';\n",
              "\n",
              "        async function convertToInteractive(key) {\n",
              "          const element = document.querySelector('#df-88d59797-1204-4fd9-a951-fc3690e8ba08');\n",
              "          const dataTable =\n",
              "            await google.colab.kernel.invokeFunction('convertToInteractive',\n",
              "                                                     [key], {});\n",
              "          if (!dataTable) return;\n",
              "\n",
              "          const docLinkHtml = 'Like what you see? Visit the ' +\n",
              "            '<a target=\"_blank\" href=https://colab.research.google.com/notebooks/data_table.ipynb>data table notebook</a>'\n",
              "            + ' to learn more about interactive tables.';\n",
              "          element.innerHTML = '';\n",
              "          dataTable['output_type'] = 'display_data';\n",
              "          await google.colab.output.renderOutput(dataTable, element);\n",
              "          const docLink = document.createElement('div');\n",
              "          docLink.innerHTML = docLinkHtml;\n",
              "          element.appendChild(docLink);\n",
              "        }\n",
              "      </script>\n",
              "    </div>\n",
              "  </div>\n",
              "  "
            ]
          },
          "metadata": {},
          "execution_count": 40
        }
      ]
    },
    {
      "cell_type": "code",
      "source": [
        "data.isna().sum()"
      ],
      "metadata": {
        "colab": {
          "base_uri": "https://localhost:8080/"
        },
        "id": "o0mcouzVu0et",
        "outputId": "e005a406-b77b-4f27-d78f-99c383046cfc"
      },
      "execution_count": null,
      "outputs": [
        {
          "output_type": "execute_result",
          "data": {
            "text/plain": [
              "Age                                             0\n",
              "Gender                                          0\n",
              "Weight                                          0\n",
              "friends/Relatives                               0\n",
              "understanding parents                           0\n",
              "injury                                          0\n",
              "fights                                          0\n",
              "bullied                                         0\n",
              "toxic relationship                              0\n",
              "stressed                                        0\n",
              "missed classes                                  0\n",
              "smoke                                           0\n",
              "Alcohol                                         0\n",
              "got drunk                                       0\n",
              "drugs                                           0\n",
              "Have you ever thought of attempting suicide?    0\n",
              "bad experience                                  0\n",
              "dtype: int64"
            ]
          },
          "metadata": {},
          "execution_count": 41
        }
      ]
    },
    {
      "cell_type": "code",
      "source": [
        "{column: len(data[column].unique()) for column in data.select_dtypes('object').columns}"
      ],
      "metadata": {
        "colab": {
          "base_uri": "https://localhost:8080/"
        },
        "id": "SjE0Srnqu2gJ",
        "outputId": "baa3e517-eb9a-4f4e-b757-e9af1842a15b"
      },
      "execution_count": null,
      "outputs": [
        {
          "output_type": "execute_result",
          "data": {
            "text/plain": [
              "{'Gender': 2,\n",
              " 'Weight': 4,\n",
              " 'friends/Relatives': 2,\n",
              " 'understanding parents': 2,\n",
              " 'injury': 2,\n",
              " 'fights': 2,\n",
              " 'bullied': 2,\n",
              " 'toxic relationship': 2,\n",
              " 'stressed': 2,\n",
              " 'missed classes': 2,\n",
              " 'smoke': 2,\n",
              " 'Alcohol': 2,\n",
              " 'got drunk': 2,\n",
              " 'drugs': 2,\n",
              " 'Have you ever thought of attempting suicide?': 2,\n",
              " 'bad experience': 11}"
            ]
          },
          "metadata": {},
          "execution_count": 42
        }
      ]
    },
    {
      "cell_type": "code",
      "source": [
        "{column: list(data[column].unique()) for column in data.select_dtypes('object').columns}"
      ],
      "metadata": {
        "colab": {
          "base_uri": "https://localhost:8080/"
        },
        "id": "cLPOWz23u5Ac",
        "outputId": "b1cb3730-1864-461e-b817-901120417ff5"
      },
      "execution_count": null,
      "outputs": [
        {
          "output_type": "execute_result",
          "data": {
            "text/plain": [
              "{'Gender': ['Male', 'Female'],\n",
              " 'Weight': ['More than 70', '50 - 60', '60 - 70', '50-60'],\n",
              " 'friends/Relatives': ['Yes', 'No'],\n",
              " 'understanding parents': ['Yes', 'No'],\n",
              " 'injury': ['No', 'Yes'],\n",
              " 'fights': ['Yes', 'No'],\n",
              " 'bullied': ['No', 'Yes'],\n",
              " 'toxic relationship': ['No', 'Yes'],\n",
              " 'stressed': ['Yes', 'No'],\n",
              " 'missed classes': ['Yes', 'No'],\n",
              " 'smoke': ['No', 'Yes'],\n",
              " 'Alcohol': ['No', 'Yes'],\n",
              " 'got drunk': ['No', 'Yes'],\n",
              " 'drugs': ['Yes', 'No'],\n",
              " 'Have you ever thought of attempting suicide?': ['NO', 'Yes'],\n",
              " 'bad experience': ['No',\n",
              "  'Many more ',\n",
              "  'Relationship issue',\n",
              "  'Many more',\n",
              "  'Got bullied for 2 years in school',\n",
              "  'I hate dogs',\n",
              "  'During 12 boards exam time. \"Breakup\"',\n",
              "  'When my mother was dead ',\n",
              "  \"My mother's death \",\n",
              "  'NO',\n",
              "  'Corona virus ']}"
            ]
          },
          "metadata": {},
          "execution_count": 43
        }
      ]
    },
    {
      "cell_type": "code",
      "source": [
        "def encode_gender(x):\n",
        "    if x.lower()[0] == 'f':\n",
        "        return 0\n",
        "    elif x.lower()[0] == 'm':\n",
        "        return 1\n",
        "    else:\n",
        "        return 2"
      ],
      "metadata": {
        "id": "6a0HX34Uu8NE"
      },
      "execution_count": null,
      "outputs": []
    },
    {
      "cell_type": "code",
      "source": [
        "data['Gender'] = data['Gender'].apply(encode_gender)\n"
      ],
      "metadata": {
        "id": "_Df0o-QRu-0U"
      },
      "execution_count": null,
      "outputs": []
    },
    {
      "cell_type": "code",
      "source": [
        "data"
      ],
      "metadata": {
        "colab": {
          "base_uri": "https://localhost:8080/",
          "height": 591
        },
        "id": "1LBEFmBCvAAd",
        "outputId": "5f3bf8fd-3569-45f3-b8ae-35937e30d7ac"
      },
      "execution_count": null,
      "outputs": [
        {
          "output_type": "execute_result",
          "data": {
            "text/plain": [
              "      Age  Gender        Weight friends/Relatives understanding parents  \\\n",
              "0      23       1  More than 70               Yes                   Yes   \n",
              "1      31       1       50 - 60                No                    No   \n",
              "2      22       1       60 - 70               Yes                   Yes   \n",
              "3      42       0       60 - 70               Yes                   Yes   \n",
              "4      43       1       60 - 70                No                    No   \n",
              "...   ...     ...           ...               ...                   ...   \n",
              "2074   30       0       50 - 60               Yes                   Yes   \n",
              "2075   30       0       50 - 60               Yes                   Yes   \n",
              "2076   24       0       60 - 70               Yes                    No   \n",
              "2077   31       1       50 - 60                No                    No   \n",
              "2078   39       1       50 - 60                No                   Yes   \n",
              "\n",
              "     injury fights bullied toxic relationship stressed missed classes smoke  \\\n",
              "0        No    Yes      No                 No      Yes            Yes    No   \n",
              "1       Yes     No      No                Yes       No            Yes    No   \n",
              "2        No     No      No                 No       No             No    No   \n",
              "3        No     No     Yes                Yes       No            Yes   Yes   \n",
              "4        No    Yes     Yes                 No       No             No    No   \n",
              "...     ...    ...     ...                ...      ...            ...   ...   \n",
              "2074     No     No     Yes                 No      Yes             No    No   \n",
              "2075     No     No     Yes                 No      Yes             No    No   \n",
              "2076     No    Yes      No                Yes       No             No    No   \n",
              "2077    Yes     No      No                Yes       No            Yes    No   \n",
              "2078    Yes     No      No                Yes       No             No   Yes   \n",
              "\n",
              "     Alcohol got drunk drugs Have you ever thought of attempting suicide?  \\\n",
              "0         No        No   Yes                                           NO   \n",
              "1        Yes       Yes    No                                          Yes   \n",
              "2         No        No    No                                           NO   \n",
              "3        Yes        No    No                                           NO   \n",
              "4         No        No    No                                           NO   \n",
              "...      ...       ...   ...                                          ...   \n",
              "2074      No       Yes    No                                           NO   \n",
              "2075      No       Yes    No                                           NO   \n",
              "2076      No        No    No                                           NO   \n",
              "2077     Yes       Yes    No                                          Yes   \n",
              "2078      No        No   Yes                                           NO   \n",
              "\n",
              "     bad experience  \n",
              "0                No  \n",
              "1                No  \n",
              "2                No  \n",
              "3                No  \n",
              "4                No  \n",
              "...             ...  \n",
              "2074             No  \n",
              "2075             No  \n",
              "2076             No  \n",
              "2077             No  \n",
              "2078             No  \n",
              "\n",
              "[2079 rows x 17 columns]"
            ],
            "text/html": [
              "\n",
              "  <div id=\"df-dcb5d614-3c11-45cb-8763-7a8b9590aafb\">\n",
              "    <div class=\"colab-df-container\">\n",
              "      <div>\n",
              "<style scoped>\n",
              "    .dataframe tbody tr th:only-of-type {\n",
              "        vertical-align: middle;\n",
              "    }\n",
              "\n",
              "    .dataframe tbody tr th {\n",
              "        vertical-align: top;\n",
              "    }\n",
              "\n",
              "    .dataframe thead th {\n",
              "        text-align: right;\n",
              "    }\n",
              "</style>\n",
              "<table border=\"1\" class=\"dataframe\">\n",
              "  <thead>\n",
              "    <tr style=\"text-align: right;\">\n",
              "      <th></th>\n",
              "      <th>Age</th>\n",
              "      <th>Gender</th>\n",
              "      <th>Weight</th>\n",
              "      <th>friends/Relatives</th>\n",
              "      <th>understanding parents</th>\n",
              "      <th>injury</th>\n",
              "      <th>fights</th>\n",
              "      <th>bullied</th>\n",
              "      <th>toxic relationship</th>\n",
              "      <th>stressed</th>\n",
              "      <th>missed classes</th>\n",
              "      <th>smoke</th>\n",
              "      <th>Alcohol</th>\n",
              "      <th>got drunk</th>\n",
              "      <th>drugs</th>\n",
              "      <th>Have you ever thought of attempting suicide?</th>\n",
              "      <th>bad experience</th>\n",
              "    </tr>\n",
              "  </thead>\n",
              "  <tbody>\n",
              "    <tr>\n",
              "      <th>0</th>\n",
              "      <td>23</td>\n",
              "      <td>1</td>\n",
              "      <td>More than 70</td>\n",
              "      <td>Yes</td>\n",
              "      <td>Yes</td>\n",
              "      <td>No</td>\n",
              "      <td>Yes</td>\n",
              "      <td>No</td>\n",
              "      <td>No</td>\n",
              "      <td>Yes</td>\n",
              "      <td>Yes</td>\n",
              "      <td>No</td>\n",
              "      <td>No</td>\n",
              "      <td>No</td>\n",
              "      <td>Yes</td>\n",
              "      <td>NO</td>\n",
              "      <td>No</td>\n",
              "    </tr>\n",
              "    <tr>\n",
              "      <th>1</th>\n",
              "      <td>31</td>\n",
              "      <td>1</td>\n",
              "      <td>50 - 60</td>\n",
              "      <td>No</td>\n",
              "      <td>No</td>\n",
              "      <td>Yes</td>\n",
              "      <td>No</td>\n",
              "      <td>No</td>\n",
              "      <td>Yes</td>\n",
              "      <td>No</td>\n",
              "      <td>Yes</td>\n",
              "      <td>No</td>\n",
              "      <td>Yes</td>\n",
              "      <td>Yes</td>\n",
              "      <td>No</td>\n",
              "      <td>Yes</td>\n",
              "      <td>No</td>\n",
              "    </tr>\n",
              "    <tr>\n",
              "      <th>2</th>\n",
              "      <td>22</td>\n",
              "      <td>1</td>\n",
              "      <td>60 - 70</td>\n",
              "      <td>Yes</td>\n",
              "      <td>Yes</td>\n",
              "      <td>No</td>\n",
              "      <td>No</td>\n",
              "      <td>No</td>\n",
              "      <td>No</td>\n",
              "      <td>No</td>\n",
              "      <td>No</td>\n",
              "      <td>No</td>\n",
              "      <td>No</td>\n",
              "      <td>No</td>\n",
              "      <td>No</td>\n",
              "      <td>NO</td>\n",
              "      <td>No</td>\n",
              "    </tr>\n",
              "    <tr>\n",
              "      <th>3</th>\n",
              "      <td>42</td>\n",
              "      <td>0</td>\n",
              "      <td>60 - 70</td>\n",
              "      <td>Yes</td>\n",
              "      <td>Yes</td>\n",
              "      <td>No</td>\n",
              "      <td>No</td>\n",
              "      <td>Yes</td>\n",
              "      <td>Yes</td>\n",
              "      <td>No</td>\n",
              "      <td>Yes</td>\n",
              "      <td>Yes</td>\n",
              "      <td>Yes</td>\n",
              "      <td>No</td>\n",
              "      <td>No</td>\n",
              "      <td>NO</td>\n",
              "      <td>No</td>\n",
              "    </tr>\n",
              "    <tr>\n",
              "      <th>4</th>\n",
              "      <td>43</td>\n",
              "      <td>1</td>\n",
              "      <td>60 - 70</td>\n",
              "      <td>No</td>\n",
              "      <td>No</td>\n",
              "      <td>No</td>\n",
              "      <td>Yes</td>\n",
              "      <td>Yes</td>\n",
              "      <td>No</td>\n",
              "      <td>No</td>\n",
              "      <td>No</td>\n",
              "      <td>No</td>\n",
              "      <td>No</td>\n",
              "      <td>No</td>\n",
              "      <td>No</td>\n",
              "      <td>NO</td>\n",
              "      <td>No</td>\n",
              "    </tr>\n",
              "    <tr>\n",
              "      <th>...</th>\n",
              "      <td>...</td>\n",
              "      <td>...</td>\n",
              "      <td>...</td>\n",
              "      <td>...</td>\n",
              "      <td>...</td>\n",
              "      <td>...</td>\n",
              "      <td>...</td>\n",
              "      <td>...</td>\n",
              "      <td>...</td>\n",
              "      <td>...</td>\n",
              "      <td>...</td>\n",
              "      <td>...</td>\n",
              "      <td>...</td>\n",
              "      <td>...</td>\n",
              "      <td>...</td>\n",
              "      <td>...</td>\n",
              "      <td>...</td>\n",
              "    </tr>\n",
              "    <tr>\n",
              "      <th>2074</th>\n",
              "      <td>30</td>\n",
              "      <td>0</td>\n",
              "      <td>50 - 60</td>\n",
              "      <td>Yes</td>\n",
              "      <td>Yes</td>\n",
              "      <td>No</td>\n",
              "      <td>No</td>\n",
              "      <td>Yes</td>\n",
              "      <td>No</td>\n",
              "      <td>Yes</td>\n",
              "      <td>No</td>\n",
              "      <td>No</td>\n",
              "      <td>No</td>\n",
              "      <td>Yes</td>\n",
              "      <td>No</td>\n",
              "      <td>NO</td>\n",
              "      <td>No</td>\n",
              "    </tr>\n",
              "    <tr>\n",
              "      <th>2075</th>\n",
              "      <td>30</td>\n",
              "      <td>0</td>\n",
              "      <td>50 - 60</td>\n",
              "      <td>Yes</td>\n",
              "      <td>Yes</td>\n",
              "      <td>No</td>\n",
              "      <td>No</td>\n",
              "      <td>Yes</td>\n",
              "      <td>No</td>\n",
              "      <td>Yes</td>\n",
              "      <td>No</td>\n",
              "      <td>No</td>\n",
              "      <td>No</td>\n",
              "      <td>Yes</td>\n",
              "      <td>No</td>\n",
              "      <td>NO</td>\n",
              "      <td>No</td>\n",
              "    </tr>\n",
              "    <tr>\n",
              "      <th>2076</th>\n",
              "      <td>24</td>\n",
              "      <td>0</td>\n",
              "      <td>60 - 70</td>\n",
              "      <td>Yes</td>\n",
              "      <td>No</td>\n",
              "      <td>No</td>\n",
              "      <td>Yes</td>\n",
              "      <td>No</td>\n",
              "      <td>Yes</td>\n",
              "      <td>No</td>\n",
              "      <td>No</td>\n",
              "      <td>No</td>\n",
              "      <td>No</td>\n",
              "      <td>No</td>\n",
              "      <td>No</td>\n",
              "      <td>NO</td>\n",
              "      <td>No</td>\n",
              "    </tr>\n",
              "    <tr>\n",
              "      <th>2077</th>\n",
              "      <td>31</td>\n",
              "      <td>1</td>\n",
              "      <td>50 - 60</td>\n",
              "      <td>No</td>\n",
              "      <td>No</td>\n",
              "      <td>Yes</td>\n",
              "      <td>No</td>\n",
              "      <td>No</td>\n",
              "      <td>Yes</td>\n",
              "      <td>No</td>\n",
              "      <td>Yes</td>\n",
              "      <td>No</td>\n",
              "      <td>Yes</td>\n",
              "      <td>Yes</td>\n",
              "      <td>No</td>\n",
              "      <td>Yes</td>\n",
              "      <td>No</td>\n",
              "    </tr>\n",
              "    <tr>\n",
              "      <th>2078</th>\n",
              "      <td>39</td>\n",
              "      <td>1</td>\n",
              "      <td>50 - 60</td>\n",
              "      <td>No</td>\n",
              "      <td>Yes</td>\n",
              "      <td>Yes</td>\n",
              "      <td>No</td>\n",
              "      <td>No</td>\n",
              "      <td>Yes</td>\n",
              "      <td>No</td>\n",
              "      <td>No</td>\n",
              "      <td>Yes</td>\n",
              "      <td>No</td>\n",
              "      <td>No</td>\n",
              "      <td>Yes</td>\n",
              "      <td>NO</td>\n",
              "      <td>No</td>\n",
              "    </tr>\n",
              "  </tbody>\n",
              "</table>\n",
              "<p>2079 rows × 17 columns</p>\n",
              "</div>\n",
              "      <button class=\"colab-df-convert\" onclick=\"convertToInteractive('df-dcb5d614-3c11-45cb-8763-7a8b9590aafb')\"\n",
              "              title=\"Convert this dataframe to an interactive table.\"\n",
              "              style=\"display:none;\">\n",
              "        \n",
              "  <svg xmlns=\"http://www.w3.org/2000/svg\" height=\"24px\"viewBox=\"0 0 24 24\"\n",
              "       width=\"24px\">\n",
              "    <path d=\"M0 0h24v24H0V0z\" fill=\"none\"/>\n",
              "    <path d=\"M18.56 5.44l.94 2.06.94-2.06 2.06-.94-2.06-.94-.94-2.06-.94 2.06-2.06.94zm-11 1L8.5 8.5l.94-2.06 2.06-.94-2.06-.94L8.5 2.5l-.94 2.06-2.06.94zm10 10l.94 2.06.94-2.06 2.06-.94-2.06-.94-.94-2.06-.94 2.06-2.06.94z\"/><path d=\"M17.41 7.96l-1.37-1.37c-.4-.4-.92-.59-1.43-.59-.52 0-1.04.2-1.43.59L10.3 9.45l-7.72 7.72c-.78.78-.78 2.05 0 2.83L4 21.41c.39.39.9.59 1.41.59.51 0 1.02-.2 1.41-.59l7.78-7.78 2.81-2.81c.8-.78.8-2.07 0-2.86zM5.41 20L4 18.59l7.72-7.72 1.47 1.35L5.41 20z\"/>\n",
              "  </svg>\n",
              "      </button>\n",
              "      \n",
              "  <style>\n",
              "    .colab-df-container {\n",
              "      display:flex;\n",
              "      flex-wrap:wrap;\n",
              "      gap: 12px;\n",
              "    }\n",
              "\n",
              "    .colab-df-convert {\n",
              "      background-color: #E8F0FE;\n",
              "      border: none;\n",
              "      border-radius: 50%;\n",
              "      cursor: pointer;\n",
              "      display: none;\n",
              "      fill: #1967D2;\n",
              "      height: 32px;\n",
              "      padding: 0 0 0 0;\n",
              "      width: 32px;\n",
              "    }\n",
              "\n",
              "    .colab-df-convert:hover {\n",
              "      background-color: #E2EBFA;\n",
              "      box-shadow: 0px 1px 2px rgba(60, 64, 67, 0.3), 0px 1px 3px 1px rgba(60, 64, 67, 0.15);\n",
              "      fill: #174EA6;\n",
              "    }\n",
              "\n",
              "    [theme=dark] .colab-df-convert {\n",
              "      background-color: #3B4455;\n",
              "      fill: #D2E3FC;\n",
              "    }\n",
              "\n",
              "    [theme=dark] .colab-df-convert:hover {\n",
              "      background-color: #434B5C;\n",
              "      box-shadow: 0px 1px 3px 1px rgba(0, 0, 0, 0.15);\n",
              "      filter: drop-shadow(0px 1px 2px rgba(0, 0, 0, 0.3));\n",
              "      fill: #FFFFFF;\n",
              "    }\n",
              "  </style>\n",
              "\n",
              "      <script>\n",
              "        const buttonEl =\n",
              "          document.querySelector('#df-dcb5d614-3c11-45cb-8763-7a8b9590aafb button.colab-df-convert');\n",
              "        buttonEl.style.display =\n",
              "          google.colab.kernel.accessAllowed ? 'block' : 'none';\n",
              "\n",
              "        async function convertToInteractive(key) {\n",
              "          const element = document.querySelector('#df-dcb5d614-3c11-45cb-8763-7a8b9590aafb');\n",
              "          const dataTable =\n",
              "            await google.colab.kernel.invokeFunction('convertToInteractive',\n",
              "                                                     [key], {});\n",
              "          if (!dataTable) return;\n",
              "\n",
              "          const docLinkHtml = 'Like what you see? Visit the ' +\n",
              "            '<a target=\"_blank\" href=https://colab.research.google.com/notebooks/data_table.ipynb>data table notebook</a>'\n",
              "            + ' to learn more about interactive tables.';\n",
              "          element.innerHTML = '';\n",
              "          dataTable['output_type'] = 'display_data';\n",
              "          await google.colab.output.renderOutput(dataTable, element);\n",
              "          const docLink = document.createElement('div');\n",
              "          docLink.innerHTML = docLinkHtml;\n",
              "          element.appendChild(docLink);\n",
              "        }\n",
              "      </script>\n",
              "    </div>\n",
              "  </div>\n",
              "  "
            ]
          },
          "metadata": {},
          "execution_count": 46
        }
      ]
    },
    {
      "cell_type": "code",
      "source": [
        "target='Have you ever thought of attempting suicide?'\n",
        "\n",
        "\n",
        "binary_features = [\n",
        "    'friends/Relatives',\n",
        "    'understanding parents',\n",
        "    'injury',\n",
        "    'fights',\n",
        "    'bullied',\n",
        "    'toxic relationship',\n",
        "    'stressed',\n",
        "    'missed classes',\n",
        "    'smoke',\n",
        "    'Alcohol',\n",
        "    'got drunk',\n",
        "    'drugs',\n",
        "    'bad experience'\n",
        "\n",
        "]\n",
        "\n",
        "ordinal_features = [\n",
        "    'Weight'\n",
        "]"
      ],
      "metadata": {
        "id": "rW8vfkTKvEyv"
      },
      "execution_count": null,
      "outputs": []
    },
    {
      "cell_type": "code",
      "source": [
        "def binary_encode(df, columns, positive_values):\n",
        "    df = df.copy()\n",
        "    for column, positive_value in zip(columns, positive_values):\n",
        "        df[column] = df[column].apply(lambda x: 1 if x == positive_value else 0)\n",
        "    return df\n",
        "\n",
        "def ordinal_encode(df, columns, orderings):\n",
        "    df = df.copy()\n",
        "    for column, ordering in zip(columns, orderings):\n",
        "        df[column] = df[column].apply(lambda x: ordering.index(x))\n",
        "    return df\n"
      ],
      "metadata": {
        "id": "w9OKVYOmvHF2"
      },
      "execution_count": null,
      "outputs": []
    },
    {
      "cell_type": "code",
      "source": [
        "binary_positive_values = ['Yes' for feature in binary_features]\n",
        "\n",
        "ordinal_orderings = [\n",
        "    ['More than 70', '50 - 60', '60 - 70', '50-60']\n",
        "]"
      ],
      "metadata": {
        "id": "pafVRTw_vKDz"
      },
      "execution_count": null,
      "outputs": []
    },
    {
      "cell_type": "code",
      "source": [
        "data = binary_encode(\n",
        "    data,\n",
        "    columns=binary_features,\n",
        "    positive_values=binary_positive_values\n",
        ")\n",
        "data = ordinal_encode(\n",
        "    data,\n",
        "    columns=ordinal_features,\n",
        "    orderings=ordinal_orderings\n",
        ")\n"
      ],
      "metadata": {
        "id": "Md3ZK7i6vNUu"
      },
      "execution_count": null,
      "outputs": []
    },
    {
      "cell_type": "code",
      "source": [
        "data"
      ],
      "metadata": {
        "colab": {
          "base_uri": "https://localhost:8080/",
          "height": 557
        },
        "id": "YYw1rIugvPD-",
        "outputId": "b5dcea33-2df3-4d4b-847c-c5885ee8471e"
      },
      "execution_count": null,
      "outputs": [
        {
          "output_type": "execute_result",
          "data": {
            "text/plain": [
              "      Age  Gender  Weight  friends/Relatives  understanding parents  injury  \\\n",
              "0      23       1       0                  1                      1       0   \n",
              "1      31       1       1                  0                      0       1   \n",
              "2      22       1       2                  1                      1       0   \n",
              "3      42       0       2                  1                      1       0   \n",
              "4      43       1       2                  0                      0       0   \n",
              "...   ...     ...     ...                ...                    ...     ...   \n",
              "2074   30       0       1                  1                      1       0   \n",
              "2075   30       0       1                  1                      1       0   \n",
              "2076   24       0       2                  1                      0       0   \n",
              "2077   31       1       1                  0                      0       1   \n",
              "2078   39       1       1                  0                      1       1   \n",
              "\n",
              "      fights  bullied  toxic relationship  stressed  missed classes  smoke  \\\n",
              "0          1        0                   0         1               1      0   \n",
              "1          0        0                   1         0               1      0   \n",
              "2          0        0                   0         0               0      0   \n",
              "3          0        1                   1         0               1      1   \n",
              "4          1        1                   0         0               0      0   \n",
              "...      ...      ...                 ...       ...             ...    ...   \n",
              "2074       0        1                   0         1               0      0   \n",
              "2075       0        1                   0         1               0      0   \n",
              "2076       1        0                   1         0               0      0   \n",
              "2077       0        0                   1         0               1      0   \n",
              "2078       0        0                   1         0               0      1   \n",
              "\n",
              "      Alcohol  got drunk  drugs  Have you ever thought of attempting suicide?  \\\n",
              "0           0          0      1                                             0   \n",
              "1           1          1      0                                             1   \n",
              "2           0          0      0                                             0   \n",
              "3           1          0      0                                             0   \n",
              "4           0          0      0                                             0   \n",
              "...       ...        ...    ...                                           ...   \n",
              "2074        0          1      0                                             0   \n",
              "2075        0          1      0                                             0   \n",
              "2076        0          0      0                                             0   \n",
              "2077        1          1      0                                             1   \n",
              "2078        0          0      1                                             0   \n",
              "\n",
              "      bad experience  \n",
              "0                  0  \n",
              "1                  0  \n",
              "2                  0  \n",
              "3                  0  \n",
              "4                  0  \n",
              "...              ...  \n",
              "2074               0  \n",
              "2075               0  \n",
              "2076               0  \n",
              "2077               0  \n",
              "2078               0  \n",
              "\n",
              "[2079 rows x 17 columns]"
            ],
            "text/html": [
              "\n",
              "  <div id=\"df-22d36be8-1253-4291-92c5-7b0d053c212c\">\n",
              "    <div class=\"colab-df-container\">\n",
              "      <div>\n",
              "<style scoped>\n",
              "    .dataframe tbody tr th:only-of-type {\n",
              "        vertical-align: middle;\n",
              "    }\n",
              "\n",
              "    .dataframe tbody tr th {\n",
              "        vertical-align: top;\n",
              "    }\n",
              "\n",
              "    .dataframe thead th {\n",
              "        text-align: right;\n",
              "    }\n",
              "</style>\n",
              "<table border=\"1\" class=\"dataframe\">\n",
              "  <thead>\n",
              "    <tr style=\"text-align: right;\">\n",
              "      <th></th>\n",
              "      <th>Age</th>\n",
              "      <th>Gender</th>\n",
              "      <th>Weight</th>\n",
              "      <th>friends/Relatives</th>\n",
              "      <th>understanding parents</th>\n",
              "      <th>injury</th>\n",
              "      <th>fights</th>\n",
              "      <th>bullied</th>\n",
              "      <th>toxic relationship</th>\n",
              "      <th>stressed</th>\n",
              "      <th>missed classes</th>\n",
              "      <th>smoke</th>\n",
              "      <th>Alcohol</th>\n",
              "      <th>got drunk</th>\n",
              "      <th>drugs</th>\n",
              "      <th>Have you ever thought of attempting suicide?</th>\n",
              "      <th>bad experience</th>\n",
              "    </tr>\n",
              "  </thead>\n",
              "  <tbody>\n",
              "    <tr>\n",
              "      <th>0</th>\n",
              "      <td>23</td>\n",
              "      <td>1</td>\n",
              "      <td>0</td>\n",
              "      <td>1</td>\n",
              "      <td>1</td>\n",
              "      <td>0</td>\n",
              "      <td>1</td>\n",
              "      <td>0</td>\n",
              "      <td>0</td>\n",
              "      <td>1</td>\n",
              "      <td>1</td>\n",
              "      <td>0</td>\n",
              "      <td>0</td>\n",
              "      <td>0</td>\n",
              "      <td>1</td>\n",
              "      <td>0</td>\n",
              "      <td>0</td>\n",
              "    </tr>\n",
              "    <tr>\n",
              "      <th>1</th>\n",
              "      <td>31</td>\n",
              "      <td>1</td>\n",
              "      <td>1</td>\n",
              "      <td>0</td>\n",
              "      <td>0</td>\n",
              "      <td>1</td>\n",
              "      <td>0</td>\n",
              "      <td>0</td>\n",
              "      <td>1</td>\n",
              "      <td>0</td>\n",
              "      <td>1</td>\n",
              "      <td>0</td>\n",
              "      <td>1</td>\n",
              "      <td>1</td>\n",
              "      <td>0</td>\n",
              "      <td>1</td>\n",
              "      <td>0</td>\n",
              "    </tr>\n",
              "    <tr>\n",
              "      <th>2</th>\n",
              "      <td>22</td>\n",
              "      <td>1</td>\n",
              "      <td>2</td>\n",
              "      <td>1</td>\n",
              "      <td>1</td>\n",
              "      <td>0</td>\n",
              "      <td>0</td>\n",
              "      <td>0</td>\n",
              "      <td>0</td>\n",
              "      <td>0</td>\n",
              "      <td>0</td>\n",
              "      <td>0</td>\n",
              "      <td>0</td>\n",
              "      <td>0</td>\n",
              "      <td>0</td>\n",
              "      <td>0</td>\n",
              "      <td>0</td>\n",
              "    </tr>\n",
              "    <tr>\n",
              "      <th>3</th>\n",
              "      <td>42</td>\n",
              "      <td>0</td>\n",
              "      <td>2</td>\n",
              "      <td>1</td>\n",
              "      <td>1</td>\n",
              "      <td>0</td>\n",
              "      <td>0</td>\n",
              "      <td>1</td>\n",
              "      <td>1</td>\n",
              "      <td>0</td>\n",
              "      <td>1</td>\n",
              "      <td>1</td>\n",
              "      <td>1</td>\n",
              "      <td>0</td>\n",
              "      <td>0</td>\n",
              "      <td>0</td>\n",
              "      <td>0</td>\n",
              "    </tr>\n",
              "    <tr>\n",
              "      <th>4</th>\n",
              "      <td>43</td>\n",
              "      <td>1</td>\n",
              "      <td>2</td>\n",
              "      <td>0</td>\n",
              "      <td>0</td>\n",
              "      <td>0</td>\n",
              "      <td>1</td>\n",
              "      <td>1</td>\n",
              "      <td>0</td>\n",
              "      <td>0</td>\n",
              "      <td>0</td>\n",
              "      <td>0</td>\n",
              "      <td>0</td>\n",
              "      <td>0</td>\n",
              "      <td>0</td>\n",
              "      <td>0</td>\n",
              "      <td>0</td>\n",
              "    </tr>\n",
              "    <tr>\n",
              "      <th>...</th>\n",
              "      <td>...</td>\n",
              "      <td>...</td>\n",
              "      <td>...</td>\n",
              "      <td>...</td>\n",
              "      <td>...</td>\n",
              "      <td>...</td>\n",
              "      <td>...</td>\n",
              "      <td>...</td>\n",
              "      <td>...</td>\n",
              "      <td>...</td>\n",
              "      <td>...</td>\n",
              "      <td>...</td>\n",
              "      <td>...</td>\n",
              "      <td>...</td>\n",
              "      <td>...</td>\n",
              "      <td>...</td>\n",
              "      <td>...</td>\n",
              "    </tr>\n",
              "    <tr>\n",
              "      <th>2074</th>\n",
              "      <td>30</td>\n",
              "      <td>0</td>\n",
              "      <td>1</td>\n",
              "      <td>1</td>\n",
              "      <td>1</td>\n",
              "      <td>0</td>\n",
              "      <td>0</td>\n",
              "      <td>1</td>\n",
              "      <td>0</td>\n",
              "      <td>1</td>\n",
              "      <td>0</td>\n",
              "      <td>0</td>\n",
              "      <td>0</td>\n",
              "      <td>1</td>\n",
              "      <td>0</td>\n",
              "      <td>0</td>\n",
              "      <td>0</td>\n",
              "    </tr>\n",
              "    <tr>\n",
              "      <th>2075</th>\n",
              "      <td>30</td>\n",
              "      <td>0</td>\n",
              "      <td>1</td>\n",
              "      <td>1</td>\n",
              "      <td>1</td>\n",
              "      <td>0</td>\n",
              "      <td>0</td>\n",
              "      <td>1</td>\n",
              "      <td>0</td>\n",
              "      <td>1</td>\n",
              "      <td>0</td>\n",
              "      <td>0</td>\n",
              "      <td>0</td>\n",
              "      <td>1</td>\n",
              "      <td>0</td>\n",
              "      <td>0</td>\n",
              "      <td>0</td>\n",
              "    </tr>\n",
              "    <tr>\n",
              "      <th>2076</th>\n",
              "      <td>24</td>\n",
              "      <td>0</td>\n",
              "      <td>2</td>\n",
              "      <td>1</td>\n",
              "      <td>0</td>\n",
              "      <td>0</td>\n",
              "      <td>1</td>\n",
              "      <td>0</td>\n",
              "      <td>1</td>\n",
              "      <td>0</td>\n",
              "      <td>0</td>\n",
              "      <td>0</td>\n",
              "      <td>0</td>\n",
              "      <td>0</td>\n",
              "      <td>0</td>\n",
              "      <td>0</td>\n",
              "      <td>0</td>\n",
              "    </tr>\n",
              "    <tr>\n",
              "      <th>2077</th>\n",
              "      <td>31</td>\n",
              "      <td>1</td>\n",
              "      <td>1</td>\n",
              "      <td>0</td>\n",
              "      <td>0</td>\n",
              "      <td>1</td>\n",
              "      <td>0</td>\n",
              "      <td>0</td>\n",
              "      <td>1</td>\n",
              "      <td>0</td>\n",
              "      <td>1</td>\n",
              "      <td>0</td>\n",
              "      <td>1</td>\n",
              "      <td>1</td>\n",
              "      <td>0</td>\n",
              "      <td>1</td>\n",
              "      <td>0</td>\n",
              "    </tr>\n",
              "    <tr>\n",
              "      <th>2078</th>\n",
              "      <td>39</td>\n",
              "      <td>1</td>\n",
              "      <td>1</td>\n",
              "      <td>0</td>\n",
              "      <td>1</td>\n",
              "      <td>1</td>\n",
              "      <td>0</td>\n",
              "      <td>0</td>\n",
              "      <td>1</td>\n",
              "      <td>0</td>\n",
              "      <td>0</td>\n",
              "      <td>1</td>\n",
              "      <td>0</td>\n",
              "      <td>0</td>\n",
              "      <td>1</td>\n",
              "      <td>0</td>\n",
              "      <td>0</td>\n",
              "    </tr>\n",
              "  </tbody>\n",
              "</table>\n",
              "<p>2079 rows × 17 columns</p>\n",
              "</div>\n",
              "      <button class=\"colab-df-convert\" onclick=\"convertToInteractive('df-22d36be8-1253-4291-92c5-7b0d053c212c')\"\n",
              "              title=\"Convert this dataframe to an interactive table.\"\n",
              "              style=\"display:none;\">\n",
              "        \n",
              "  <svg xmlns=\"http://www.w3.org/2000/svg\" height=\"24px\"viewBox=\"0 0 24 24\"\n",
              "       width=\"24px\">\n",
              "    <path d=\"M0 0h24v24H0V0z\" fill=\"none\"/>\n",
              "    <path d=\"M18.56 5.44l.94 2.06.94-2.06 2.06-.94-2.06-.94-.94-2.06-.94 2.06-2.06.94zm-11 1L8.5 8.5l.94-2.06 2.06-.94-2.06-.94L8.5 2.5l-.94 2.06-2.06.94zm10 10l.94 2.06.94-2.06 2.06-.94-2.06-.94-.94-2.06-.94 2.06-2.06.94z\"/><path d=\"M17.41 7.96l-1.37-1.37c-.4-.4-.92-.59-1.43-.59-.52 0-1.04.2-1.43.59L10.3 9.45l-7.72 7.72c-.78.78-.78 2.05 0 2.83L4 21.41c.39.39.9.59 1.41.59.51 0 1.02-.2 1.41-.59l7.78-7.78 2.81-2.81c.8-.78.8-2.07 0-2.86zM5.41 20L4 18.59l7.72-7.72 1.47 1.35L5.41 20z\"/>\n",
              "  </svg>\n",
              "      </button>\n",
              "      \n",
              "  <style>\n",
              "    .colab-df-container {\n",
              "      display:flex;\n",
              "      flex-wrap:wrap;\n",
              "      gap: 12px;\n",
              "    }\n",
              "\n",
              "    .colab-df-convert {\n",
              "      background-color: #E8F0FE;\n",
              "      border: none;\n",
              "      border-radius: 50%;\n",
              "      cursor: pointer;\n",
              "      display: none;\n",
              "      fill: #1967D2;\n",
              "      height: 32px;\n",
              "      padding: 0 0 0 0;\n",
              "      width: 32px;\n",
              "    }\n",
              "\n",
              "    .colab-df-convert:hover {\n",
              "      background-color: #E2EBFA;\n",
              "      box-shadow: 0px 1px 2px rgba(60, 64, 67, 0.3), 0px 1px 3px 1px rgba(60, 64, 67, 0.15);\n",
              "      fill: #174EA6;\n",
              "    }\n",
              "\n",
              "    [theme=dark] .colab-df-convert {\n",
              "      background-color: #3B4455;\n",
              "      fill: #D2E3FC;\n",
              "    }\n",
              "\n",
              "    [theme=dark] .colab-df-convert:hover {\n",
              "      background-color: #434B5C;\n",
              "      box-shadow: 0px 1px 3px 1px rgba(0, 0, 0, 0.15);\n",
              "      filter: drop-shadow(0px 1px 2px rgba(0, 0, 0, 0.3));\n",
              "      fill: #FFFFFF;\n",
              "    }\n",
              "  </style>\n",
              "\n",
              "      <script>\n",
              "        const buttonEl =\n",
              "          document.querySelector('#df-22d36be8-1253-4291-92c5-7b0d053c212c button.colab-df-convert');\n",
              "        buttonEl.style.display =\n",
              "          google.colab.kernel.accessAllowed ? 'block' : 'none';\n",
              "\n",
              "        async function convertToInteractive(key) {\n",
              "          const element = document.querySelector('#df-22d36be8-1253-4291-92c5-7b0d053c212c');\n",
              "          const dataTable =\n",
              "            await google.colab.kernel.invokeFunction('convertToInteractive',\n",
              "                                                     [key], {});\n",
              "          if (!dataTable) return;\n",
              "\n",
              "          const docLinkHtml = 'Like what you see? Visit the ' +\n",
              "            '<a target=\"_blank\" href=https://colab.research.google.com/notebooks/data_table.ipynb>data table notebook</a>'\n",
              "            + ' to learn more about interactive tables.';\n",
              "          element.innerHTML = '';\n",
              "          dataTable['output_type'] = 'display_data';\n",
              "          await google.colab.output.renderOutput(dataTable, element);\n",
              "          const docLink = document.createElement('div');\n",
              "          docLink.innerHTML = docLinkHtml;\n",
              "          element.appendChild(docLink);\n",
              "        }\n",
              "      </script>\n",
              "    </div>\n",
              "  </div>\n",
              "  "
            ]
          },
          "metadata": {},
          "execution_count": 84
        }
      ]
    },
    {
      "cell_type": "code",
      "source": [
        "data = binary_encode(data, columns=['Have you ever thought of attempting suicide?'], positive_values=['Yes'])"
      ],
      "metadata": {
        "id": "uZ35m3oVvV7w"
      },
      "execution_count": null,
      "outputs": []
    },
    {
      "cell_type": "code",
      "source": [
        "y = data['Have you ever thought of attempting suicide?'].copy()\n",
        "X = data.drop('Have you ever thought of attempting suicide?', axis=1).copy()"
      ],
      "metadata": {
        "id": "fJkQf0LbvXyL"
      },
      "execution_count": null,
      "outputs": []
    },
    {
      "cell_type": "code",
      "source": [
        "scaler = StandardScaler()\n",
        "\n",
        "X = scaler.fit_transform(X)"
      ],
      "metadata": {
        "id": "24-WWgdhvfn7"
      },
      "execution_count": null,
      "outputs": []
    },
    {
      "cell_type": "code",
      "source": [
        "X_train, X_test, y_train, y_test = train_test_split(X, y, train_size=0.7, random_state=100)"
      ],
      "metadata": {
        "id": "5IFvdp3evjWE"
      },
      "execution_count": null,
      "outputs": []
    },
    {
      "cell_type": "code",
      "source": [
        "X.shape"
      ],
      "metadata": {
        "colab": {
          "base_uri": "https://localhost:8080/"
        },
        "id": "ClXfHJnPvlAL",
        "outputId": "76536182-5c4e-469b-c964-717870459923"
      },
      "execution_count": null,
      "outputs": [
        {
          "output_type": "execute_result",
          "data": {
            "text/plain": [
              "(2079, 16)"
            ]
          },
          "metadata": {},
          "execution_count": 56
        }
      ]
    },
    {
      "cell_type": "code",
      "source": [
        "print(\"Class Distribution (Positive to Negative): {:.1f}% / {:.1f}%\".format(y_train.mean() * 100, (1 - y_train.mean()) * 100))"
      ],
      "metadata": {
        "colab": {
          "base_uri": "https://localhost:8080/"
        },
        "id": "lrjb7FeXvnVq",
        "outputId": "1ea91cec-c0c1-49dd-9b9e-214011149c64"
      },
      "execution_count": null,
      "outputs": [
        {
          "output_type": "stream",
          "name": "stdout",
          "text": [
            "Class Distribution (Positive to Negative): 45.9% / 54.1%\n"
          ]
        }
      ]
    },
    {
      "cell_type": "code",
      "source": [
        "pca = PCA(n_components=2)"
      ],
      "metadata": {
        "id": "EgaqPkbev0cV"
      },
      "execution_count": null,
      "outputs": []
    },
    {
      "cell_type": "code",
      "source": [
        "pca.fit(X)"
      ],
      "metadata": {
        "colab": {
          "base_uri": "https://localhost:8080/",
          "height": 74
        },
        "id": "AIxA1K5KwE1V",
        "outputId": "68c80104-7ccc-4a37-e569-ed712395b281"
      },
      "execution_count": null,
      "outputs": [
        {
          "output_type": "execute_result",
          "data": {
            "text/plain": [
              "PCA(n_components=2)"
            ],
            "text/html": [
              "<style>#sk-container-id-1 {color: black;background-color: white;}#sk-container-id-1 pre{padding: 0;}#sk-container-id-1 div.sk-toggleable {background-color: white;}#sk-container-id-1 label.sk-toggleable__label {cursor: pointer;display: block;width: 100%;margin-bottom: 0;padding: 0.3em;box-sizing: border-box;text-align: center;}#sk-container-id-1 label.sk-toggleable__label-arrow:before {content: \"▸\";float: left;margin-right: 0.25em;color: #696969;}#sk-container-id-1 label.sk-toggleable__label-arrow:hover:before {color: black;}#sk-container-id-1 div.sk-estimator:hover label.sk-toggleable__label-arrow:before {color: black;}#sk-container-id-1 div.sk-toggleable__content {max-height: 0;max-width: 0;overflow: hidden;text-align: left;background-color: #f0f8ff;}#sk-container-id-1 div.sk-toggleable__content pre {margin: 0.2em;color: black;border-radius: 0.25em;background-color: #f0f8ff;}#sk-container-id-1 input.sk-toggleable__control:checked~div.sk-toggleable__content {max-height: 200px;max-width: 100%;overflow: auto;}#sk-container-id-1 input.sk-toggleable__control:checked~label.sk-toggleable__label-arrow:before {content: \"▾\";}#sk-container-id-1 div.sk-estimator input.sk-toggleable__control:checked~label.sk-toggleable__label {background-color: #d4ebff;}#sk-container-id-1 div.sk-label input.sk-toggleable__control:checked~label.sk-toggleable__label {background-color: #d4ebff;}#sk-container-id-1 input.sk-hidden--visually {border: 0;clip: rect(1px 1px 1px 1px);clip: rect(1px, 1px, 1px, 1px);height: 1px;margin: -1px;overflow: hidden;padding: 0;position: absolute;width: 1px;}#sk-container-id-1 div.sk-estimator {font-family: monospace;background-color: #f0f8ff;border: 1px dotted black;border-radius: 0.25em;box-sizing: border-box;margin-bottom: 0.5em;}#sk-container-id-1 div.sk-estimator:hover {background-color: #d4ebff;}#sk-container-id-1 div.sk-parallel-item::after {content: \"\";width: 100%;border-bottom: 1px solid gray;flex-grow: 1;}#sk-container-id-1 div.sk-label:hover label.sk-toggleable__label {background-color: #d4ebff;}#sk-container-id-1 div.sk-serial::before {content: \"\";position: absolute;border-left: 1px solid gray;box-sizing: border-box;top: 0;bottom: 0;left: 50%;z-index: 0;}#sk-container-id-1 div.sk-serial {display: flex;flex-direction: column;align-items: center;background-color: white;padding-right: 0.2em;padding-left: 0.2em;position: relative;}#sk-container-id-1 div.sk-item {position: relative;z-index: 1;}#sk-container-id-1 div.sk-parallel {display: flex;align-items: stretch;justify-content: center;background-color: white;position: relative;}#sk-container-id-1 div.sk-item::before, #sk-container-id-1 div.sk-parallel-item::before {content: \"\";position: absolute;border-left: 1px solid gray;box-sizing: border-box;top: 0;bottom: 0;left: 50%;z-index: -1;}#sk-container-id-1 div.sk-parallel-item {display: flex;flex-direction: column;z-index: 1;position: relative;background-color: white;}#sk-container-id-1 div.sk-parallel-item:first-child::after {align-self: flex-end;width: 50%;}#sk-container-id-1 div.sk-parallel-item:last-child::after {align-self: flex-start;width: 50%;}#sk-container-id-1 div.sk-parallel-item:only-child::after {width: 0;}#sk-container-id-1 div.sk-dashed-wrapped {border: 1px dashed gray;margin: 0 0.4em 0.5em 0.4em;box-sizing: border-box;padding-bottom: 0.4em;background-color: white;}#sk-container-id-1 div.sk-label label {font-family: monospace;font-weight: bold;display: inline-block;line-height: 1.2em;}#sk-container-id-1 div.sk-label-container {text-align: center;}#sk-container-id-1 div.sk-container {/* jupyter's `normalize.less` sets `[hidden] { display: none; }` but bootstrap.min.css set `[hidden] { display: none !important; }` so we also need the `!important` here to be able to override the default hidden behavior on the sphinx rendered scikit-learn.org. See: https://github.com/scikit-learn/scikit-learn/issues/21755 */display: inline-block !important;position: relative;}#sk-container-id-1 div.sk-text-repr-fallback {display: none;}</style><div id=\"sk-container-id-1\" class=\"sk-top-container\"><div class=\"sk-text-repr-fallback\"><pre>PCA(n_components=2)</pre><b>In a Jupyter environment, please rerun this cell to show the HTML representation or trust the notebook. <br />On GitHub, the HTML representation is unable to render, please try loading this page with nbviewer.org.</b></div><div class=\"sk-container\" hidden><div class=\"sk-item\"><div class=\"sk-estimator sk-toggleable\"><input class=\"sk-toggleable__control sk-hidden--visually\" id=\"sk-estimator-id-1\" type=\"checkbox\" checked><label for=\"sk-estimator-id-1\" class=\"sk-toggleable__label sk-toggleable__label-arrow\">PCA</label><div class=\"sk-toggleable__content\"><pre>PCA(n_components=2)</pre></div></div></div></div></div>"
            ]
          },
          "metadata": {},
          "execution_count": 61
        }
      ]
    },
    {
      "cell_type": "code",
      "source": [
        "x_pca=pca.transform(X)"
      ],
      "metadata": {
        "id": "3ZrzlrmnwHwq"
      },
      "execution_count": null,
      "outputs": []
    },
    {
      "cell_type": "code",
      "source": [
        "X.shape"
      ],
      "metadata": {
        "colab": {
          "base_uri": "https://localhost:8080/"
        },
        "id": "P5vBu4RHwK7q",
        "outputId": "5bb0c9f9-4341-4c2a-dc36-56c8a248f7a7"
      },
      "execution_count": null,
      "outputs": [
        {
          "output_type": "execute_result",
          "data": {
            "text/plain": [
              "(2079, 16)"
            ]
          },
          "metadata": {},
          "execution_count": 63
        }
      ]
    },
    {
      "cell_type": "code",
      "source": [
        "x_pca.shape"
      ],
      "metadata": {
        "colab": {
          "base_uri": "https://localhost:8080/"
        },
        "id": "hWzw2oFQwMJS",
        "outputId": "221ca7c4-c00d-4f1e-94ab-e4d116152098"
      },
      "execution_count": null,
      "outputs": [
        {
          "output_type": "execute_result",
          "data": {
            "text/plain": [
              "(2079, 2)"
            ]
          },
          "metadata": {},
          "execution_count": 65
        }
      ]
    },
    {
      "cell_type": "code",
      "source": [
        "X"
      ],
      "metadata": {
        "colab": {
          "base_uri": "https://localhost:8080/"
        },
        "id": "Ktfsl3yfwUKD",
        "outputId": "f7c28cf4-6278-4ae2-9247-4c27bb898a90"
      },
      "execution_count": null,
      "outputs": [
        {
          "output_type": "execute_result",
          "data": {
            "text/plain": [
              "array([[-0.67244943,  0.79168211, -1.5784834 , ..., -0.81764254,\n",
              "         1.53402275,  0.        ],\n",
              "       [ 0.02560193,  0.79168211, -0.18735708, ...,  1.22302834,\n",
              "        -0.65188081,  0.        ],\n",
              "       [-0.75970585,  0.79168211,  1.20376924, ..., -0.81764254,\n",
              "        -0.65188081,  0.        ],\n",
              "       ...,\n",
              "       [-0.58519301, -1.26313325,  1.20376924, ..., -0.81764254,\n",
              "        -0.65188081,  0.        ],\n",
              "       [ 0.02560193,  0.79168211, -0.18735708, ...,  1.22302834,\n",
              "        -0.65188081,  0.        ],\n",
              "       [ 0.72365329,  0.79168211, -0.18735708, ..., -0.81764254,\n",
              "         1.53402275,  0.        ]])"
            ]
          },
          "metadata": {},
          "execution_count": 66
        }
      ]
    },
    {
      "cell_type": "code",
      "source": [
        "x_pca"
      ],
      "metadata": {
        "colab": {
          "base_uri": "https://localhost:8080/"
        },
        "id": "cBg0WlZrwXaR",
        "outputId": "5445bf11-e347-49ee-a4b9-a430bee6e955"
      },
      "execution_count": null,
      "outputs": [
        {
          "output_type": "execute_result",
          "data": {
            "text/plain": [
              "array([[-0.71908149, -0.46910104],\n",
              "       [ 2.10960713, -0.00949933],\n",
              "       [-1.09062156, -0.96950509],\n",
              "       ...,\n",
              "       [-0.69392733, -0.03227078],\n",
              "       [ 2.10960713, -0.00949933],\n",
              "       [-0.01334372, -2.26334808]])"
            ]
          },
          "metadata": {},
          "execution_count": 67
        }
      ]
    },
    {
      "cell_type": "code",
      "source": [
        "pca.explained_variance_ratio_"
      ],
      "metadata": {
        "colab": {
          "base_uri": "https://localhost:8080/"
        },
        "id": "RT3ZBm68wbW-",
        "outputId": "b1477754-9a1a-4837-8df4-e1948176c96c"
      },
      "execution_count": null,
      "outputs": [
        {
          "output_type": "execute_result",
          "data": {
            "text/plain": [
              "array([0.22668447, 0.1461358 ])"
            ]
          },
          "metadata": {},
          "execution_count": 68
        }
      ]
    },
    {
      "cell_type": "code",
      "source": [
        "pca.n_components_"
      ],
      "metadata": {
        "colab": {
          "base_uri": "https://localhost:8080/"
        },
        "id": "CrQGamxhwcqQ",
        "outputId": "123621e9-c34b-4132-eb98-43d8a63a5565"
      },
      "execution_count": null,
      "outputs": [
        {
          "output_type": "execute_result",
          "data": {
            "text/plain": [
              "2"
            ]
          },
          "metadata": {},
          "execution_count": 69
        }
      ]
    },
    {
      "cell_type": "code",
      "source": [
        "pca = PCA().fit(X)\n",
        "plt.plot(np.cumsum(pca.explained_variance_ratio_))\n",
        "plt.xlabel('number of components')\n",
        "plt.ylabel('cumulative explained variance');"
      ],
      "metadata": {
        "colab": {
          "base_uri": "https://localhost:8080/",
          "height": 279
        },
        "id": "D3ml96xmwflr",
        "outputId": "7d341a1e-7e09-49d0-9843-32d21415ef3c"
      },
      "execution_count": null,
      "outputs": [
        {
          "output_type": "display_data",
          "data": {
            "text/plain": [
              "<Figure size 432x288 with 1 Axes>"
            ],
            "image/png": "[encoded data removed]"
          },
          "metadata": {
            "needs_background": "light"
          }
        }
      ]
    },
    {
      "cell_type": "code",
      "source": [
        "X_train_pca, X_test_pca, y_train,y_test=train_test_split(x_pca,y,test_size=0.2,random_state=30)"
      ],
      "metadata": {
        "id": "-046ANe-wmwi"
      },
      "execution_count": null,
      "outputs": []
    },
    {
      "cell_type": "markdown",
      "source": [
        "**DIkSHA**"
      ],
      "metadata": {
        "id": "mcGeSRBGz7cf"
      }
    },
    {
      "cell_type": "code",
      "source": [
        "df_orig = pd.read_csv('/content/sample_data/data.csv')\n",
        "df = df_orig.copy()\n",
        "df.info()\n"
      ],
      "metadata": {
        "colab": {
          "base_uri": "https://localhost:8080/"
        },
        "id": "d_Lmsrmiz6ut",
        "outputId": "1622790f-3990-4ad8-9193-702d0ce544a2"
      },
      "execution_count": null,
      "outputs": [
        {
          "output_type": "stream",
          "name": "stdout",
          "text": [
            "<class 'pandas.core.frame.DataFrame'>\n",
            "RangeIndex: 2079 entries, 0 to 2078\n",
            "Data columns (total 17 columns):\n",
            " #   Column                 Non-Null Count  Dtype \n",
            "---  ------                 --------------  ----- \n",
            " 0   Age                    2079 non-null   int64 \n",
            " 1   Gender                 2079 non-null   int64 \n",
            " 2   Weight                 2079 non-null   int64 \n",
            " 3   friends/Relatives      2079 non-null   int64 \n",
            " 4   understanding parents  2079 non-null   int64 \n",
            " 5   injury                 2079 non-null   int64 \n",
            " 6   fights                 2079 non-null   int64 \n",
            " 7   bullied                2079 non-null   int64 \n",
            " 8   toxic relationship     2079 non-null   int64 \n",
            " 9   stressed               2079 non-null   int64 \n",
            " 10  missed classes         2079 non-null   int64 \n",
            " 11  smoke                  2079 non-null   int64 \n",
            " 12  Alcohol                2079 non-null   int64 \n",
            " 13  got drunk              2079 non-null   int64 \n",
            " 14  drugs                  2079 non-null   int64 \n",
            " 15  attempted_suicide      2079 non-null   int64 \n",
            " 16  bad experience         2079 non-null   object\n",
            "dtypes: int64(16), object(1)\n",
            "memory usage: 276.2+ KB\n"
          ]
        }
      ]
    },
    {
      "cell_type": "code",
      "source": [
        "df.shape\n"
      ],
      "metadata": {
        "colab": {
          "base_uri": "https://localhost:8080/"
        },
        "id": "6_OKupjnzdxU",
        "outputId": "a0ac71fe-7d9d-415d-ac17-9d27ee6dac8c"
      },
      "execution_count": null,
      "outputs": [
        {
          "output_type": "execute_result",
          "data": {
            "text/plain": [
              "(2079, 17)"
            ]
          },
          "metadata": {},
          "execution_count": 88
        }
      ]
    },
    {
      "cell_type": "code",
      "source": [
        "df.head()"
      ],
      "metadata": {
        "colab": {
          "base_uri": "https://localhost:8080/",
          "height": 287
        },
        "id": "pRNgUZtW0JCj",
        "outputId": "59897822-a57a-4953-bce7-2b30b9ba09a7"
      },
      "execution_count": null,
      "outputs": [
        {
          "output_type": "execute_result",
          "data": {
            "text/plain": [
              "   Age  Gender  Weight  friends/Relatives  understanding parents  injury  \\\n",
              "0   23       8       3                  1                      1       0   \n",
              "1   31       8       1                  0                      0       1   \n",
              "2   22       8       2                  1                      1       0   \n",
              "3   42       9       2                  1                      1       0   \n",
              "4   43       8       2                  0                      0       0   \n",
              "\n",
              "   fights  bullied  toxic relationship  stressed  missed classes  smoke  \\\n",
              "0       1        0                   0         1               1      0   \n",
              "1       0        0                   1         0               1      0   \n",
              "2       0        0                   0         0               0      0   \n",
              "3       0        1                   1         0               1      1   \n",
              "4       1        1                   0         0               0      0   \n",
              "\n",
              "   Alcohol  got drunk  drugs  attempted_suicide bad experience  \n",
              "0        0          0      1                  0              0  \n",
              "1        1          1      0                  1              0  \n",
              "2        0          0      0                  0              0  \n",
              "3        1          0      0                  0              0  \n",
              "4        0          0      0                  0              0  "
            ],
            "text/html": [
              "\n",
              "  <div id=\"df-0ea79a6d-8dd4-4238-88f3-ad3d77ef011b\">\n",
              "    <div class=\"colab-df-container\">\n",
              "      <div>\n",
              "<style scoped>\n",
              "    .dataframe tbody tr th:only-of-type {\n",
              "        vertical-align: middle;\n",
              "    }\n",
              "\n",
              "    .dataframe tbody tr th {\n",
              "        vertical-align: top;\n",
              "    }\n",
              "\n",
              "    .dataframe thead th {\n",
              "        text-align: right;\n",
              "    }\n",
              "</style>\n",
              "<table border=\"1\" class=\"dataframe\">\n",
              "  <thead>\n",
              "    <tr style=\"text-align: right;\">\n",
              "      <th></th>\n",
              "      <th>Age</th>\n",
              "      <th>Gender</th>\n",
              "      <th>Weight</th>\n",
              "      <th>friends/Relatives</th>\n",
              "      <th>understanding parents</th>\n",
              "      <th>injury</th>\n",
              "      <th>fights</th>\n",
              "      <th>bullied</th>\n",
              "      <th>toxic relationship</th>\n",
              "      <th>stressed</th>\n",
              "      <th>missed classes</th>\n",
              "      <th>smoke</th>\n",
              "      <th>Alcohol</th>\n",
              "      <th>got drunk</th>\n",
              "      <th>drugs</th>\n",
              "      <th>attempted_suicide</th>\n",
              "      <th>bad experience</th>\n",
              "    </tr>\n",
              "  </thead>\n",
              "  <tbody>\n",
              "    <tr>\n",
              "      <th>0</th>\n",
              "      <td>23</td>\n",
              "      <td>8</td>\n",
              "      <td>3</td>\n",
              "      <td>1</td>\n",
              "      <td>1</td>\n",
              "      <td>0</td>\n",
              "      <td>1</td>\n",
              "      <td>0</td>\n",
              "      <td>0</td>\n",
              "      <td>1</td>\n",
              "      <td>1</td>\n",
              "      <td>0</td>\n",
              "      <td>0</td>\n",
              "      <td>0</td>\n",
              "      <td>1</td>\n",
              "      <td>0</td>\n",
              "      <td>0</td>\n",
              "    </tr>\n",
              "    <tr>\n",
              "      <th>1</th>\n",
              "      <td>31</td>\n",
              "      <td>8</td>\n",
              "      <td>1</td>\n",
              "      <td>0</td>\n",
              "      <td>0</td>\n",
              "      <td>1</td>\n",
              "      <td>0</td>\n",
              "      <td>0</td>\n",
              "      <td>1</td>\n",
              "      <td>0</td>\n",
              "      <td>1</td>\n",
              "      <td>0</td>\n",
              "      <td>1</td>\n",
              "      <td>1</td>\n",
              "      <td>0</td>\n",
              "      <td>1</td>\n",
              "      <td>0</td>\n",
              "    </tr>\n",
              "    <tr>\n",
              "      <th>2</th>\n",
              "      <td>22</td>\n",
              "      <td>8</td>\n",
              "      <td>2</td>\n",
              "      <td>1</td>\n",
              "      <td>1</td>\n",
              "      <td>0</td>\n",
              "      <td>0</td>\n",
              "      <td>0</td>\n",
              "      <td>0</td>\n",
              "      <td>0</td>\n",
              "      <td>0</td>\n",
              "      <td>0</td>\n",
              "      <td>0</td>\n",
              "      <td>0</td>\n",
              "      <td>0</td>\n",
              "      <td>0</td>\n",
              "      <td>0</td>\n",
              "    </tr>\n",
              "    <tr>\n",
              "      <th>3</th>\n",
              "      <td>42</td>\n",
              "      <td>9</td>\n",
              "      <td>2</td>\n",
              "      <td>1</td>\n",
              "      <td>1</td>\n",
              "      <td>0</td>\n",
              "      <td>0</td>\n",
              "      <td>1</td>\n",
              "      <td>1</td>\n",
              "      <td>0</td>\n",
              "      <td>1</td>\n",
              "      <td>1</td>\n",
              "      <td>1</td>\n",
              "      <td>0</td>\n",
              "      <td>0</td>\n",
              "      <td>0</td>\n",
              "      <td>0</td>\n",
              "    </tr>\n",
              "    <tr>\n",
              "      <th>4</th>\n",
              "      <td>43</td>\n",
              "      <td>8</td>\n",
              "      <td>2</td>\n",
              "      <td>0</td>\n",
              "      <td>0</td>\n",
              "      <td>0</td>\n",
              "      <td>1</td>\n",
              "      <td>1</td>\n",
              "      <td>0</td>\n",
              "      <td>0</td>\n",
              "      <td>0</td>\n",
              "      <td>0</td>\n",
              "      <td>0</td>\n",
              "      <td>0</td>\n",
              "      <td>0</td>\n",
              "      <td>0</td>\n",
              "      <td>0</td>\n",
              "    </tr>\n",
              "  </tbody>\n",
              "</table>\n",
              "</div>\n",
              "      <button class=\"colab-df-convert\" onclick=\"convertToInteractive('df-0ea79a6d-8dd4-4238-88f3-ad3d77ef011b')\"\n",
              "              title=\"Convert this dataframe to an interactive table.\"\n",
              "              style=\"display:none;\">\n",
              "        \n",
              "  <svg xmlns=\"http://www.w3.org/2000/svg\" height=\"24px\"viewBox=\"0 0 24 24\"\n",
              "       width=\"24px\">\n",
              "    <path d=\"M0 0h24v24H0V0z\" fill=\"none\"/>\n",
              "    <path d=\"M18.56 5.44l.94 2.06.94-2.06 2.06-.94-2.06-.94-.94-2.06-.94 2.06-2.06.94zm-11 1L8.5 8.5l.94-2.06 2.06-.94-2.06-.94L8.5 2.5l-.94 2.06-2.06.94zm10 10l.94 2.06.94-2.06 2.06-.94-2.06-.94-.94-2.06-.94 2.06-2.06.94z\"/><path d=\"M17.41 7.96l-1.37-1.37c-.4-.4-.92-.59-1.43-.59-.52 0-1.04.2-1.43.59L10.3 9.45l-7.72 7.72c-.78.78-.78 2.05 0 2.83L4 21.41c.39.39.9.59 1.41.59.51 0 1.02-.2 1.41-.59l7.78-7.78 2.81-2.81c.8-.78.8-2.07 0-2.86zM5.41 20L4 18.59l7.72-7.72 1.47 1.35L5.41 20z\"/>\n",
              "  </svg>\n",
              "      </button>\n",
              "      \n",
              "  <style>\n",
              "    .colab-df-container {\n",
              "      display:flex;\n",
              "      flex-wrap:wrap;\n",
              "      gap: 12px;\n",
              "    }\n",
              "\n",
              "    .colab-df-convert {\n",
              "      background-color: #E8F0FE;\n",
              "      border: none;\n",
              "      border-radius: 50%;\n",
              "      cursor: pointer;\n",
              "      display: none;\n",
              "      fill: #1967D2;\n",
              "      height: 32px;\n",
              "      padding: 0 0 0 0;\n",
              "      width: 32px;\n",
              "    }\n",
              "\n",
              "    .colab-df-convert:hover {\n",
              "      background-color: #E2EBFA;\n",
              "      box-shadow: 0px 1px 2px rgba(60, 64, 67, 0.3), 0px 1px 3px 1px rgba(60, 64, 67, 0.15);\n",
              "      fill: #174EA6;\n",
              "    }\n",
              "\n",
              "    [theme=dark] .colab-df-convert {\n",
              "      background-color: #3B4455;\n",
              "      fill: #D2E3FC;\n",
              "    }\n",
              "\n",
              "    [theme=dark] .colab-df-convert:hover {\n",
              "      background-color: #434B5C;\n",
              "      box-shadow: 0px 1px 3px 1px rgba(0, 0, 0, 0.15);\n",
              "      filter: drop-shadow(0px 1px 2px rgba(0, 0, 0, 0.3));\n",
              "      fill: #FFFFFF;\n",
              "    }\n",
              "  </style>\n",
              "\n",
              "      <script>\n",
              "        const buttonEl =\n",
              "          document.querySelector('#df-0ea79a6d-8dd4-4238-88f3-ad3d77ef011b button.colab-df-convert');\n",
              "        buttonEl.style.display =\n",
              "          google.colab.kernel.accessAllowed ? 'block' : 'none';\n",
              "\n",
              "        async function convertToInteractive(key) {\n",
              "          const element = document.querySelector('#df-0ea79a6d-8dd4-4238-88f3-ad3d77ef011b');\n",
              "          const dataTable =\n",
              "            await google.colab.kernel.invokeFunction('convertToInteractive',\n",
              "                                                     [key], {});\n",
              "          if (!dataTable) return;\n",
              "\n",
              "          const docLinkHtml = 'Like what you see? Visit the ' +\n",
              "            '<a target=\"_blank\" href=https://colab.research.google.com/notebooks/data_table.ipynb>data table notebook</a>'\n",
              "            + ' to learn more about interactive tables.';\n",
              "          element.innerHTML = '';\n",
              "          dataTable['output_type'] = 'display_data';\n",
              "          await google.colab.output.renderOutput(dataTable, element);\n",
              "          const docLink = document.createElement('div');\n",
              "          docLink.innerHTML = docLinkHtml;\n",
              "          element.appendChild(docLink);\n",
              "        }\n",
              "      </script>\n",
              "    </div>\n",
              "  </div>\n",
              "  "
            ]
          },
          "metadata": {},
          "execution_count": 89
        }
      ]
    },
    {
      "cell_type": "code",
      "source": [
        "df.describe()"
      ],
      "metadata": {
        "colab": {
          "base_uri": "https://localhost:8080/",
          "height": 381
        },
        "id": "ROhiTHm10Lb2",
        "outputId": "f1fce9b3-6997-427c-aa93-8574a1c6bf24"
      },
      "execution_count": null,
      "outputs": [
        {
          "output_type": "execute_result",
          "data": {
            "text/plain": [
              "               Age       Gender       Weight  friends/Relatives  \\\n",
              "count  2079.000000  2079.000000  2079.000000        2079.000000   \n",
              "mean     30.706590     8.385281     1.732564           0.551708   \n",
              "std      11.463232     0.486779     0.771642           0.497439   \n",
              "min       9.000000     8.000000     1.000000           0.000000   \n",
              "25%      21.500000     8.000000     1.000000           0.000000   \n",
              "50%      28.000000     8.000000     2.000000           1.000000   \n",
              "75%      42.000000     9.000000     2.000000           1.000000   \n",
              "max      99.000000     9.000000     3.000000           1.000000   \n",
              "\n",
              "       understanding parents       injury       fights      bullied  \\\n",
              "count            2079.000000  2079.000000  2079.000000  2079.000000   \n",
              "mean                0.555075     0.419432     0.507456     0.479076   \n",
              "std                 0.497077     0.493585     0.500065     0.499682   \n",
              "min                 0.000000     0.000000     0.000000     0.000000   \n",
              "25%                 0.000000     0.000000     0.000000     0.000000   \n",
              "50%                 1.000000     0.000000     1.000000     0.000000   \n",
              "75%                 1.000000     1.000000     1.000000     1.000000   \n",
              "max                 1.000000     1.000000     1.000000     1.000000   \n",
              "\n",
              "       toxic relationship     stressed  missed classes        smoke  \\\n",
              "count         2079.000000  2079.000000      2079.00000  2079.000000   \n",
              "mean             0.493987     0.342953         0.47138     0.341029   \n",
              "std              0.500084     0.474810         0.49930     0.474169   \n",
              "min              0.000000     0.000000         0.00000     0.000000   \n",
              "25%              0.000000     0.000000         0.00000     0.000000   \n",
              "50%              0.000000     0.000000         0.00000     0.000000   \n",
              "75%              1.000000     1.000000         1.00000     1.000000   \n",
              "max              1.000000     1.000000         1.00000     1.000000   \n",
              "\n",
              "           Alcohol    got drunk        drugs  attempted_suicide  \n",
              "count  2079.000000  2079.000000  2079.000000        2079.000000  \n",
              "mean      0.308802     0.400673     0.298220           0.455026  \n",
              "std       0.462111     0.490153     0.457587           0.498093  \n",
              "min       0.000000     0.000000     0.000000           0.000000  \n",
              "25%       0.000000     0.000000     0.000000           0.000000  \n",
              "50%       0.000000     0.000000     0.000000           0.000000  \n",
              "75%       1.000000     1.000000     1.000000           1.000000  \n",
              "max       1.000000     1.000000     1.000000           1.000000  "
            ],
            "text/html": [
              "\n",
              "  <div id=\"df-f19cd437-1668-4525-80c6-936ee613b79a\">\n",
              "    <div class=\"colab-df-container\">\n",
              "      <div>\n",
              "<style scoped>\n",
              "    .dataframe tbody tr th:only-of-type {\n",
              "        vertical-align: middle;\n",
              "    }\n",
              "\n",
              "    .dataframe tbody tr th {\n",
              "        vertical-align: top;\n",
              "    }\n",
              "\n",
              "    .dataframe thead th {\n",
              "        text-align: right;\n",
              "    }\n",
              "</style>\n",
              "<table border=\"1\" class=\"dataframe\">\n",
              "  <thead>\n",
              "    <tr style=\"text-align: right;\">\n",
              "      <th></th>\n",
              "      <th>Age</th>\n",
              "      <th>Gender</th>\n",
              "      <th>Weight</th>\n",
              "      <th>friends/Relatives</th>\n",
              "      <th>understanding parents</th>\n",
              "      <th>injury</th>\n",
              "      <th>fights</th>\n",
              "      <th>bullied</th>\n",
              "      <th>toxic relationship</th>\n",
              "      <th>stressed</th>\n",
              "      <th>missed classes</th>\n",
              "      <th>smoke</th>\n",
              "      <th>Alcohol</th>\n",
              "      <th>got drunk</th>\n",
              "      <th>drugs</th>\n",
              "      <th>attempted_suicide</th>\n",
              "    </tr>\n",
              "  </thead>\n",
              "  <tbody>\n",
              "    <tr>\n",
              "      <th>count</th>\n",
              "      <td>2079.000000</td>\n",
              "      <td>2079.000000</td>\n",
              "      <td>2079.000000</td>\n",
              "      <td>2079.000000</td>\n",
              "      <td>2079.000000</td>\n",
              "      <td>2079.000000</td>\n",
              "      <td>2079.000000</td>\n",
              "      <td>2079.000000</td>\n",
              "      <td>2079.000000</td>\n",
              "      <td>2079.000000</td>\n",
              "      <td>2079.00000</td>\n",
              "      <td>2079.000000</td>\n",
              "      <td>2079.000000</td>\n",
              "      <td>2079.000000</td>\n",
              "      <td>2079.000000</td>\n",
              "      <td>2079.000000</td>\n",
              "    </tr>\n",
              "    <tr>\n",
              "      <th>mean</th>\n",
              "      <td>30.706590</td>\n",
              "      <td>8.385281</td>\n",
              "      <td>1.732564</td>\n",
              "      <td>0.551708</td>\n",
              "      <td>0.555075</td>\n",
              "      <td>0.419432</td>\n",
              "      <td>0.507456</td>\n",
              "      <td>0.479076</td>\n",
              "      <td>0.493987</td>\n",
              "      <td>0.342953</td>\n",
              "      <td>0.47138</td>\n",
              "      <td>0.341029</td>\n",
              "      <td>0.308802</td>\n",
              "      <td>0.400673</td>\n",
              "      <td>0.298220</td>\n",
              "      <td>0.455026</td>\n",
              "    </tr>\n",
              "    <tr>\n",
              "      <th>std</th>\n",
              "      <td>11.463232</td>\n",
              "      <td>0.486779</td>\n",
              "      <td>0.771642</td>\n",
              "      <td>0.497439</td>\n",
              "      <td>0.497077</td>\n",
              "      <td>0.493585</td>\n",
              "      <td>0.500065</td>\n",
              "      <td>0.499682</td>\n",
              "      <td>0.500084</td>\n",
              "      <td>0.474810</td>\n",
              "      <td>0.49930</td>\n",
              "      <td>0.474169</td>\n",
              "      <td>0.462111</td>\n",
              "      <td>0.490153</td>\n",
              "      <td>0.457587</td>\n",
              "      <td>0.498093</td>\n",
              "    </tr>\n",
              "    <tr>\n",
              "      <th>min</th>\n",
              "      <td>9.000000</td>\n",
              "      <td>8.000000</td>\n",
              "      <td>1.000000</td>\n",
              "      <td>0.000000</td>\n",
              "      <td>0.000000</td>\n",
              "      <td>0.000000</td>\n",
              "      <td>0.000000</td>\n",
              "      <td>0.000000</td>\n",
              "      <td>0.000000</td>\n",
              "      <td>0.000000</td>\n",
              "      <td>0.00000</td>\n",
              "      <td>0.000000</td>\n",
              "      <td>0.000000</td>\n",
              "      <td>0.000000</td>\n",
              "      <td>0.000000</td>\n",
              "      <td>0.000000</td>\n",
              "    </tr>\n",
              "    <tr>\n",
              "      <th>25%</th>\n",
              "      <td>21.500000</td>\n",
              "      <td>8.000000</td>\n",
              "      <td>1.000000</td>\n",
              "      <td>0.000000</td>\n",
              "      <td>0.000000</td>\n",
              "      <td>0.000000</td>\n",
              "      <td>0.000000</td>\n",
              "      <td>0.000000</td>\n",
              "      <td>0.000000</td>\n",
              "      <td>0.000000</td>\n",
              "      <td>0.00000</td>\n",
              "      <td>0.000000</td>\n",
              "      <td>0.000000</td>\n",
              "      <td>0.000000</td>\n",
              "      <td>0.000000</td>\n",
              "      <td>0.000000</td>\n",
              "    </tr>\n",
              "    <tr>\n",
              "      <th>50%</th>\n",
              "      <td>28.000000</td>\n",
              "      <td>8.000000</td>\n",
              "      <td>2.000000</td>\n",
              "      <td>1.000000</td>\n",
              "      <td>1.000000</td>\n",
              "      <td>0.000000</td>\n",
              "      <td>1.000000</td>\n",
              "      <td>0.000000</td>\n",
              "      <td>0.000000</td>\n",
              "      <td>0.000000</td>\n",
              "      <td>0.00000</td>\n",
              "      <td>0.000000</td>\n",
              "      <td>0.000000</td>\n",
              "      <td>0.000000</td>\n",
              "      <td>0.000000</td>\n",
              "      <td>0.000000</td>\n",
              "    </tr>\n",
              "    <tr>\n",
              "      <th>75%</th>\n",
              "      <td>42.000000</td>\n",
              "      <td>9.000000</td>\n",
              "      <td>2.000000</td>\n",
              "      <td>1.000000</td>\n",
              "      <td>1.000000</td>\n",
              "      <td>1.000000</td>\n",
              "      <td>1.000000</td>\n",
              "      <td>1.000000</td>\n",
              "      <td>1.000000</td>\n",
              "      <td>1.000000</td>\n",
              "      <td>1.00000</td>\n",
              "      <td>1.000000</td>\n",
              "      <td>1.000000</td>\n",
              "      <td>1.000000</td>\n",
              "      <td>1.000000</td>\n",
              "      <td>1.000000</td>\n",
              "    </tr>\n",
              "    <tr>\n",
              "      <th>max</th>\n",
              "      <td>99.000000</td>\n",
              "      <td>9.000000</td>\n",
              "      <td>3.000000</td>\n",
              "      <td>1.000000</td>\n",
              "      <td>1.000000</td>\n",
              "      <td>1.000000</td>\n",
              "      <td>1.000000</td>\n",
              "      <td>1.000000</td>\n",
              "      <td>1.000000</td>\n",
              "      <td>1.000000</td>\n",
              "      <td>1.00000</td>\n",
              "      <td>1.000000</td>\n",
              "      <td>1.000000</td>\n",
              "      <td>1.000000</td>\n",
              "      <td>1.000000</td>\n",
              "      <td>1.000000</td>\n",
              "    </tr>\n",
              "  </tbody>\n",
              "</table>\n",
              "</div>\n",
              "      <button class=\"colab-df-convert\" onclick=\"convertToInteractive('df-f19cd437-1668-4525-80c6-936ee613b79a')\"\n",
              "              title=\"Convert this dataframe to an interactive table.\"\n",
              "              style=\"display:none;\">\n",
              "        \n",
              "  <svg xmlns=\"http://www.w3.org/2000/svg\" height=\"24px\"viewBox=\"0 0 24 24\"\n",
              "       width=\"24px\">\n",
              "    <path d=\"M0 0h24v24H0V0z\" fill=\"none\"/>\n",
              "    <path d=\"M18.56 5.44l.94 2.06.94-2.06 2.06-.94-2.06-.94-.94-2.06-.94 2.06-2.06.94zm-11 1L8.5 8.5l.94-2.06 2.06-.94-2.06-.94L8.5 2.5l-.94 2.06-2.06.94zm10 10l.94 2.06.94-2.06 2.06-.94-2.06-.94-.94-2.06-.94 2.06-2.06.94z\"/><path d=\"M17.41 7.96l-1.37-1.37c-.4-.4-.92-.59-1.43-.59-.52 0-1.04.2-1.43.59L10.3 9.45l-7.72 7.72c-.78.78-.78 2.05 0 2.83L4 21.41c.39.39.9.59 1.41.59.51 0 1.02-.2 1.41-.59l7.78-7.78 2.81-2.81c.8-.78.8-2.07 0-2.86zM5.41 20L4 18.59l7.72-7.72 1.47 1.35L5.41 20z\"/>\n",
              "  </svg>\n",
              "      </button>\n",
              "      \n",
              "  <style>\n",
              "    .colab-df-container {\n",
              "      display:flex;\n",
              "      flex-wrap:wrap;\n",
              "      gap: 12px;\n",
              "    }\n",
              "\n",
              "    .colab-df-convert {\n",
              "      background-color: #E8F0FE;\n",
              "      border: none;\n",
              "      border-radius: 50%;\n",
              "      cursor: pointer;\n",
              "      display: none;\n",
              "      fill: #1967D2;\n",
              "      height: 32px;\n",
              "      padding: 0 0 0 0;\n",
              "      width: 32px;\n",
              "    }\n",
              "\n",
              "    .colab-df-convert:hover {\n",
              "      background-color: #E2EBFA;\n",
              "      box-shadow: 0px 1px 2px rgba(60, 64, 67, 0.3), 0px 1px 3px 1px rgba(60, 64, 67, 0.15);\n",
              "      fill: #174EA6;\n",
              "    }\n",
              "\n",
              "    [theme=dark] .colab-df-convert {\n",
              "      background-color: #3B4455;\n",
              "      fill: #D2E3FC;\n",
              "    }\n",
              "\n",
              "    [theme=dark] .colab-df-convert:hover {\n",
              "      background-color: #434B5C;\n",
              "      box-shadow: 0px 1px 3px 1px rgba(0, 0, 0, 0.15);\n",
              "      filter: drop-shadow(0px 1px 2px rgba(0, 0, 0, 0.3));\n",
              "      fill: #FFFFFF;\n",
              "    }\n",
              "  </style>\n",
              "\n",
              "      <script>\n",
              "        const buttonEl =\n",
              "          document.querySelector('#df-f19cd437-1668-4525-80c6-936ee613b79a button.colab-df-convert');\n",
              "        buttonEl.style.display =\n",
              "          google.colab.kernel.accessAllowed ? 'block' : 'none';\n",
              "\n",
              "        async function convertToInteractive(key) {\n",
              "          const element = document.querySelector('#df-f19cd437-1668-4525-80c6-936ee613b79a');\n",
              "          const dataTable =\n",
              "            await google.colab.kernel.invokeFunction('convertToInteractive',\n",
              "                                                     [key], {});\n",
              "          if (!dataTable) return;\n",
              "\n",
              "          const docLinkHtml = 'Like what you see? Visit the ' +\n",
              "            '<a target=\"_blank\" href=https://colab.research.google.com/notebooks/data_table.ipynb>data table notebook</a>'\n",
              "            + ' to learn more about interactive tables.';\n",
              "          element.innerHTML = '';\n",
              "          dataTable['output_type'] = 'display_data';\n",
              "          await google.colab.output.renderOutput(dataTable, element);\n",
              "          const docLink = document.createElement('div');\n",
              "          docLink.innerHTML = docLinkHtml;\n",
              "          element.appendChild(docLink);\n",
              "        }\n",
              "      </script>\n",
              "    </div>\n",
              "  </div>\n",
              "  "
            ]
          },
          "metadata": {},
          "execution_count": 90
        }
      ]
    },
    {
      "cell_type": "code",
      "source": [
        "df.columns.duplicated()"
      ],
      "metadata": {
        "colab": {
          "base_uri": "https://localhost:8080/"
        },
        "id": "0SpX6eyWz4LN",
        "outputId": "51f0a78c-5d45-4cea-99b3-ce9fb288facf"
      },
      "execution_count": null,
      "outputs": [
        {
          "output_type": "execute_result",
          "data": {
            "text/plain": [
              "array([False, False, False, False, False, False, False, False, False,\n",
              "       False, False, False, False, False, False, False, False])"
            ]
          },
          "metadata": {},
          "execution_count": 91
        }
      ]
    },
    {
      "cell_type": "code",
      "source": [
        "df.isnull().sum()"
      ],
      "metadata": {
        "colab": {
          "base_uri": "https://localhost:8080/"
        },
        "id": "eLFM94rA0Psn",
        "outputId": "95004f44-ca70-4d69-abef-84e4e183f040"
      },
      "execution_count": null,
      "outputs": [
        {
          "output_type": "execute_result",
          "data": {
            "text/plain": [
              "Age                      0\n",
              "Gender                   0\n",
              "Weight                   0\n",
              "friends/Relatives        0\n",
              "understanding parents    0\n",
              "injury                   0\n",
              "fights                   0\n",
              "bullied                  0\n",
              "toxic relationship       0\n",
              "stressed                 0\n",
              "missed classes           0\n",
              "smoke                    0\n",
              "Alcohol                  0\n",
              "got drunk                0\n",
              "drugs                    0\n",
              "attempted_suicide        0\n",
              "bad experience           0\n",
              "dtype: int64"
            ]
          },
          "metadata": {},
          "execution_count": 92
        }
      ]
    },
    {
      "cell_type": "code",
      "source": [
        "bp = df.boxplot(column=['smoke', 'bullied'])\n"
      ],
      "metadata": {
        "colab": {
          "base_uri": "https://localhost:8080/",
          "height": 265
        },
        "id": "oUgOeIaI0S7R",
        "outputId": "82bd2d99-da24-4053-e50a-34c7209e99b6"
      },
      "execution_count": null,
      "outputs": [
        {
          "output_type": "display_data",
          "data": {
            "text/plain": [
              "<Figure size 432x288 with 1 Axes>"
            ],
            "image/png": "[encoded data removed]"
          },
          "metadata": {
            "needs_background": "light"
          }
        }
      ]
    },
    {
      "cell_type": "code",
      "source": [
        "df_num = df.select_dtypes(exclude=object)\n",
        "for col in df_num.columns:\n",
        "  fig, ax = plt.subplots(1, 2, figsize=(16,5))\n",
        "  sns.histplot(data=df_num, x=col, ax=ax[0])\n",
        "  sns.boxplot(data=df_num, x=col, ax=ax[1])"
      ],
      "metadata": {
        "colab": {
          "base_uri": "https://localhost:8080/",
          "height": 1000
        },
        "id": "Oa2ZF-y20wAd",
        "outputId": "270daa56-fee5-4656-b27d-ea60b06f39d5"
      },
      "execution_count": null,
      "outputs": [
        {
          "output_type": "display_data",
          "data": {
            "text/plain": [
              "<Figure size 1152x360 with 2 Axes>"
            ],
            "image/png": "[encoded data removed]"
          },
          "metadata": {
            "needs_background": "light"
          }
        },
        {
          "output_type": "display_data",
          "data": {
            "text/plain": [
              "<Figure size 1152x360 with 2 Axes>"
            ],
            "image/png": "[encoded data removed]"
          },
          "metadata": {
            "needs_background": "light"
          }
        },
        {
          "output_type": "display_data",
          "data": {
            "text/plain": [
              "<Figure size 1152x360 with 2 Axes>"
            ],
            "image/png": "[encoded data removed]"
          },
          "metadata": {
            "needs_background": "light"
          }
        },
        {
          "output_type": "display_data",
          "data": {
            "text/plain": [
              "<Figure size 1152x360 with 2 Axes>"
            ],
            "image/png": "[encoded data removed]"
          },
          "metadata": {
            "needs_background": "light"
          }
        },
        {
          "output_type": "display_data",
          "data": {
            "text/plain": [
              "<Figure size 1152x360 with 2 Axes>"
            ],
            "image/png": "[encoded data removed]"
          },
          "metadata": {
            "needs_background": "light"
          }
        },
        {
          "output_type": "display_data",
          "data": {
            "text/plain": [
              "<Figure size 1152x360 with 2 Axes>"
            ],
            "image/png": "[encoded data removed]"
          },
          "metadata": {
            "needs_background": "light"
          }
        },
        {
          "output_type": "display_data",
          "data": {
            "text/plain": [
              "<Figure size 1152x360 with 2 Axes>"
            ],
            "image/png": "[encoded data removed]"
          },
          "metadata": {
            "needs_background": "light"
          }
        },
        {
          "output_type": "display_data",
          "data": {
            "text/plain": [
              "<Figure size 1152x360 with 2 Axes>"
            ],
            "image/png": "[encoded data removed]"
          },
          "metadata": {
            "needs_background": "light"
          }
        },
        {
          "output_type": "display_data",
          "data": {
            "text/plain": [
              "<Figure size 1152x360 with 2 Axes>"
            ],
            "image/png": "[encoded data removed]"
          },
          "metadata": {
            "needs_background": "light"
          }
        },
        {
          "output_type": "display_data",
          "data": {
            "text/plain": [
              "<Figure size 1152x360 with 2 Axes>"
            ],
            "image/png": "[encoded data removed]"
          },
          "metadata": {
            "needs_background": "light"
          }
        },
        {
          "output_type": "display_data",
          "data": {
            "text/plain": [
              "<Figure size 1152x360 with 2 Axes>"
            ],
            "image/png": "[encoded data removed]"
          },
          "metadata": {
            "needs_background": "light"
          }
        },
        {
          "output_type": "display_data",
          "data": {
            "text/plain": [
              "<Figure size 1152x360 with 2 Axes>"
            ],
            "image/png": "[encoded data removed]"
          },
          "metadata": {
            "needs_background": "light"
          }
        },
        {
          "output_type": "display_data",
          "data": {
            "text/plain": [
              "<Figure size 1152x360 with 2 Axes>"
            ],
            "image/png": "[encoded data removed]"
          },
          "metadata": {
            "needs_background": "light"
          }
        },
        {
          "output_type": "display_data",
          "data": {
            "text/plain": [
              "<Figure size 1152x360 with 2 Axes>"
            ],
            "image/png": "[encoded data removed]"
          },
          "metadata": {
            "needs_background": "light"
          }
        },
        {
          "output_type": "display_data",
          "data": {
            "text/plain": [
              "<Figure size 1152x360 with 2 Axes>"
            ],
            "image/png": "[encoded data removed]"
          },
          "metadata": {
            "needs_background": "light"
          }
        },
        {
          "output_type": "display_data",
          "data": {
            "text/plain": [
              "<Figure size 1152x360 with 2 Axes>"
            ],
            "image/png": "[encoded data removed]"
          },
          "metadata": {
            "needs_background": "light"
          }
        }
      ]
    },
    {
      "cell_type": "code",
      "source": [
        "for col in df_num.columns:\n",
        "  sk = df_num[col].skew(axis = 0, skipna = True)\n",
        "  if (sk > 0.5) or (sk< -0.5):\n",
        "    print(col,\" with \",sk,\" is positively skewed! \")\n",
        "  else:\n",
        "    print(col, \" with \", sk, \" is normal!\")"
      ],
      "metadata": {
        "colab": {
          "base_uri": "https://localhost:8080/"
        },
        "id": "jzyy-9-P0zZu",
        "outputId": "2682ecee-6ba4-4c89-e4c6-e5a8730cf51a"
      },
      "execution_count": null,
      "outputs": [
        {
          "output_type": "stream",
          "name": "stdout",
          "text": [
            "Age  with  0.24645159585669962  is normal!\n",
            "Gender  with  0.47179161042153306  is normal!\n",
            "Weight  with  0.4995265079160655  is normal!\n",
            "friends/Relatives  with  -0.20809532065050318  is normal!\n",
            "understanding parents  with  -0.22180699151509017  is normal!\n",
            "injury  with  0.3267732136941852  is normal!\n",
            "fights  with  -0.029846884531720307  is normal!\n",
            "bullied  with  0.08382795562722832  is normal!\n",
            "toxic relationship  with  0.024069132444371394  is normal!\n",
            "stressed  with  0.6621503095522571  is positively skewed! \n",
            "missed classes  with  0.11474891745376366  is normal!\n",
            "smoke  with  0.6711685193682653  is positively skewed! \n",
            "Alcohol  with  0.8282944479487532  is positively skewed! \n",
            "got drunk  with  0.40567855398938774  is normal!\n",
            "drugs  with  0.8827789928483063  is positively skewed! \n",
            "attempted_suicide  with  0.18075678288676555  is normal!\n"
          ]
        }
      ]
    },
    {
      "cell_type": "code",
      "source": [
        "for col in df_num.columns:\n",
        "  kt = kurtosis(df_num[col], axis=0, bias=True)\n",
        "  if kt > 3:\n",
        "    print(col,\" with \",kt,\" is Leptokurtic! Higher chance of outliers!\")\n",
        "  elif kt < 3:\n",
        "    print(col,\" with \",kt,\" is Platykurtic! Medium chance of outliers!\")\n",
        "  else:\n",
        "    print(col,\" with \",kt,\" is Mesokurtic! No chance of outliers!\")"
      ],
      "metadata": {
        "colab": {
          "base_uri": "https://localhost:8080/"
        },
        "id": "m4MxGquw02Gp",
        "outputId": "c542f007-0ea1-4717-f5e1-267a97f84f6e"
      },
      "execution_count": null,
      "outputs": [
        {
          "output_type": "stream",
          "name": "stdout",
          "text": [
            "Age  with  -0.5209348660110953  is Platykurtic! Medium chance of outliers!\n",
            "Gender  with  -1.7777338186421876  is Platykurtic! Medium chance of outliers!\n",
            "Weight  with  -1.1611350935146403  is Platykurtic! Medium chance of outliers!\n",
            "friends/Relatives  with  -1.9567588147471848  is Platykurtic! Medium chance of outliers!\n",
            "understanding parents  with  -1.9508726404047025  is Platykurtic! Medium chance of outliers!\n",
            "injury  with  -1.8933733268472144  is Platykurtic! Medium chance of outliers!\n",
            "fights  with  -1.999110448755924  is Platykurtic! Medium chance of outliers!\n",
            "bullied  with  -1.992983012381938  is Platykurtic! Medium chance of outliers!\n",
            "toxic relationship  with  -1.9994215126933996  is Platykurtic! Medium chance of outliers!\n",
            "stressed  with  -1.562189540000698  is Platykurtic! Medium chance of outliers!\n",
            "missed classes  with  -1.9868516833484993  is Platykurtic! Medium chance of outliers!\n",
            "smoke  with  -1.550182739130882  is Platykurtic! Medium chance of outliers!\n",
            "Alcohol  with  -1.3149181511326176  is Platykurtic! Medium chance of outliers!\n",
            "got drunk  with  -1.8356623548295725  is Platykurtic! Medium chance of outliers!\n",
            "drugs  with  -1.2218255986203528  is Platykurtic! Medium chance of outliers!\n",
            "attempted_suicide  with  -1.9673741250846692  is Platykurtic! Medium chance of outliers!\n"
          ]
        }
      ]
    },
    {
      "cell_type": "code",
      "source": [
        "df_cat = df.select_dtypes(include=object)\n",
        "for col in df_cat.columns:\n",
        "  fig, ax = plt.subplots(1, 1, figsize=(16,5))\n",
        "  df_cat[col].value_counts(normalize=True).plot.bar(figsize = (24,6), title=col)"
      ],
      "metadata": {
        "colab": {
          "base_uri": "https://localhost:8080/",
          "height": 294
        },
        "id": "zkiWVdoU03px",
        "outputId": "1eee3057-86fe-4bff-af15-17049b313a69"
      },
      "execution_count": null,
      "outputs": [
        {
          "output_type": "display_data",
          "data": {
            "text/plain": [
              "<Figure size 1728x432 with 1 Axes>"
            ],
            "image/png": "[encoded data removed]"
          },
          "metadata": {
            "needs_background": "light"
          }
        }
      ]
    },
    {
      "cell_type": "code",
      "source": [
        "for col in df_num.columns:\n",
        "  fig, ax = plt.subplots(1,figsize=(16,5))\n",
        "  plt.scatter(df[col], df['attempted_suicide'])\n",
        "  plt.xlabel(col)\n",
        "  plt.ylabel('attempted_suicide')"
      ],
      "metadata": {
        "colab": {
          "base_uri": "https://localhost:8080/",
          "height": 1000
        },
        "id": "nAHHJOcO08E4",
        "outputId": "f494242d-28f0-49ff-c745-914b9b9e73c1"
      },
      "execution_count": null,
      "outputs": [
        {
          "output_type": "display_data",
          "data": {
            "text/plain": [
              "<Figure size 1152x360 with 1 Axes>"
            ],
            "image/png": "[encoded data removed]"
          },
          "metadata": {
            "needs_background": "light"
          }
        },
        {
          "output_type": "display_data",
          "data": {
            "text/plain": [
              "<Figure size 1152x360 with 1 Axes>"
            ],
            "image/png": "[encoded data removed]"
          },
          "metadata": {
            "needs_background": "light"
          }
        },
        {
          "output_type": "display_data",
          "data": {
            "text/plain": [
              "<Figure size 1152x360 with 1 Axes>"
            ],
            "image/png": "[encoded data removed]"
          },
          "metadata": {
            "needs_background": "light"
          }
        },
        {
          "output_type": "display_data",
          "data": {
            "text/plain": [
              "<Figure size 1152x360 with 1 Axes>"
            ],
            "image/png": "[encoded data removed]"
          },
          "metadata": {
            "needs_background": "light"
          }
        },
        {
          "output_type": "display_data",
          "data": {
            "text/plain": [
              "<Figure size 1152x360 with 1 Axes>"
            ],
            "image/png": "[encoded data removed]"
          },
          "metadata": {
            "needs_background": "light"
          }
        },
        {
          "output_type": "display_data",
          "data": {
            "text/plain": [
              "<Figure size 1152x360 with 1 Axes>"
            ],
            "image/png": "[encoded data removed]"
          },
          "metadata": {
            "needs_background": "light"
          }
        },
        {
          "output_type": "display_data",
          "data": {
            "text/plain": [
              "<Figure size 1152x360 with 1 Axes>"
            ],
            "image/png": "[encoded data removed]"
          },
          "metadata": {
            "needs_background": "light"
          }
        },
        {
          "output_type": "display_data",
          "data": {
            "text/plain": [
              "<Figure size 1152x360 with 1 Axes>"
            ],
            "image/png": "[encoded data removed]"
          },
          "metadata": {
            "needs_background": "light"
          }
        },
        {
          "output_type": "display_data",
          "data": {
            "text/plain": [
              "<Figure size 1152x360 with 1 Axes>"
            ],
            "image/png": "[encoded data removed]"
          },
          "metadata": {
            "needs_background": "light"
          }
        },
        {
          "output_type": "display_data",
          "data": {
            "text/plain": [
              "<Figure size 1152x360 with 1 Axes>"
            ],
            "image/png": "[encoded data removed]"
          },
          "metadata": {
            "needs_background": "light"
          }
        },
        {
          "output_type": "display_data",
          "data": {
            "text/plain": [
              "<Figure size 1152x360 with 1 Axes>"
            ],
            "image/png": "[encoded data removed]"
          },
          "metadata": {
            "needs_background": "light"
          }
        },
        {
          "output_type": "display_data",
          "data": {
            "text/plain": [
              "<Figure size 1152x360 with 1 Axes>"
            ],
            "image/png": "[encoded data removed]"
          },
          "metadata": {
            "needs_background": "light"
          }
        },
        {
          "output_type": "display_data",
          "data": {
            "text/plain": [
              "<Figure size 1152x360 with 1 Axes>"
            ],
            "image/png": "[encoded data removed]"
          },
          "metadata": {
            "needs_background": "light"
          }
        },
        {
          "output_type": "display_data",
          "data": {
            "text/plain": [
              "<Figure size 1152x360 with 1 Axes>"
            ],
            "image/png": "[encoded data removed]"
          },
          "metadata": {
            "needs_background": "light"
          }
        },
        {
          "output_type": "display_data",
          "data": {
            "text/plain": [
              "<Figure size 1152x360 with 1 Axes>"
            ],
            "image/png": "[encoded data removed]"
          },
          "metadata": {
            "needs_background": "light"
          }
        },
        {
          "output_type": "display_data",
          "data": {
            "text/plain": [
              "<Figure size 1152x360 with 1 Axes>"
            ],
            "image/png": "[encoded data removed]"
          },
          "metadata": {
            "needs_background": "light"
          }
        }
      ]
    },
    {
      "cell_type": "code",
      "source": [
        "for col in df_cat.columns:\n",
        "  df.boxplot(column = 'attempted_suicide', by = col,figsize=(25,6))"
      ],
      "metadata": {
        "colab": {
          "base_uri": "https://localhost:8080/",
          "height": 202
        },
        "id": "ymfjeIk80-9s",
        "outputId": "bf1f6bca-aef9-40ee-ab70-a3173f80a56e"
      },
      "execution_count": null,
      "outputs": [
        {
          "output_type": "display_data",
          "data": {
            "text/plain": [
              "<Figure size 1800x432 with 1 Axes>"
            ],
            "image/png": "[encoded data removed]"
          },
          "metadata": {
            "needs_background": "light"
          }
        }
      ]
    },
    {
      "cell_type": "code",
      "source": [
        "max(df['attempted_suicide'])"
      ],
      "metadata": {
        "colab": {
          "base_uri": "https://localhost:8080/"
        },
        "id": "PFcnz6M_1Eic",
        "outputId": "b1dcbee1-4676-4379-d659-049916382dfb"
      },
      "execution_count": null,
      "outputs": [
        {
          "output_type": "execute_result",
          "data": {
            "text/plain": [
              "1"
            ]
          },
          "metadata": {},
          "execution_count": 101
        }
      ]
    },
    {
      "cell_type": "code",
      "source": [
        "med = df['attempted_suicide'].median()"
      ],
      "metadata": {
        "id": "ldqj0qJw1Grk"
      },
      "execution_count": null,
      "outputs": []
    },
    {
      "cell_type": "code",
      "source": [
        "df['attempted_suicide'].replace(1,med,inplace=True)"
      ],
      "metadata": {
        "id": "xZ5z13Mf1IQp"
      },
      "execution_count": null,
      "outputs": []
    },
    {
      "cell_type": "code",
      "source": [
        "max(df['attempted_suicide'])"
      ],
      "metadata": {
        "colab": {
          "base_uri": "https://localhost:8080/"
        },
        "id": "HnIHj_Dz1J77",
        "outputId": "c9079a3b-9e0b-4673-b025-2c61f5ff99c6"
      },
      "execution_count": null,
      "outputs": [
        {
          "output_type": "execute_result",
          "data": {
            "text/plain": [
              "0"
            ]
          },
          "metadata": {},
          "execution_count": 104
        }
      ]
    },
    {
      "cell_type": "code",
      "source": [
        "med = df['attempted_suicide'].median()"
      ],
      "metadata": {
        "id": "Sk88ysSR1MSb"
      },
      "execution_count": null,
      "outputs": []
    },
    {
      "cell_type": "code",
      "source": [
        "df['attempted_suicide'].replace(0,med,inplace=True)"
      ],
      "metadata": {
        "id": "PW3R_Xo91OI1"
      },
      "execution_count": null,
      "outputs": []
    },
    {
      "cell_type": "code",
      "source": [
        "fig, ax = plt.subplots(1, 2, figsize=(16,5))\n",
        "sns.histplot(data=df, x=df['attempted_suicide'], ax=ax[0])\n",
        "sns.boxplot(data=df, x=df['attempted_suicide'], ax=ax[1])"
      ],
      "metadata": {
        "colab": {
          "base_uri": "https://localhost:8080/",
          "height": 260
        },
        "id": "Y44S4Z-m1Q7r",
        "outputId": "08e2c649-fa4c-444b-8690-ec16edde5816"
      },
      "execution_count": null,
      "outputs": [
        {
          "output_type": "execute_result",
          "data": {
            "text/plain": [
              "<Axes: xlabel='attempted_suicide'>"
            ]
          },
          "metadata": {},
          "execution_count": 107
        },
        {
          "output_type": "display_data",
          "data": {
            "text/plain": [
              "<Figure size 1152x360 with 2 Axes>"
            ],
            "image/png": "[encoded data removed]"
          },
          "metadata": {
            "needs_background": "light"
          }
        }
      ]
    },
    {
      "cell_type": "code",
      "source": [
        "max(df['Alcohol'])"
      ],
      "metadata": {
        "colab": {
          "base_uri": "https://localhost:8080/"
        },
        "id": "xYMpKpxu1TsN",
        "outputId": "de3fc96a-ed40-4b1f-c58b-440039b46c7c"
      },
      "execution_count": null,
      "outputs": [
        {
          "output_type": "execute_result",
          "data": {
            "text/plain": [
              "1"
            ]
          },
          "metadata": {},
          "execution_count": 108
        }
      ]
    },
    {
      "cell_type": "code",
      "source": [
        "df['attempted_suicide'].replace(1,med,inplace=True)"
      ],
      "metadata": {
        "id": "9FC0_oiR1VYQ"
      },
      "execution_count": null,
      "outputs": []
    },
    {
      "cell_type": "code",
      "source": [
        "fig, ax = plt.subplots(1,figsize=(16,5))\n",
        "plt.scatter(df['Alcohol'], df['attempted_suicide'])\n",
        "plt.xlabel('Alcohol')\n",
        "plt.ylabel('attempted_suicide')"
      ],
      "metadata": {
        "colab": {
          "base_uri": "https://localhost:8080/",
          "height": 258
        },
        "id": "0K3aPyog1Xxq",
        "outputId": "3b39773d-575d-4524-f37a-be5be3c8c07c"
      },
      "execution_count": null,
      "outputs": [
        {
          "output_type": "execute_result",
          "data": {
            "text/plain": [
              "Text(0, 0.5, 'attempted_suicide')"
            ]
          },
          "metadata": {},
          "execution_count": 110
        },
        {
          "output_type": "display_data",
          "data": {
            "text/plain": [
              "<Figure size 1152x360 with 1 Axes>"
            ],
            "image/png": "[encoded data removed]"
          },
          "metadata": {
            "needs_background": "light"
          }
        }
      ]
    },
    {
      "cell_type": "code",
      "source": [
        "fig, ax = plt.subplots(1, 2, figsize=(16,5))\n",
        "sns.histplot(data=df, x=df['Alcohol'], ax=ax[0])\n",
        "sns.boxplot(data=df, x=df['Alcohol'], ax=ax[1])"
      ],
      "metadata": {
        "colab": {
          "base_uri": "https://localhost:8080/",
          "height": 259
        },
        "id": "8VDUKiyO1aOX",
        "outputId": "fedbc166-61ab-493d-c507-bafccc3be9f8"
      },
      "execution_count": null,
      "outputs": [
        {
          "output_type": "execute_result",
          "data": {
            "text/plain": [
              "<Axes: xlabel='Alcohol'>"
            ]
          },
          "metadata": {},
          "execution_count": 111
        },
        {
          "output_type": "display_data",
          "data": {
            "text/plain": [
              "<Figure size 1152x360 with 2 Axes>"
            ],
            "image/png": "[encoded data removed]"
          },
          "metadata": {
            "needs_background": "light"
          }
        }
      ]
    },
    {
      "cell_type": "code",
      "source": [
        "max(df['injury'])"
      ],
      "metadata": {
        "colab": {
          "base_uri": "https://localhost:8080/"
        },
        "id": "lcsOXY3G1cbl",
        "outputId": "9be7a21d-714f-4558-ebad-d6f2aa1cf580"
      },
      "execution_count": null,
      "outputs": [
        {
          "output_type": "execute_result",
          "data": {
            "text/plain": [
              "1"
            ]
          },
          "metadata": {},
          "execution_count": 112
        }
      ]
    },
    {
      "cell_type": "code",
      "source": [
        "med = df['injury'].median()\n",
        "df['injury'].replace(1,med,inplace=True)"
      ],
      "metadata": {
        "id": "zqW5NRCB1e4t"
      },
      "execution_count": null,
      "outputs": []
    },
    {
      "cell_type": "code",
      "source": [
        "fig, ax = plt.subplots(1,figsize=(16,5))\n",
        "plt.scatter(df['injury'], df['attempted_suicide'])\n",
        "plt.xlabel('injury')\n",
        "plt.ylabel('attempted_suicide')"
      ],
      "metadata": {
        "colab": {
          "base_uri": "https://localhost:8080/",
          "height": 258
        },
        "id": "uoXIpdWe1gsN",
        "outputId": "c335a339-291a-4d95-baf2-0365d10af103"
      },
      "execution_count": null,
      "outputs": [
        {
          "output_type": "execute_result",
          "data": {
            "text/plain": [
              "Text(0, 0.5, 'attempted_suicide')"
            ]
          },
          "metadata": {},
          "execution_count": 114
        },
        {
          "output_type": "display_data",
          "data": {
            "text/plain": [
              "<Figure size 1152x360 with 1 Axes>"
            ],
            "image/png": "[encoded data removed]"
          },
          "metadata": {
            "needs_background": "light"
          }
        }
      ]
    },
    {
      "cell_type": "code",
      "source": [
        "fig, ax = plt.subplots(1, 2, figsize=(16,5))\n",
        "sns.histplot(data=df, x=df['injury'], ax=ax[0])\n",
        "sns.boxplot(data=df, x=df['injury'], ax=ax[1])"
      ],
      "metadata": {
        "colab": {
          "base_uri": "https://localhost:8080/",
          "height": 259
        },
        "id": "J2BFmnYf1ldX",
        "outputId": "47405ab0-2174-484f-b9e8-7e931dd1d8bd"
      },
      "execution_count": null,
      "outputs": [
        {
          "output_type": "execute_result",
          "data": {
            "text/plain": [
              "<Axes: xlabel='injury'>"
            ]
          },
          "metadata": {},
          "execution_count": 115
        },
        {
          "output_type": "display_data",
          "data": {
            "text/plain": [
              "<Figure size 1152x360 with 2 Axes>"
            ],
            "image/png": "[encoded data removed]"
          },
          "metadata": {
            "needs_background": "light"
          }
        }
      ]
    },
    {
      "cell_type": "code",
      "source": [
        "cor_df_num = df_num.corr()\n",
        "cor_df_num"
      ],
      "metadata": {
        "colab": {
          "base_uri": "https://localhost:8080/",
          "height": 649
        },
        "id": "MmX06Z961o9Q",
        "outputId": "140f1f59-8805-4f7e-e304-8d00b1ac54e2"
      },
      "execution_count": null,
      "outputs": [
        {
          "output_type": "execute_result",
          "data": {
            "text/plain": [
              "                            Age    Gender    Weight  friends/Relatives  \\\n",
              "Age                    1.000000  0.143421  0.216630          -0.363183   \n",
              "Gender                 0.143421  1.000000 -0.285424           0.099533   \n",
              "Weight                 0.216630 -0.285424  1.000000          -0.174581   \n",
              "friends/Relatives     -0.363183  0.099533 -0.174581           1.000000   \n",
              "understanding parents -0.169872  0.112141 -0.065716           0.191370   \n",
              "injury                -0.071796 -0.254300 -0.209484           0.162504   \n",
              "fights                 0.104144 -0.259914  0.416723          -0.278680   \n",
              "bullied                0.266177  0.085588  0.195159          -0.320421   \n",
              "toxic relationship     0.150041  0.137029  0.059432           0.056868   \n",
              "stressed               0.112217  0.471169  0.126989           0.037963   \n",
              "missed classes        -0.274891  0.375056 -0.345875           0.231201   \n",
              "smoke                 -0.110755  0.039271 -0.133349           0.234300   \n",
              "Alcohol               -0.007870  0.309452 -0.436321           0.173348   \n",
              "got drunk             -0.092293  0.153409 -0.343822           0.135056   \n",
              "drugs                 -0.303036 -0.293553  0.084242          -0.050864   \n",
              "attempted_suicide     -0.007116  0.294787 -0.189069          -0.370805   \n",
              "\n",
              "                       understanding parents    injury    fights   bullied  \\\n",
              "Age                                -0.169872 -0.071796  0.104144  0.266177   \n",
              "Gender                              0.112141 -0.254300 -0.259914  0.085588   \n",
              "Weight                             -0.065716 -0.209484  0.416723  0.195159   \n",
              "friends/Relatives                   0.191370  0.162504 -0.278680 -0.320421   \n",
              "understanding parents               1.000000 -0.419791  0.089823  0.238592   \n",
              "injury                             -0.419791  1.000000 -0.199846 -0.335125   \n",
              "fights                              0.089823 -0.199846  1.000000  0.484508   \n",
              "bullied                             0.238592 -0.335125  0.484508  1.000000   \n",
              "toxic relationship                  0.063766  0.261722 -0.377475 -0.196457   \n",
              "stressed                           -0.156528 -0.004220 -0.107046 -0.064058   \n",
              "missed classes                      0.036892  0.064353 -0.123943 -0.205413   \n",
              "smoke                              -0.164457  0.408402 -0.293847 -0.263361   \n",
              "Alcohol                            -0.233295  0.322222 -0.430630 -0.165824   \n",
              "got drunk                          -0.443178  0.510434 -0.174169 -0.159292   \n",
              "drugs                               0.143559  0.097909  0.211102 -0.181061   \n",
              "attempted_suicide                  -0.371434  0.027828 -0.065792 -0.031335   \n",
              "\n",
              "                       toxic relationship  stressed  missed classes     smoke  \\\n",
              "Age                              0.150041  0.112217       -0.274891 -0.110755   \n",
              "Gender                           0.137029  0.471169        0.375056  0.039271   \n",
              "Weight                           0.059432  0.126989       -0.345875 -0.133349   \n",
              "friends/Relatives                0.056868  0.037963        0.231201  0.234300   \n",
              "understanding parents            0.063766 -0.156528        0.036892 -0.164457   \n",
              "injury                           0.261722 -0.004220        0.064353  0.408402   \n",
              "fights                          -0.377475 -0.107046       -0.123943 -0.293847   \n",
              "bullied                         -0.196457 -0.064058       -0.205413 -0.263361   \n",
              "toxic relationship               1.000000 -0.107847        0.107721  0.318142   \n",
              "stressed                        -0.107847  1.000000        0.147991 -0.107203   \n",
              "missed classes                   0.107721  0.147991        1.000000  0.143893   \n",
              "smoke                            0.318142 -0.107203        0.143893  1.000000   \n",
              "Alcohol                          0.249597  0.157528        0.653596  0.404234   \n",
              "got drunk                       -0.163916  0.432826        0.266126  0.248308   \n",
              "drugs                           -0.181430 -0.249470        0.052118  0.442614   \n",
              "attempted_suicide               -0.046970  0.349104        0.178164 -0.249833   \n",
              "\n",
              "                        Alcohol  got drunk     drugs  attempted_suicide  \n",
              "Age                   -0.007870  -0.092293 -0.303036          -0.007116  \n",
              "Gender                 0.309452   0.153409 -0.293553           0.294787  \n",
              "Weight                -0.436321  -0.343822  0.084242          -0.189069  \n",
              "friends/Relatives      0.173348   0.135056 -0.050864          -0.370805  \n",
              "understanding parents -0.233295  -0.443178  0.143559          -0.371434  \n",
              "injury                 0.322222   0.510434  0.097909           0.027828  \n",
              "fights                -0.430630  -0.174169  0.211102          -0.065792  \n",
              "bullied               -0.165824  -0.159292 -0.181061          -0.031335  \n",
              "toxic relationship     0.249597  -0.163916 -0.181430          -0.046970  \n",
              "stressed               0.157528   0.432826 -0.249470           0.349104  \n",
              "missed classes         0.653596   0.266126  0.052118           0.178164  \n",
              "smoke                  0.404234   0.248308  0.442614          -0.249833  \n",
              "Alcohol                1.000000   0.537030 -0.180830           0.225533  \n",
              "got drunk              0.537030   1.000000 -0.069555           0.254201  \n",
              "drugs                 -0.180830  -0.069555  1.000000          -0.359184  \n",
              "attempted_suicide      0.225533   0.254201 -0.359184           1.000000  "
            ],
            "text/html": [
              "\n",
              "  <div id=\"df-d9075a1b-7e4e-4d48-a441-862a26bd89df\">\n",
              "    <div class=\"colab-df-container\">\n",
              "      <div>\n",
              "<style scoped>\n",
              "    .dataframe tbody tr th:only-of-type {\n",
              "        vertical-align: middle;\n",
              "    }\n",
              "\n",
              "    .dataframe tbody tr th {\n",
              "        vertical-align: top;\n",
              "    }\n",
              "\n",
              "    .dataframe thead th {\n",
              "        text-align: right;\n",
              "    }\n",
              "</style>\n",
              "<table border=\"1\" class=\"dataframe\">\n",
              "  <thead>\n",
              "    <tr style=\"text-align: right;\">\n",
              "      <th></th>\n",
              "      <th>Age</th>\n",
              "      <th>Gender</th>\n",
              "      <th>Weight</th>\n",
              "      <th>friends/Relatives</th>\n",
              "      <th>understanding parents</th>\n",
              "      <th>injury</th>\n",
              "      <th>fights</th>\n",
              "      <th>bullied</th>\n",
              "      <th>toxic relationship</th>\n",
              "      <th>stressed</th>\n",
              "      <th>missed classes</th>\n",
              "      <th>smoke</th>\n",
              "      <th>Alcohol</th>\n",
              "      <th>got drunk</th>\n",
              "      <th>drugs</th>\n",
              "      <th>attempted_suicide</th>\n",
              "    </tr>\n",
              "  </thead>\n",
              "  <tbody>\n",
              "    <tr>\n",
              "      <th>Age</th>\n",
              "      <td>1.000000</td>\n",
              "      <td>0.143421</td>\n",
              "      <td>0.216630</td>\n",
              "      <td>-0.363183</td>\n",
              "      <td>-0.169872</td>\n",
              "      <td>-0.071796</td>\n",
              "      <td>0.104144</td>\n",
              "      <td>0.266177</td>\n",
              "      <td>0.150041</td>\n",
              "      <td>0.112217</td>\n",
              "      <td>-0.274891</td>\n",
              "      <td>-0.110755</td>\n",
              "      <td>-0.007870</td>\n",
              "      <td>-0.092293</td>\n",
              "      <td>-0.303036</td>\n",
              "      <td>-0.007116</td>\n",
              "    </tr>\n",
              "    <tr>\n",
              "      <th>Gender</th>\n",
              "      <td>0.143421</td>\n",
              "      <td>1.000000</td>\n",
              "      <td>-0.285424</td>\n",
              "      <td>0.099533</td>\n",
              "      <td>0.112141</td>\n",
              "      <td>-0.254300</td>\n",
              "      <td>-0.259914</td>\n",
              "      <td>0.085588</td>\n",
              "      <td>0.137029</td>\n",
              "      <td>0.471169</td>\n",
              "      <td>0.375056</td>\n",
              "      <td>0.039271</td>\n",
              "      <td>0.309452</td>\n",
              "      <td>0.153409</td>\n",
              "      <td>-0.293553</td>\n",
              "      <td>0.294787</td>\n",
              "    </tr>\n",
              "    <tr>\n",
              "      <th>Weight</th>\n",
              "      <td>0.216630</td>\n",
              "      <td>-0.285424</td>\n",
              "      <td>1.000000</td>\n",
              "      <td>-0.174581</td>\n",
              "      <td>-0.065716</td>\n",
              "      <td>-0.209484</td>\n",
              "      <td>0.416723</td>\n",
              "      <td>0.195159</td>\n",
              "      <td>0.059432</td>\n",
              "      <td>0.126989</td>\n",
              "      <td>-0.345875</td>\n",
              "      <td>-0.133349</td>\n",
              "      <td>-0.436321</td>\n",
              "      <td>-0.343822</td>\n",
              "      <td>0.084242</td>\n",
              "      <td>-0.189069</td>\n",
              "    </tr>\n",
              "    <tr>\n",
              "      <th>friends/Relatives</th>\n",
              "      <td>-0.363183</td>\n",
              "      <td>0.099533</td>\n",
              "      <td>-0.174581</td>\n",
              "      <td>1.000000</td>\n",
              "      <td>0.191370</td>\n",
              "      <td>0.162504</td>\n",
              "      <td>-0.278680</td>\n",
              "      <td>-0.320421</td>\n",
              "      <td>0.056868</td>\n",
              "      <td>0.037963</td>\n",
              "      <td>0.231201</td>\n",
              "      <td>0.234300</td>\n",
              "      <td>0.173348</td>\n",
              "      <td>0.135056</td>\n",
              "      <td>-0.050864</td>\n",
              "      <td>-0.370805</td>\n",
              "    </tr>\n",
              "    <tr>\n",
              "      <th>understanding parents</th>\n",
              "      <td>-0.169872</td>\n",
              "      <td>0.112141</td>\n",
              "      <td>-0.065716</td>\n",
              "      <td>0.191370</td>\n",
              "      <td>1.000000</td>\n",
              "      <td>-0.419791</td>\n",
              "      <td>0.089823</td>\n",
              "      <td>0.238592</td>\n",
              "      <td>0.063766</td>\n",
              "      <td>-0.156528</td>\n",
              "      <td>0.036892</td>\n",
              "      <td>-0.164457</td>\n",
              "      <td>-0.233295</td>\n",
              "      <td>-0.443178</td>\n",
              "      <td>0.143559</td>\n",
              "      <td>-0.371434</td>\n",
              "    </tr>\n",
              "    <tr>\n",
              "      <th>injury</th>\n",
              "      <td>-0.071796</td>\n",
              "      <td>-0.254300</td>\n",
              "      <td>-0.209484</td>\n",
              "      <td>0.162504</td>\n",
              "      <td>-0.419791</td>\n",
              "      <td>1.000000</td>\n",
              "      <td>-0.199846</td>\n",
              "      <td>-0.335125</td>\n",
              "      <td>0.261722</td>\n",
              "      <td>-0.004220</td>\n",
              "      <td>0.064353</td>\n",
              "      <td>0.408402</td>\n",
              "      <td>0.322222</td>\n",
              "      <td>0.510434</td>\n",
              "      <td>0.097909</td>\n",
              "      <td>0.027828</td>\n",
              "    </tr>\n",
              "    <tr>\n",
              "      <th>fights</th>\n",
              "      <td>0.104144</td>\n",
              "      <td>-0.259914</td>\n",
              "      <td>0.416723</td>\n",
              "      <td>-0.278680</td>\n",
              "      <td>0.089823</td>\n",
              "      <td>-0.199846</td>\n",
              "      <td>1.000000</td>\n",
              "      <td>0.484508</td>\n",
              "      <td>-0.377475</td>\n",
              "      <td>-0.107046</td>\n",
              "      <td>-0.123943</td>\n",
              "      <td>-0.293847</td>\n",
              "      <td>-0.430630</td>\n",
              "      <td>-0.174169</td>\n",
              "      <td>0.211102</td>\n",
              "      <td>-0.065792</td>\n",
              "    </tr>\n",
              "    <tr>\n",
              "      <th>bullied</th>\n",
              "      <td>0.266177</td>\n",
              "      <td>0.085588</td>\n",
              "      <td>0.195159</td>\n",
              "      <td>-0.320421</td>\n",
              "      <td>0.238592</td>\n",
              "      <td>-0.335125</td>\n",
              "      <td>0.484508</td>\n",
              "      <td>1.000000</td>\n",
              "      <td>-0.196457</td>\n",
              "      <td>-0.064058</td>\n",
              "      <td>-0.205413</td>\n",
              "      <td>-0.263361</td>\n",
              "      <td>-0.165824</td>\n",
              "      <td>-0.159292</td>\n",
              "      <td>-0.181061</td>\n",
              "      <td>-0.031335</td>\n",
              "    </tr>\n",
              "    <tr>\n",
              "      <th>toxic relationship</th>\n",
              "      <td>0.150041</td>\n",
              "      <td>0.137029</td>\n",
              "      <td>0.059432</td>\n",
              "      <td>0.056868</td>\n",
              "      <td>0.063766</td>\n",
              "      <td>0.261722</td>\n",
              "      <td>-0.377475</td>\n",
              "      <td>-0.196457</td>\n",
              "      <td>1.000000</td>\n",
              "      <td>-0.107847</td>\n",
              "      <td>0.107721</td>\n",
              "      <td>0.318142</td>\n",
              "      <td>0.249597</td>\n",
              "      <td>-0.163916</td>\n",
              "      <td>-0.181430</td>\n",
              "      <td>-0.046970</td>\n",
              "    </tr>\n",
              "    <tr>\n",
              "      <th>stressed</th>\n",
              "      <td>0.112217</td>\n",
              "      <td>0.471169</td>\n",
              "      <td>0.126989</td>\n",
              "      <td>0.037963</td>\n",
              "      <td>-0.156528</td>\n",
              "      <td>-0.004220</td>\n",
              "      <td>-0.107046</td>\n",
              "      <td>-0.064058</td>\n",
              "      <td>-0.107847</td>\n",
              "      <td>1.000000</td>\n",
              "      <td>0.147991</td>\n",
              "      <td>-0.107203</td>\n",
              "      <td>0.157528</td>\n",
              "      <td>0.432826</td>\n",
              "      <td>-0.249470</td>\n",
              "      <td>0.349104</td>\n",
              "    </tr>\n",
              "    <tr>\n",
              "      <th>missed classes</th>\n",
              "      <td>-0.274891</td>\n",
              "      <td>0.375056</td>\n",
              "      <td>-0.345875</td>\n",
              "      <td>0.231201</td>\n",
              "      <td>0.036892</td>\n",
              "      <td>0.064353</td>\n",
              "      <td>-0.123943</td>\n",
              "      <td>-0.205413</td>\n",
              "      <td>0.107721</td>\n",
              "      <td>0.147991</td>\n",
              "      <td>1.000000</td>\n",
              "      <td>0.143893</td>\n",
              "      <td>0.653596</td>\n",
              "      <td>0.266126</td>\n",
              "      <td>0.052118</td>\n",
              "      <td>0.178164</td>\n",
              "    </tr>\n",
              "    <tr>\n",
              "      <th>smoke</th>\n",
              "      <td>-0.110755</td>\n",
              "      <td>0.039271</td>\n",
              "      <td>-0.133349</td>\n",
              "      <td>0.234300</td>\n",
              "      <td>-0.164457</td>\n",
              "      <td>0.408402</td>\n",
              "      <td>-0.293847</td>\n",
              "      <td>-0.263361</td>\n",
              "      <td>0.318142</td>\n",
              "      <td>-0.107203</td>\n",
              "      <td>0.143893</td>\n",
              "      <td>1.000000</td>\n",
              "      <td>0.404234</td>\n",
              "      <td>0.248308</td>\n",
              "      <td>0.442614</td>\n",
              "      <td>-0.249833</td>\n",
              "    </tr>\n",
              "    <tr>\n",
              "      <th>Alcohol</th>\n",
              "      <td>-0.007870</td>\n",
              "      <td>0.309452</td>\n",
              "      <td>-0.436321</td>\n",
              "      <td>0.173348</td>\n",
              "      <td>-0.233295</td>\n",
              "      <td>0.322222</td>\n",
              "      <td>-0.430630</td>\n",
              "      <td>-0.165824</td>\n",
              "      <td>0.249597</td>\n",
              "      <td>0.157528</td>\n",
              "      <td>0.653596</td>\n",
              "      <td>0.404234</td>\n",
              "      <td>1.000000</td>\n",
              "      <td>0.537030</td>\n",
              "      <td>-0.180830</td>\n",
              "      <td>0.225533</td>\n",
              "    </tr>\n",
              "    <tr>\n",
              "      <th>got drunk</th>\n",
              "      <td>-0.092293</td>\n",
              "      <td>0.153409</td>\n",
              "      <td>-0.343822</td>\n",
              "      <td>0.135056</td>\n",
              "      <td>-0.443178</td>\n",
              "      <td>0.510434</td>\n",
              "      <td>-0.174169</td>\n",
              "      <td>-0.159292</td>\n",
              "      <td>-0.163916</td>\n",
              "      <td>0.432826</td>\n",
              "      <td>0.266126</td>\n",
              "      <td>0.248308</td>\n",
              "      <td>0.537030</td>\n",
              "      <td>1.000000</td>\n",
              "      <td>-0.069555</td>\n",
              "      <td>0.254201</td>\n",
              "    </tr>\n",
              "    <tr>\n",
              "      <th>drugs</th>\n",
              "      <td>-0.303036</td>\n",
              "      <td>-0.293553</td>\n",
              "      <td>0.084242</td>\n",
              "      <td>-0.050864</td>\n",
              "      <td>0.143559</td>\n",
              "      <td>0.097909</td>\n",
              "      <td>0.211102</td>\n",
              "      <td>-0.181061</td>\n",
              "      <td>-0.181430</td>\n",
              "      <td>-0.249470</td>\n",
              "      <td>0.052118</td>\n",
              "      <td>0.442614</td>\n",
              "      <td>-0.180830</td>\n",
              "      <td>-0.069555</td>\n",
              "      <td>1.000000</td>\n",
              "      <td>-0.359184</td>\n",
              "    </tr>\n",
              "    <tr>\n",
              "      <th>attempted_suicide</th>\n",
              "      <td>-0.007116</td>\n",
              "      <td>0.294787</td>\n",
              "      <td>-0.189069</td>\n",
              "      <td>-0.370805</td>\n",
              "      <td>-0.371434</td>\n",
              "      <td>0.027828</td>\n",
              "      <td>-0.065792</td>\n",
              "      <td>-0.031335</td>\n",
              "      <td>-0.046970</td>\n",
              "      <td>0.349104</td>\n",
              "      <td>0.178164</td>\n",
              "      <td>-0.249833</td>\n",
              "      <td>0.225533</td>\n",
              "      <td>0.254201</td>\n",
              "      <td>-0.359184</td>\n",
              "      <td>1.000000</td>\n",
              "    </tr>\n",
              "  </tbody>\n",
              "</table>\n",
              "</div>\n",
              "      <button class=\"colab-df-convert\" onclick=\"convertToInteractive('df-d9075a1b-7e4e-4d48-a441-862a26bd89df')\"\n",
              "              title=\"Convert this dataframe to an interactive table.\"\n",
              "              style=\"display:none;\">\n",
              "        \n",
              "  <svg xmlns=\"http://www.w3.org/2000/svg\" height=\"24px\"viewBox=\"0 0 24 24\"\n",
              "       width=\"24px\">\n",
              "    <path d=\"M0 0h24v24H0V0z\" fill=\"none\"/>\n",
              "    <path d=\"M18.56 5.44l.94 2.06.94-2.06 2.06-.94-2.06-.94-.94-2.06-.94 2.06-2.06.94zm-11 1L8.5 8.5l.94-2.06 2.06-.94-2.06-.94L8.5 2.5l-.94 2.06-2.06.94zm10 10l.94 2.06.94-2.06 2.06-.94-2.06-.94-.94-2.06-.94 2.06-2.06.94z\"/><path d=\"M17.41 7.96l-1.37-1.37c-.4-.4-.92-.59-1.43-.59-.52 0-1.04.2-1.43.59L10.3 9.45l-7.72 7.72c-.78.78-.78 2.05 0 2.83L4 21.41c.39.39.9.59 1.41.59.51 0 1.02-.2 1.41-.59l7.78-7.78 2.81-2.81c.8-.78.8-2.07 0-2.86zM5.41 20L4 18.59l7.72-7.72 1.47 1.35L5.41 20z\"/>\n",
              "  </svg>\n",
              "      </button>\n",
              "      \n",
              "  <style>\n",
              "    .colab-df-container {\n",
              "      display:flex;\n",
              "      flex-wrap:wrap;\n",
              "      gap: 12px;\n",
              "    }\n",
              "\n",
              "    .colab-df-convert {\n",
              "      background-color: #E8F0FE;\n",
              "      border: none;\n",
              "      border-radius: 50%;\n",
              "      cursor: pointer;\n",
              "      display: none;\n",
              "      fill: #1967D2;\n",
              "      height: 32px;\n",
              "      padding: 0 0 0 0;\n",
              "      width: 32px;\n",
              "    }\n",
              "\n",
              "    .colab-df-convert:hover {\n",
              "      background-color: #E2EBFA;\n",
              "      box-shadow: 0px 1px 2px rgba(60, 64, 67, 0.3), 0px 1px 3px 1px rgba(60, 64, 67, 0.15);\n",
              "      fill: #174EA6;\n",
              "    }\n",
              "\n",
              "    [theme=dark] .colab-df-convert {\n",
              "      background-color: #3B4455;\n",
              "      fill: #D2E3FC;\n",
              "    }\n",
              "\n",
              "    [theme=dark] .colab-df-convert:hover {\n",
              "      background-color: #434B5C;\n",
              "      box-shadow: 0px 1px 3px 1px rgba(0, 0, 0, 0.15);\n",
              "      filter: drop-shadow(0px 1px 2px rgba(0, 0, 0, 0.3));\n",
              "      fill: #FFFFFF;\n",
              "    }\n",
              "  </style>\n",
              "\n",
              "      <script>\n",
              "        const buttonEl =\n",
              "          document.querySelector('#df-d9075a1b-7e4e-4d48-a441-862a26bd89df button.colab-df-convert');\n",
              "        buttonEl.style.display =\n",
              "          google.colab.kernel.accessAllowed ? 'block' : 'none';\n",
              "\n",
              "        async function convertToInteractive(key) {\n",
              "          const element = document.querySelector('#df-d9075a1b-7e4e-4d48-a441-862a26bd89df');\n",
              "          const dataTable =\n",
              "            await google.colab.kernel.invokeFunction('convertToInteractive',\n",
              "                                                     [key], {});\n",
              "          if (!dataTable) return;\n",
              "\n",
              "          const docLinkHtml = 'Like what you see? Visit the ' +\n",
              "            '<a target=\"_blank\" href=https://colab.research.google.com/notebooks/data_table.ipynb>data table notebook</a>'\n",
              "            + ' to learn more about interactive tables.';\n",
              "          element.innerHTML = '';\n",
              "          dataTable['output_type'] = 'display_data';\n",
              "          await google.colab.output.renderOutput(dataTable, element);\n",
              "          const docLink = document.createElement('div');\n",
              "          docLink.innerHTML = docLinkHtml;\n",
              "          element.appendChild(docLink);\n",
              "        }\n",
              "      </script>\n",
              "    </div>\n",
              "  </div>\n",
              "  "
            ]
          },
          "metadata": {},
          "execution_count": 116
        }
      ]
    },
    {
      "cell_type": "code",
      "source": [
        "plt.figure(figsize = (20,8))\n",
        "sns.heatmap(cor_df_num,annot=True,cmap='Blues')"
      ],
      "metadata": {
        "colab": {
          "base_uri": "https://localhost:8080/",
          "height": 376
        },
        "id": "SYax74uC1wpo",
        "outputId": "03cc68bb-bbaf-4a24-9d32-4d5d68dcd124"
      },
      "execution_count": null,
      "outputs": [
        {
          "output_type": "execute_result",
          "data": {
            "text/plain": [
              "<Axes: >"
            ]
          },
          "metadata": {},
          "execution_count": 117
        },
        {
          "output_type": "display_data",
          "data": {
            "text/plain": [
              "<Figure size 1440x576 with 2 Axes>"
            ],
            "image/png": "[encoded data removed]"
          },
          "metadata": {
            "needs_background": "light"
          }
        }
      ]
    },
    {
      "cell_type": "code",
      "source": [
        "df.groupby(['Weight','bullied'])[['attempted_suicide']].mean().sort_values('attempted_suicide', ascending = False)"
      ],
      "metadata": {
        "colab": {
          "base_uri": "https://localhost:8080/",
          "height": 269
        },
        "id": "_A5xY27_10jL",
        "outputId": "8c4a441b-1f94-4ccc-f802-fe89b4bf141a"
      },
      "execution_count": null,
      "outputs": [
        {
          "output_type": "execute_result",
          "data": {
            "text/plain": [
              "                attempted_suicide\n",
              "Weight bullied                   \n",
              "1      0                      0.0\n",
              "       1                      0.0\n",
              "2      0                      0.0\n",
              "       1                      0.0\n",
              "3      0                      0.0\n",
              "       1                      0.0"
            ],
            "text/html": [
              "\n",
              "  <div id=\"df-9c79b779-8b7c-4405-b7e4-ddbfabd6ce3d\">\n",
              "    <div class=\"colab-df-container\">\n",
              "      <div>\n",
              "<style scoped>\n",
              "    .dataframe tbody tr th:only-of-type {\n",
              "        vertical-align: middle;\n",
              "    }\n",
              "\n",
              "    .dataframe tbody tr th {\n",
              "        vertical-align: top;\n",
              "    }\n",
              "\n",
              "    .dataframe thead th {\n",
              "        text-align: right;\n",
              "    }\n",
              "</style>\n",
              "<table border=\"1\" class=\"dataframe\">\n",
              "  <thead>\n",
              "    <tr style=\"text-align: right;\">\n",
              "      <th></th>\n",
              "      <th></th>\n",
              "      <th>attempted_suicide</th>\n",
              "    </tr>\n",
              "    <tr>\n",
              "      <th>Weight</th>\n",
              "      <th>bullied</th>\n",
              "      <th></th>\n",
              "    </tr>\n",
              "  </thead>\n",
              "  <tbody>\n",
              "    <tr>\n",
              "      <th rowspan=\"2\" valign=\"top\">1</th>\n",
              "      <th>0</th>\n",
              "      <td>0.0</td>\n",
              "    </tr>\n",
              "    <tr>\n",
              "      <th>1</th>\n",
              "      <td>0.0</td>\n",
              "    </tr>\n",
              "    <tr>\n",
              "      <th rowspan=\"2\" valign=\"top\">2</th>\n",
              "      <th>0</th>\n",
              "      <td>0.0</td>\n",
              "    </tr>\n",
              "    <tr>\n",
              "      <th>1</th>\n",
              "      <td>0.0</td>\n",
              "    </tr>\n",
              "    <tr>\n",
              "      <th rowspan=\"2\" valign=\"top\">3</th>\n",
              "      <th>0</th>\n",
              "      <td>0.0</td>\n",
              "    </tr>\n",
              "    <tr>\n",
              "      <th>1</th>\n",
              "      <td>0.0</td>\n",
              "    </tr>\n",
              "  </tbody>\n",
              "</table>\n",
              "</div>\n",
              "      <button class=\"colab-df-convert\" onclick=\"convertToInteractive('df-9c79b779-8b7c-4405-b7e4-ddbfabd6ce3d')\"\n",
              "              title=\"Convert this dataframe to an interactive table.\"\n",
              "              style=\"display:none;\">\n",
              "        \n",
              "  <svg xmlns=\"http://www.w3.org/2000/svg\" height=\"24px\"viewBox=\"0 0 24 24\"\n",
              "       width=\"24px\">\n",
              "    <path d=\"M0 0h24v24H0V0z\" fill=\"none\"/>\n",
              "    <path d=\"M18.56 5.44l.94 2.06.94-2.06 2.06-.94-2.06-.94-.94-2.06-.94 2.06-2.06.94zm-11 1L8.5 8.5l.94-2.06 2.06-.94-2.06-.94L8.5 2.5l-.94 2.06-2.06.94zm10 10l.94 2.06.94-2.06 2.06-.94-2.06-.94-.94-2.06-.94 2.06-2.06.94z\"/><path d=\"M17.41 7.96l-1.37-1.37c-.4-.4-.92-.59-1.43-.59-.52 0-1.04.2-1.43.59L10.3 9.45l-7.72 7.72c-.78.78-.78 2.05 0 2.83L4 21.41c.39.39.9.59 1.41.59.51 0 1.02-.2 1.41-.59l7.78-7.78 2.81-2.81c.8-.78.8-2.07 0-2.86zM5.41 20L4 18.59l7.72-7.72 1.47 1.35L5.41 20z\"/>\n",
              "  </svg>\n",
              "      </button>\n",
              "      \n",
              "  <style>\n",
              "    .colab-df-container {\n",
              "      display:flex;\n",
              "      flex-wrap:wrap;\n",
              "      gap: 12px;\n",
              "    }\n",
              "\n",
              "    .colab-df-convert {\n",
              "      background-color: #E8F0FE;\n",
              "      border: none;\n",
              "      border-radius: 50%;\n",
              "      cursor: pointer;\n",
              "      display: none;\n",
              "      fill: #1967D2;\n",
              "      height: 32px;\n",
              "      padding: 0 0 0 0;\n",
              "      width: 32px;\n",
              "    }\n",
              "\n",
              "    .colab-df-convert:hover {\n",
              "      background-color: #E2EBFA;\n",
              "      box-shadow: 0px 1px 2px rgba(60, 64, 67, 0.3), 0px 1px 3px 1px rgba(60, 64, 67, 0.15);\n",
              "      fill: #174EA6;\n",
              "    }\n",
              "\n",
              "    [theme=dark] .colab-df-convert {\n",
              "      background-color: #3B4455;\n",
              "      fill: #D2E3FC;\n",
              "    }\n",
              "\n",
              "    [theme=dark] .colab-df-convert:hover {\n",
              "      background-color: #434B5C;\n",
              "      box-shadow: 0px 1px 3px 1px rgba(0, 0, 0, 0.15);\n",
              "      filter: drop-shadow(0px 1px 2px rgba(0, 0, 0, 0.3));\n",
              "      fill: #FFFFFF;\n",
              "    }\n",
              "  </style>\n",
              "\n",
              "      <script>\n",
              "        const buttonEl =\n",
              "          document.querySelector('#df-9c79b779-8b7c-4405-b7e4-ddbfabd6ce3d button.colab-df-convert');\n",
              "        buttonEl.style.display =\n",
              "          google.colab.kernel.accessAllowed ? 'block' : 'none';\n",
              "\n",
              "        async function convertToInteractive(key) {\n",
              "          const element = document.querySelector('#df-9c79b779-8b7c-4405-b7e4-ddbfabd6ce3d');\n",
              "          const dataTable =\n",
              "            await google.colab.kernel.invokeFunction('convertToInteractive',\n",
              "                                                     [key], {});\n",
              "          if (!dataTable) return;\n",
              "\n",
              "          const docLinkHtml = 'Like what you see? Visit the ' +\n",
              "            '<a target=\"_blank\" href=https://colab.research.google.com/notebooks/data_table.ipynb>data table notebook</a>'\n",
              "            + ' to learn more about interactive tables.';\n",
              "          element.innerHTML = '';\n",
              "          dataTable['output_type'] = 'display_data';\n",
              "          await google.colab.output.renderOutput(dataTable, element);\n",
              "          const docLink = document.createElement('div');\n",
              "          docLink.innerHTML = docLinkHtml;\n",
              "          element.appendChild(docLink);\n",
              "        }\n",
              "      </script>\n",
              "    </div>\n",
              "  </div>\n",
              "  "
            ]
          },
          "metadata": {},
          "execution_count": 118
        }
      ]
    },
    {
      "cell_type": "code",
      "source": [
        "df.groupby(['Age','toxic relationship'])[['attempted_suicide']].mean().sort_values('attempted_suicide', ascending = True)"
      ],
      "metadata": {
        "colab": {
          "base_uri": "https://localhost:8080/",
          "height": 1000
        },
        "id": "mcHatvcE147n",
        "outputId": "ed415762-a7d5-4951-ae6d-ae41b57a626b"
      },
      "execution_count": null,
      "outputs": [
        {
          "output_type": "execute_result",
          "data": {
            "text/plain": [
              "                        attempted_suicide\n",
              "Age toxic relationship                   \n",
              "9   1                                 0.0\n",
              "34  1                                 0.0\n",
              "35  0                                 0.0\n",
              "    1                                 0.0\n",
              "36  0                                 0.0\n",
              "    1                                 0.0\n",
              "37  1                                 0.0\n",
              "38  1                                 0.0\n",
              "39  1                                 0.0\n",
              "40  1                                 0.0\n",
              "42  1                                 0.0\n",
              "43  0                                 0.0\n",
              "    1                                 0.0\n",
              "44  1                                 0.0\n",
              "45  1                                 0.0\n",
              "46  0                                 0.0\n",
              "    1                                 0.0\n",
              "47  1                                 0.0\n",
              "48  1                                 0.0\n",
              "49  1                                 0.0\n",
              "51  0                                 0.0\n",
              "    1                                 0.0\n",
              "52  1                                 0.0\n",
              "53  1                                 0.0\n",
              "34  0                                 0.0\n",
              "32  1                                 0.0\n",
              "31  1                                 0.0\n",
              "30  1                                 0.0\n",
              "10  0                                 0.0\n",
              "13  1                                 0.0\n",
              "16  0                                 0.0\n",
              "17  1                                 0.0\n",
              "18  1                                 0.0\n",
              "19  0                                 0.0\n",
              "    1                                 0.0\n",
              "20  0                                 0.0\n",
              "    1                                 0.0\n",
              "21  0                                 0.0\n",
              "    1                                 0.0\n",
              "55  1                                 0.0\n",
              "22  0                                 0.0\n",
              "23  0                                 0.0\n",
              "    1                                 0.0\n",
              "24  0                                 0.0\n",
              "    1                                 0.0\n",
              "25  1                                 0.0\n",
              "26  1                                 0.0\n",
              "27  0                                 0.0\n",
              "    1                                 0.0\n",
              "28  0                                 0.0\n",
              "    1                                 0.0\n",
              "30  0                                 0.0\n",
              "22  1                                 0.0\n",
              "99  1                                 0.0"
            ],
            "text/html": [
              "\n",
              "  <div id=\"df-9a52a863-2104-48df-8bbf-b7d924a454c7\">\n",
              "    <div class=\"colab-df-container\">\n",
              "      <div>\n",
              "<style scoped>\n",
              "    .dataframe tbody tr th:only-of-type {\n",
              "        vertical-align: middle;\n",
              "    }\n",
              "\n",
              "    .dataframe tbody tr th {\n",
              "        vertical-align: top;\n",
              "    }\n",
              "\n",
              "    .dataframe thead th {\n",
              "        text-align: right;\n",
              "    }\n",
              "</style>\n",
              "<table border=\"1\" class=\"dataframe\">\n",
              "  <thead>\n",
              "    <tr style=\"text-align: right;\">\n",
              "      <th></th>\n",
              "      <th></th>\n",
              "      <th>attempted_suicide</th>\n",
              "    </tr>\n",
              "    <tr>\n",
              "      <th>Age</th>\n",
              "      <th>toxic relationship</th>\n",
              "      <th></th>\n",
              "    </tr>\n",
              "  </thead>\n",
              "  <tbody>\n",
              "    <tr>\n",
              "      <th>9</th>\n",
              "      <th>1</th>\n",
              "      <td>0.0</td>\n",
              "    </tr>\n",
              "    <tr>\n",
              "      <th>34</th>\n",
              "      <th>1</th>\n",
              "      <td>0.0</td>\n",
              "    </tr>\n",
              "    <tr>\n",
              "      <th rowspan=\"2\" valign=\"top\">35</th>\n",
              "      <th>0</th>\n",
              "      <td>0.0</td>\n",
              "    </tr>\n",
              "    <tr>\n",
              "      <th>1</th>\n",
              "      <td>0.0</td>\n",
              "    </tr>\n",
              "    <tr>\n",
              "      <th rowspan=\"2\" valign=\"top\">36</th>\n",
              "      <th>0</th>\n",
              "      <td>0.0</td>\n",
              "    </tr>\n",
              "    <tr>\n",
              "      <th>1</th>\n",
              "      <td>0.0</td>\n",
              "    </tr>\n",
              "    <tr>\n",
              "      <th>37</th>\n",
              "      <th>1</th>\n",
              "      <td>0.0</td>\n",
              "    </tr>\n",
              "    <tr>\n",
              "      <th>38</th>\n",
              "      <th>1</th>\n",
              "      <td>0.0</td>\n",
              "    </tr>\n",
              "    <tr>\n",
              "      <th>39</th>\n",
              "      <th>1</th>\n",
              "      <td>0.0</td>\n",
              "    </tr>\n",
              "    <tr>\n",
              "      <th>40</th>\n",
              "      <th>1</th>\n",
              "      <td>0.0</td>\n",
              "    </tr>\n",
              "    <tr>\n",
              "      <th>42</th>\n",
              "      <th>1</th>\n",
              "      <td>0.0</td>\n",
              "    </tr>\n",
              "    <tr>\n",
              "      <th rowspan=\"2\" valign=\"top\">43</th>\n",
              "      <th>0</th>\n",
              "      <td>0.0</td>\n",
              "    </tr>\n",
              "    <tr>\n",
              "      <th>1</th>\n",
              "      <td>0.0</td>\n",
              "    </tr>\n",
              "    <tr>\n",
              "      <th>44</th>\n",
              "      <th>1</th>\n",
              "      <td>0.0</td>\n",
              "    </tr>\n",
              "    <tr>\n",
              "      <th>45</th>\n",
              "      <th>1</th>\n",
              "      <td>0.0</td>\n",
              "    </tr>\n",
              "    <tr>\n",
              "      <th rowspan=\"2\" valign=\"top\">46</th>\n",
              "      <th>0</th>\n",
              "      <td>0.0</td>\n",
              "    </tr>\n",
              "    <tr>\n",
              "      <th>1</th>\n",
              "      <td>0.0</td>\n",
              "    </tr>\n",
              "    <tr>\n",
              "      <th>47</th>\n",
              "      <th>1</th>\n",
              "      <td>0.0</td>\n",
              "    </tr>\n",
              "    <tr>\n",
              "      <th>48</th>\n",
              "      <th>1</th>\n",
              "      <td>0.0</td>\n",
              "    </tr>\n",
              "    <tr>\n",
              "      <th>49</th>\n",
              "      <th>1</th>\n",
              "      <td>0.0</td>\n",
              "    </tr>\n",
              "    <tr>\n",
              "      <th rowspan=\"2\" valign=\"top\">51</th>\n",
              "      <th>0</th>\n",
              "      <td>0.0</td>\n",
              "    </tr>\n",
              "    <tr>\n",
              "      <th>1</th>\n",
              "      <td>0.0</td>\n",
              "    </tr>\n",
              "    <tr>\n",
              "      <th>52</th>\n",
              "      <th>1</th>\n",
              "      <td>0.0</td>\n",
              "    </tr>\n",
              "    <tr>\n",
              "      <th>53</th>\n",
              "      <th>1</th>\n",
              "      <td>0.0</td>\n",
              "    </tr>\n",
              "    <tr>\n",
              "      <th>34</th>\n",
              "      <th>0</th>\n",
              "      <td>0.0</td>\n",
              "    </tr>\n",
              "    <tr>\n",
              "      <th>32</th>\n",
              "      <th>1</th>\n",
              "      <td>0.0</td>\n",
              "    </tr>\n",
              "    <tr>\n",
              "      <th>31</th>\n",
              "      <th>1</th>\n",
              "      <td>0.0</td>\n",
              "    </tr>\n",
              "    <tr>\n",
              "      <th>30</th>\n",
              "      <th>1</th>\n",
              "      <td>0.0</td>\n",
              "    </tr>\n",
              "    <tr>\n",
              "      <th>10</th>\n",
              "      <th>0</th>\n",
              "      <td>0.0</td>\n",
              "    </tr>\n",
              "    <tr>\n",
              "      <th>13</th>\n",
              "      <th>1</th>\n",
              "      <td>0.0</td>\n",
              "    </tr>\n",
              "    <tr>\n",
              "      <th>16</th>\n",
              "      <th>0</th>\n",
              "      <td>0.0</td>\n",
              "    </tr>\n",
              "    <tr>\n",
              "      <th>17</th>\n",
              "      <th>1</th>\n",
              "      <td>0.0</td>\n",
              "    </tr>\n",
              "    <tr>\n",
              "      <th>18</th>\n",
              "      <th>1</th>\n",
              "      <td>0.0</td>\n",
              "    </tr>\n",
              "    <tr>\n",
              "      <th rowspan=\"2\" valign=\"top\">19</th>\n",
              "      <th>0</th>\n",
              "      <td>0.0</td>\n",
              "    </tr>\n",
              "    <tr>\n",
              "      <th>1</th>\n",
              "      <td>0.0</td>\n",
              "    </tr>\n",
              "    <tr>\n",
              "      <th rowspan=\"2\" valign=\"top\">20</th>\n",
              "      <th>0</th>\n",
              "      <td>0.0</td>\n",
              "    </tr>\n",
              "    <tr>\n",
              "      <th>1</th>\n",
              "      <td>0.0</td>\n",
              "    </tr>\n",
              "    <tr>\n",
              "      <th rowspan=\"2\" valign=\"top\">21</th>\n",
              "      <th>0</th>\n",
              "      <td>0.0</td>\n",
              "    </tr>\n",
              "    <tr>\n",
              "      <th>1</th>\n",
              "      <td>0.0</td>\n",
              "    </tr>\n",
              "    <tr>\n",
              "      <th>55</th>\n",
              "      <th>1</th>\n",
              "      <td>0.0</td>\n",
              "    </tr>\n",
              "    <tr>\n",
              "      <th>22</th>\n",
              "      <th>0</th>\n",
              "      <td>0.0</td>\n",
              "    </tr>\n",
              "    <tr>\n",
              "      <th rowspan=\"2\" valign=\"top\">23</th>\n",
              "      <th>0</th>\n",
              "      <td>0.0</td>\n",
              "    </tr>\n",
              "    <tr>\n",
              "      <th>1</th>\n",
              "      <td>0.0</td>\n",
              "    </tr>\n",
              "    <tr>\n",
              "      <th rowspan=\"2\" valign=\"top\">24</th>\n",
              "      <th>0</th>\n",
              "      <td>0.0</td>\n",
              "    </tr>\n",
              "    <tr>\n",
              "      <th>1</th>\n",
              "      <td>0.0</td>\n",
              "    </tr>\n",
              "    <tr>\n",
              "      <th>25</th>\n",
              "      <th>1</th>\n",
              "      <td>0.0</td>\n",
              "    </tr>\n",
              "    <tr>\n",
              "      <th>26</th>\n",
              "      <th>1</th>\n",
              "      <td>0.0</td>\n",
              "    </tr>\n",
              "    <tr>\n",
              "      <th rowspan=\"2\" valign=\"top\">27</th>\n",
              "      <th>0</th>\n",
              "      <td>0.0</td>\n",
              "    </tr>\n",
              "    <tr>\n",
              "      <th>1</th>\n",
              "      <td>0.0</td>\n",
              "    </tr>\n",
              "    <tr>\n",
              "      <th rowspan=\"2\" valign=\"top\">28</th>\n",
              "      <th>0</th>\n",
              "      <td>0.0</td>\n",
              "    </tr>\n",
              "    <tr>\n",
              "      <th>1</th>\n",
              "      <td>0.0</td>\n",
              "    </tr>\n",
              "    <tr>\n",
              "      <th>30</th>\n",
              "      <th>0</th>\n",
              "      <td>0.0</td>\n",
              "    </tr>\n",
              "    <tr>\n",
              "      <th>22</th>\n",
              "      <th>1</th>\n",
              "      <td>0.0</td>\n",
              "    </tr>\n",
              "    <tr>\n",
              "      <th>99</th>\n",
              "      <th>1</th>\n",
              "      <td>0.0</td>\n",
              "    </tr>\n",
              "  </tbody>\n",
              "</table>\n",
              "</div>\n",
              "      <button class=\"colab-df-convert\" onclick=\"convertToInteractive('df-9a52a863-2104-48df-8bbf-b7d924a454c7')\"\n",
              "              title=\"Convert this dataframe to an interactive table.\"\n",
              "              style=\"display:none;\">\n",
              "        \n",
              "  <svg xmlns=\"http://www.w3.org/2000/svg\" height=\"24px\"viewBox=\"0 0 24 24\"\n",
              "       width=\"24px\">\n",
              "    <path d=\"M0 0h24v24H0V0z\" fill=\"none\"/>\n",
              "    <path d=\"M18.56 5.44l.94 2.06.94-2.06 2.06-.94-2.06-.94-.94-2.06-.94 2.06-2.06.94zm-11 1L8.5 8.5l.94-2.06 2.06-.94-2.06-.94L8.5 2.5l-.94 2.06-2.06.94zm10 10l.94 2.06.94-2.06 2.06-.94-2.06-.94-.94-2.06-.94 2.06-2.06.94z\"/><path d=\"M17.41 7.96l-1.37-1.37c-.4-.4-.92-.59-1.43-.59-.52 0-1.04.2-1.43.59L10.3 9.45l-7.72 7.72c-.78.78-.78 2.05 0 2.83L4 21.41c.39.39.9.59 1.41.59.51 0 1.02-.2 1.41-.59l7.78-7.78 2.81-2.81c.8-.78.8-2.07 0-2.86zM5.41 20L4 18.59l7.72-7.72 1.47 1.35L5.41 20z\"/>\n",
              "  </svg>\n",
              "      </button>\n",
              "      \n",
              "  <style>\n",
              "    .colab-df-container {\n",
              "      display:flex;\n",
              "      flex-wrap:wrap;\n",
              "      gap: 12px;\n",
              "    }\n",
              "\n",
              "    .colab-df-convert {\n",
              "      background-color: #E8F0FE;\n",
              "      border: none;\n",
              "      border-radius: 50%;\n",
              "      cursor: pointer;\n",
              "      display: none;\n",
              "      fill: #1967D2;\n",
              "      height: 32px;\n",
              "      padding: 0 0 0 0;\n",
              "      width: 32px;\n",
              "    }\n",
              "\n",
              "    .colab-df-convert:hover {\n",
              "      background-color: #E2EBFA;\n",
              "      box-shadow: 0px 1px 2px rgba(60, 64, 67, 0.3), 0px 1px 3px 1px rgba(60, 64, 67, 0.15);\n",
              "      fill: #174EA6;\n",
              "    }\n",
              "\n",
              "    [theme=dark] .colab-df-convert {\n",
              "      background-color: #3B4455;\n",
              "      fill: #D2E3FC;\n",
              "    }\n",
              "\n",
              "    [theme=dark] .colab-df-convert:hover {\n",
              "      background-color: #434B5C;\n",
              "      box-shadow: 0px 1px 3px 1px rgba(0, 0, 0, 0.15);\n",
              "      filter: drop-shadow(0px 1px 2px rgba(0, 0, 0, 0.3));\n",
              "      fill: #FFFFFF;\n",
              "    }\n",
              "  </style>\n",
              "\n",
              "      <script>\n",
              "        const buttonEl =\n",
              "          document.querySelector('#df-9a52a863-2104-48df-8bbf-b7d924a454c7 button.colab-df-convert');\n",
              "        buttonEl.style.display =\n",
              "          google.colab.kernel.accessAllowed ? 'block' : 'none';\n",
              "\n",
              "        async function convertToInteractive(key) {\n",
              "          const element = document.querySelector('#df-9a52a863-2104-48df-8bbf-b7d924a454c7');\n",
              "          const dataTable =\n",
              "            await google.colab.kernel.invokeFunction('convertToInteractive',\n",
              "                                                     [key], {});\n",
              "          if (!dataTable) return;\n",
              "\n",
              "          const docLinkHtml = 'Like what you see? Visit the ' +\n",
              "            '<a target=\"_blank\" href=https://colab.research.google.com/notebooks/data_table.ipynb>data table notebook</a>'\n",
              "            + ' to learn more about interactive tables.';\n",
              "          element.innerHTML = '';\n",
              "          dataTable['output_type'] = 'display_data';\n",
              "          await google.colab.output.renderOutput(dataTable, element);\n",
              "          const docLink = document.createElement('div');\n",
              "          docLink.innerHTML = docLinkHtml;\n",
              "          element.appendChild(docLink);\n",
              "        }\n",
              "      </script>\n",
              "    </div>\n",
              "  </div>\n",
              "  "
            ]
          },
          "metadata": {},
          "execution_count": 119
        }
      ]
    },
    {
      "cell_type": "code",
      "source": [
        "df.groupby(['Gender','Weight'])[['attempted_suicide']].mean().sort_values('attempted_suicide', ascending = True)"
      ],
      "metadata": {
        "colab": {
          "base_uri": "https://localhost:8080/",
          "height": 269
        },
        "id": "3iA9Htgf18gc",
        "outputId": "cf3ce6c7-874d-4d47-9b12-0433581dee82"
      },
      "execution_count": null,
      "outputs": [
        {
          "output_type": "execute_result",
          "data": {
            "text/plain": [
              "               attempted_suicide\n",
              "Gender Weight                   \n",
              "8      1                     0.0\n",
              "       2                     0.0\n",
              "       3                     0.0\n",
              "9      1                     0.0\n",
              "       2                     0.0\n",
              "       3                     0.0"
            ],
            "text/html": [
              "\n",
              "  <div id=\"df-333eb319-3320-49b5-9c1d-21dc627c4d42\">\n",
              "    <div class=\"colab-df-container\">\n",
              "      <div>\n",
              "<style scoped>\n",
              "    .dataframe tbody tr th:only-of-type {\n",
              "        vertical-align: middle;\n",
              "    }\n",
              "\n",
              "    .dataframe tbody tr th {\n",
              "        vertical-align: top;\n",
              "    }\n",
              "\n",
              "    .dataframe thead th {\n",
              "        text-align: right;\n",
              "    }\n",
              "</style>\n",
              "<table border=\"1\" class=\"dataframe\">\n",
              "  <thead>\n",
              "    <tr style=\"text-align: right;\">\n",
              "      <th></th>\n",
              "      <th></th>\n",
              "      <th>attempted_suicide</th>\n",
              "    </tr>\n",
              "    <tr>\n",
              "      <th>Gender</th>\n",
              "      <th>Weight</th>\n",
              "      <th></th>\n",
              "    </tr>\n",
              "  </thead>\n",
              "  <tbody>\n",
              "    <tr>\n",
              "      <th rowspan=\"3\" valign=\"top\">8</th>\n",
              "      <th>1</th>\n",
              "      <td>0.0</td>\n",
              "    </tr>\n",
              "    <tr>\n",
              "      <th>2</th>\n",
              "      <td>0.0</td>\n",
              "    </tr>\n",
              "    <tr>\n",
              "      <th>3</th>\n",
              "      <td>0.0</td>\n",
              "    </tr>\n",
              "    <tr>\n",
              "      <th rowspan=\"3\" valign=\"top\">9</th>\n",
              "      <th>1</th>\n",
              "      <td>0.0</td>\n",
              "    </tr>\n",
              "    <tr>\n",
              "      <th>2</th>\n",
              "      <td>0.0</td>\n",
              "    </tr>\n",
              "    <tr>\n",
              "      <th>3</th>\n",
              "      <td>0.0</td>\n",
              "    </tr>\n",
              "  </tbody>\n",
              "</table>\n",
              "</div>\n",
              "      <button class=\"colab-df-convert\" onclick=\"convertToInteractive('df-333eb319-3320-49b5-9c1d-21dc627c4d42')\"\n",
              "              title=\"Convert this dataframe to an interactive table.\"\n",
              "              style=\"display:none;\">\n",
              "        \n",
              "  <svg xmlns=\"http://www.w3.org/2000/svg\" height=\"24px\"viewBox=\"0 0 24 24\"\n",
              "       width=\"24px\">\n",
              "    <path d=\"M0 0h24v24H0V0z\" fill=\"none\"/>\n",
              "    <path d=\"M18.56 5.44l.94 2.06.94-2.06 2.06-.94-2.06-.94-.94-2.06-.94 2.06-2.06.94zm-11 1L8.5 8.5l.94-2.06 2.06-.94-2.06-.94L8.5 2.5l-.94 2.06-2.06.94zm10 10l.94 2.06.94-2.06 2.06-.94-2.06-.94-.94-2.06-.94 2.06-2.06.94z\"/><path d=\"M17.41 7.96l-1.37-1.37c-.4-.4-.92-.59-1.43-.59-.52 0-1.04.2-1.43.59L10.3 9.45l-7.72 7.72c-.78.78-.78 2.05 0 2.83L4 21.41c.39.39.9.59 1.41.59.51 0 1.02-.2 1.41-.59l7.78-7.78 2.81-2.81c.8-.78.8-2.07 0-2.86zM5.41 20L4 18.59l7.72-7.72 1.47 1.35L5.41 20z\"/>\n",
              "  </svg>\n",
              "      </button>\n",
              "      \n",
              "  <style>\n",
              "    .colab-df-container {\n",
              "      display:flex;\n",
              "      flex-wrap:wrap;\n",
              "      gap: 12px;\n",
              "    }\n",
              "\n",
              "    .colab-df-convert {\n",
              "      background-color: #E8F0FE;\n",
              "      border: none;\n",
              "      border-radius: 50%;\n",
              "      cursor: pointer;\n",
              "      display: none;\n",
              "      fill: #1967D2;\n",
              "      height: 32px;\n",
              "      padding: 0 0 0 0;\n",
              "      width: 32px;\n",
              "    }\n",
              "\n",
              "    .colab-df-convert:hover {\n",
              "      background-color: #E2EBFA;\n",
              "      box-shadow: 0px 1px 2px rgba(60, 64, 67, 0.3), 0px 1px 3px 1px rgba(60, 64, 67, 0.15);\n",
              "      fill: #174EA6;\n",
              "    }\n",
              "\n",
              "    [theme=dark] .colab-df-convert {\n",
              "      background-color: #3B4455;\n",
              "      fill: #D2E3FC;\n",
              "    }\n",
              "\n",
              "    [theme=dark] .colab-df-convert:hover {\n",
              "      background-color: #434B5C;\n",
              "      box-shadow: 0px 1px 3px 1px rgba(0, 0, 0, 0.15);\n",
              "      filter: drop-shadow(0px 1px 2px rgba(0, 0, 0, 0.3));\n",
              "      fill: #FFFFFF;\n",
              "    }\n",
              "  </style>\n",
              "\n",
              "      <script>\n",
              "        const buttonEl =\n",
              "          document.querySelector('#df-333eb319-3320-49b5-9c1d-21dc627c4d42 button.colab-df-convert');\n",
              "        buttonEl.style.display =\n",
              "          google.colab.kernel.accessAllowed ? 'block' : 'none';\n",
              "\n",
              "        async function convertToInteractive(key) {\n",
              "          const element = document.querySelector('#df-333eb319-3320-49b5-9c1d-21dc627c4d42');\n",
              "          const dataTable =\n",
              "            await google.colab.kernel.invokeFunction('convertToInteractive',\n",
              "                                                     [key], {});\n",
              "          if (!dataTable) return;\n",
              "\n",
              "          const docLinkHtml = 'Like what you see? Visit the ' +\n",
              "            '<a target=\"_blank\" href=https://colab.research.google.com/notebooks/data_table.ipynb>data table notebook</a>'\n",
              "            + ' to learn more about interactive tables.';\n",
              "          element.innerHTML = '';\n",
              "          dataTable['output_type'] = 'display_data';\n",
              "          await google.colab.output.renderOutput(dataTable, element);\n",
              "          const docLink = document.createElement('div');\n",
              "          docLink.innerHTML = docLinkHtml;\n",
              "          element.appendChild(docLink);\n",
              "        }\n",
              "      </script>\n",
              "    </div>\n",
              "  </div>\n",
              "  "
            ]
          },
          "metadata": {},
          "execution_count": 120
        }
      ]
    },
    {
      "cell_type": "code",
      "source": [
        "df.groupby(['Gender','friends/Relatives'])[['attempted_suicide']].mean().sort_values('attempted_suicide', ascending = True)"
      ],
      "metadata": {
        "colab": {
          "base_uri": "https://localhost:8080/",
          "height": 206
        },
        "id": "KC-QeLGd2Avs",
        "outputId": "8ab1db8d-590d-47e3-dba6-92f81d96a0de"
      },
      "execution_count": null,
      "outputs": [
        {
          "output_type": "execute_result",
          "data": {
            "text/plain": [
              "                          attempted_suicide\n",
              "Gender friends/Relatives                   \n",
              "8      0                                0.0\n",
              "       1                                0.0\n",
              "9      0                                0.0\n",
              "       1                                0.0"
            ],
            "text/html": [
              "\n",
              "  <div id=\"df-6e449d3d-1b29-4bb0-9798-f313edffdb70\">\n",
              "    <div class=\"colab-df-container\">\n",
              "      <div>\n",
              "<style scoped>\n",
              "    .dataframe tbody tr th:only-of-type {\n",
              "        vertical-align: middle;\n",
              "    }\n",
              "\n",
              "    .dataframe tbody tr th {\n",
              "        vertical-align: top;\n",
              "    }\n",
              "\n",
              "    .dataframe thead th {\n",
              "        text-align: right;\n",
              "    }\n",
              "</style>\n",
              "<table border=\"1\" class=\"dataframe\">\n",
              "  <thead>\n",
              "    <tr style=\"text-align: right;\">\n",
              "      <th></th>\n",
              "      <th></th>\n",
              "      <th>attempted_suicide</th>\n",
              "    </tr>\n",
              "    <tr>\n",
              "      <th>Gender</th>\n",
              "      <th>friends/Relatives</th>\n",
              "      <th></th>\n",
              "    </tr>\n",
              "  </thead>\n",
              "  <tbody>\n",
              "    <tr>\n",
              "      <th rowspan=\"2\" valign=\"top\">8</th>\n",
              "      <th>0</th>\n",
              "      <td>0.0</td>\n",
              "    </tr>\n",
              "    <tr>\n",
              "      <th>1</th>\n",
              "      <td>0.0</td>\n",
              "    </tr>\n",
              "    <tr>\n",
              "      <th rowspan=\"2\" valign=\"top\">9</th>\n",
              "      <th>0</th>\n",
              "      <td>0.0</td>\n",
              "    </tr>\n",
              "    <tr>\n",
              "      <th>1</th>\n",
              "      <td>0.0</td>\n",
              "    </tr>\n",
              "  </tbody>\n",
              "</table>\n",
              "</div>\n",
              "      <button class=\"colab-df-convert\" onclick=\"convertToInteractive('df-6e449d3d-1b29-4bb0-9798-f313edffdb70')\"\n",
              "              title=\"Convert this dataframe to an interactive table.\"\n",
              "              style=\"display:none;\">\n",
              "        \n",
              "  <svg xmlns=\"http://www.w3.org/2000/svg\" height=\"24px\"viewBox=\"0 0 24 24\"\n",
              "       width=\"24px\">\n",
              "    <path d=\"M0 0h24v24H0V0z\" fill=\"none\"/>\n",
              "    <path d=\"M18.56 5.44l.94 2.06.94-2.06 2.06-.94-2.06-.94-.94-2.06-.94 2.06-2.06.94zm-11 1L8.5 8.5l.94-2.06 2.06-.94-2.06-.94L8.5 2.5l-.94 2.06-2.06.94zm10 10l.94 2.06.94-2.06 2.06-.94-2.06-.94-.94-2.06-.94 2.06-2.06.94z\"/><path d=\"M17.41 7.96l-1.37-1.37c-.4-.4-.92-.59-1.43-.59-.52 0-1.04.2-1.43.59L10.3 9.45l-7.72 7.72c-.78.78-.78 2.05 0 2.83L4 21.41c.39.39.9.59 1.41.59.51 0 1.02-.2 1.41-.59l7.78-7.78 2.81-2.81c.8-.78.8-2.07 0-2.86zM5.41 20L4 18.59l7.72-7.72 1.47 1.35L5.41 20z\"/>\n",
              "  </svg>\n",
              "      </button>\n",
              "      \n",
              "  <style>\n",
              "    .colab-df-container {\n",
              "      display:flex;\n",
              "      flex-wrap:wrap;\n",
              "      gap: 12px;\n",
              "    }\n",
              "\n",
              "    .colab-df-convert {\n",
              "      background-color: #E8F0FE;\n",
              "      border: none;\n",
              "      border-radius: 50%;\n",
              "      cursor: pointer;\n",
              "      display: none;\n",
              "      fill: #1967D2;\n",
              "      height: 32px;\n",
              "      padding: 0 0 0 0;\n",
              "      width: 32px;\n",
              "    }\n",
              "\n",
              "    .colab-df-convert:hover {\n",
              "      background-color: #E2EBFA;\n",
              "      box-shadow: 0px 1px 2px rgba(60, 64, 67, 0.3), 0px 1px 3px 1px rgba(60, 64, 67, 0.15);\n",
              "      fill: #174EA6;\n",
              "    }\n",
              "\n",
              "    [theme=dark] .colab-df-convert {\n",
              "      background-color: #3B4455;\n",
              "      fill: #D2E3FC;\n",
              "    }\n",
              "\n",
              "    [theme=dark] .colab-df-convert:hover {\n",
              "      background-color: #434B5C;\n",
              "      box-shadow: 0px 1px 3px 1px rgba(0, 0, 0, 0.15);\n",
              "      filter: drop-shadow(0px 1px 2px rgba(0, 0, 0, 0.3));\n",
              "      fill: #FFFFFF;\n",
              "    }\n",
              "  </style>\n",
              "\n",
              "      <script>\n",
              "        const buttonEl =\n",
              "          document.querySelector('#df-6e449d3d-1b29-4bb0-9798-f313edffdb70 button.colab-df-convert');\n",
              "        buttonEl.style.display =\n",
              "          google.colab.kernel.accessAllowed ? 'block' : 'none';\n",
              "\n",
              "        async function convertToInteractive(key) {\n",
              "          const element = document.querySelector('#df-6e449d3d-1b29-4bb0-9798-f313edffdb70');\n",
              "          const dataTable =\n",
              "            await google.colab.kernel.invokeFunction('convertToInteractive',\n",
              "                                                     [key], {});\n",
              "          if (!dataTable) return;\n",
              "\n",
              "          const docLinkHtml = 'Like what you see? Visit the ' +\n",
              "            '<a target=\"_blank\" href=https://colab.research.google.com/notebooks/data_table.ipynb>data table notebook</a>'\n",
              "            + ' to learn more about interactive tables.';\n",
              "          element.innerHTML = '';\n",
              "          dataTable['output_type'] = 'display_data';\n",
              "          await google.colab.output.renderOutput(dataTable, element);\n",
              "          const docLink = document.createElement('div');\n",
              "          docLink.innerHTML = docLinkHtml;\n",
              "          element.appendChild(docLink);\n",
              "        }\n",
              "      </script>\n",
              "    </div>\n",
              "  </div>\n",
              "  "
            ]
          },
          "metadata": {},
          "execution_count": 121
        }
      ]
    },
    {
      "cell_type": "code",
      "source": [
        "df.groupby(['Gender','drugs'])[['attempted_suicide']].mean().sort_values('attempted_suicide', ascending = True)"
      ],
      "metadata": {
        "colab": {
          "base_uri": "https://localhost:8080/",
          "height": 206
        },
        "id": "id89LIFX2EfB",
        "outputId": "ccda9d4f-04fd-46bb-8411-d6e2f2b70f60"
      },
      "execution_count": null,
      "outputs": [
        {
          "output_type": "execute_result",
          "data": {
            "text/plain": [
              "              attempted_suicide\n",
              "Gender drugs                   \n",
              "8      0                    0.0\n",
              "       1                    0.0\n",
              "9      0                    0.0\n",
              "       1                    0.0"
            ],
            "text/html": [
              "\n",
              "  <div id=\"df-e9dcf4d1-75d3-425e-8077-79a31d06a1fd\">\n",
              "    <div class=\"colab-df-container\">\n",
              "      <div>\n",
              "<style scoped>\n",
              "    .dataframe tbody tr th:only-of-type {\n",
              "        vertical-align: middle;\n",
              "    }\n",
              "\n",
              "    .dataframe tbody tr th {\n",
              "        vertical-align: top;\n",
              "    }\n",
              "\n",
              "    .dataframe thead th {\n",
              "        text-align: right;\n",
              "    }\n",
              "</style>\n",
              "<table border=\"1\" class=\"dataframe\">\n",
              "  <thead>\n",
              "    <tr style=\"text-align: right;\">\n",
              "      <th></th>\n",
              "      <th></th>\n",
              "      <th>attempted_suicide</th>\n",
              "    </tr>\n",
              "    <tr>\n",
              "      <th>Gender</th>\n",
              "      <th>drugs</th>\n",
              "      <th></th>\n",
              "    </tr>\n",
              "  </thead>\n",
              "  <tbody>\n",
              "    <tr>\n",
              "      <th rowspan=\"2\" valign=\"top\">8</th>\n",
              "      <th>0</th>\n",
              "      <td>0.0</td>\n",
              "    </tr>\n",
              "    <tr>\n",
              "      <th>1</th>\n",
              "      <td>0.0</td>\n",
              "    </tr>\n",
              "    <tr>\n",
              "      <th rowspan=\"2\" valign=\"top\">9</th>\n",
              "      <th>0</th>\n",
              "      <td>0.0</td>\n",
              "    </tr>\n",
              "    <tr>\n",
              "      <th>1</th>\n",
              "      <td>0.0</td>\n",
              "    </tr>\n",
              "  </tbody>\n",
              "</table>\n",
              "</div>\n",
              "      <button class=\"colab-df-convert\" onclick=\"convertToInteractive('df-e9dcf4d1-75d3-425e-8077-79a31d06a1fd')\"\n",
              "              title=\"Convert this dataframe to an interactive table.\"\n",
              "              style=\"display:none;\">\n",
              "        \n",
              "  <svg xmlns=\"http://www.w3.org/2000/svg\" height=\"24px\"viewBox=\"0 0 24 24\"\n",
              "       width=\"24px\">\n",
              "    <path d=\"M0 0h24v24H0V0z\" fill=\"none\"/>\n",
              "    <path d=\"M18.56 5.44l.94 2.06.94-2.06 2.06-.94-2.06-.94-.94-2.06-.94 2.06-2.06.94zm-11 1L8.5 8.5l.94-2.06 2.06-.94-2.06-.94L8.5 2.5l-.94 2.06-2.06.94zm10 10l.94 2.06.94-2.06 2.06-.94-2.06-.94-.94-2.06-.94 2.06-2.06.94z\"/><path d=\"M17.41 7.96l-1.37-1.37c-.4-.4-.92-.59-1.43-.59-.52 0-1.04.2-1.43.59L10.3 9.45l-7.72 7.72c-.78.78-.78 2.05 0 2.83L4 21.41c.39.39.9.59 1.41.59.51 0 1.02-.2 1.41-.59l7.78-7.78 2.81-2.81c.8-.78.8-2.07 0-2.86zM5.41 20L4 18.59l7.72-7.72 1.47 1.35L5.41 20z\"/>\n",
              "  </svg>\n",
              "      </button>\n",
              "      \n",
              "  <style>\n",
              "    .colab-df-container {\n",
              "      display:flex;\n",
              "      flex-wrap:wrap;\n",
              "      gap: 12px;\n",
              "    }\n",
              "\n",
              "    .colab-df-convert {\n",
              "      background-color: #E8F0FE;\n",
              "      border: none;\n",
              "      border-radius: 50%;\n",
              "      cursor: pointer;\n",
              "      display: none;\n",
              "      fill: #1967D2;\n",
              "      height: 32px;\n",
              "      padding: 0 0 0 0;\n",
              "      width: 32px;\n",
              "    }\n",
              "\n",
              "    .colab-df-convert:hover {\n",
              "      background-color: #E2EBFA;\n",
              "      box-shadow: 0px 1px 2px rgba(60, 64, 67, 0.3), 0px 1px 3px 1px rgba(60, 64, 67, 0.15);\n",
              "      fill: #174EA6;\n",
              "    }\n",
              "\n",
              "    [theme=dark] .colab-df-convert {\n",
              "      background-color: #3B4455;\n",
              "      fill: #D2E3FC;\n",
              "    }\n",
              "\n",
              "    [theme=dark] .colab-df-convert:hover {\n",
              "      background-color: #434B5C;\n",
              "      box-shadow: 0px 1px 3px 1px rgba(0, 0, 0, 0.15);\n",
              "      filter: drop-shadow(0px 1px 2px rgba(0, 0, 0, 0.3));\n",
              "      fill: #FFFFFF;\n",
              "    }\n",
              "  </style>\n",
              "\n",
              "      <script>\n",
              "        const buttonEl =\n",
              "          document.querySelector('#df-e9dcf4d1-75d3-425e-8077-79a31d06a1fd button.colab-df-convert');\n",
              "        buttonEl.style.display =\n",
              "          google.colab.kernel.accessAllowed ? 'block' : 'none';\n",
              "\n",
              "        async function convertToInteractive(key) {\n",
              "          const element = document.querySelector('#df-e9dcf4d1-75d3-425e-8077-79a31d06a1fd');\n",
              "          const dataTable =\n",
              "            await google.colab.kernel.invokeFunction('convertToInteractive',\n",
              "                                                     [key], {});\n",
              "          if (!dataTable) return;\n",
              "\n",
              "          const docLinkHtml = 'Like what you see? Visit the ' +\n",
              "            '<a target=\"_blank\" href=https://colab.research.google.com/notebooks/data_table.ipynb>data table notebook</a>'\n",
              "            + ' to learn more about interactive tables.';\n",
              "          element.innerHTML = '';\n",
              "          dataTable['output_type'] = 'display_data';\n",
              "          await google.colab.output.renderOutput(dataTable, element);\n",
              "          const docLink = document.createElement('div');\n",
              "          docLink.innerHTML = docLinkHtml;\n",
              "          element.appendChild(docLink);\n",
              "        }\n",
              "      </script>\n",
              "    </div>\n",
              "  </div>\n",
              "  "
            ]
          },
          "metadata": {},
          "execution_count": 122
        }
      ]
    },
    {
      "cell_type": "code",
      "source": [
        "df.groupby(['fights','understanding parents'])[['attempted_suicide']].mean().sort_values('attempted_suicide', ascending = True)"
      ],
      "metadata": {
        "colab": {
          "base_uri": "https://localhost:8080/",
          "height": 206
        },
        "id": "OxfBLm252Gjg",
        "outputId": "e7e604c7-9bae-4316-e676-3e2a1e7fe1fb"
      },
      "execution_count": null,
      "outputs": [
        {
          "output_type": "execute_result",
          "data": {
            "text/plain": [
              "                              attempted_suicide\n",
              "fights understanding parents                   \n",
              "0      0                                    0.0\n",
              "       1                                    0.0\n",
              "1      0                                    0.0\n",
              "       1                                    0.0"
            ],
            "text/html": [
              "\n",
              "  <div id=\"df-316692ba-b673-462b-999e-e19b3fb5581d\">\n",
              "    <div class=\"colab-df-container\">\n",
              "      <div>\n",
              "<style scoped>\n",
              "    .dataframe tbody tr th:only-of-type {\n",
              "        vertical-align: middle;\n",
              "    }\n",
              "\n",
              "    .dataframe tbody tr th {\n",
              "        vertical-align: top;\n",
              "    }\n",
              "\n",
              "    .dataframe thead th {\n",
              "        text-align: right;\n",
              "    }\n",
              "</style>\n",
              "<table border=\"1\" class=\"dataframe\">\n",
              "  <thead>\n",
              "    <tr style=\"text-align: right;\">\n",
              "      <th></th>\n",
              "      <th></th>\n",
              "      <th>attempted_suicide</th>\n",
              "    </tr>\n",
              "    <tr>\n",
              "      <th>fights</th>\n",
              "      <th>understanding parents</th>\n",
              "      <th></th>\n",
              "    </tr>\n",
              "  </thead>\n",
              "  <tbody>\n",
              "    <tr>\n",
              "      <th rowspan=\"2\" valign=\"top\">0</th>\n",
              "      <th>0</th>\n",
              "      <td>0.0</td>\n",
              "    </tr>\n",
              "    <tr>\n",
              "      <th>1</th>\n",
              "      <td>0.0</td>\n",
              "    </tr>\n",
              "    <tr>\n",
              "      <th rowspan=\"2\" valign=\"top\">1</th>\n",
              "      <th>0</th>\n",
              "      <td>0.0</td>\n",
              "    </tr>\n",
              "    <tr>\n",
              "      <th>1</th>\n",
              "      <td>0.0</td>\n",
              "    </tr>\n",
              "  </tbody>\n",
              "</table>\n",
              "</div>\n",
              "      <button class=\"colab-df-convert\" onclick=\"convertToInteractive('df-316692ba-b673-462b-999e-e19b3fb5581d')\"\n",
              "              title=\"Convert this dataframe to an interactive table.\"\n",
              "              style=\"display:none;\">\n",
              "        \n",
              "  <svg xmlns=\"http://www.w3.org/2000/svg\" height=\"24px\"viewBox=\"0 0 24 24\"\n",
              "       width=\"24px\">\n",
              "    <path d=\"M0 0h24v24H0V0z\" fill=\"none\"/>\n",
              "    <path d=\"M18.56 5.44l.94 2.06.94-2.06 2.06-.94-2.06-.94-.94-2.06-.94 2.06-2.06.94zm-11 1L8.5 8.5l.94-2.06 2.06-.94-2.06-.94L8.5 2.5l-.94 2.06-2.06.94zm10 10l.94 2.06.94-2.06 2.06-.94-2.06-.94-.94-2.06-.94 2.06-2.06.94z\"/><path d=\"M17.41 7.96l-1.37-1.37c-.4-.4-.92-.59-1.43-.59-.52 0-1.04.2-1.43.59L10.3 9.45l-7.72 7.72c-.78.78-.78 2.05 0 2.83L4 21.41c.39.39.9.59 1.41.59.51 0 1.02-.2 1.41-.59l7.78-7.78 2.81-2.81c.8-.78.8-2.07 0-2.86zM5.41 20L4 18.59l7.72-7.72 1.47 1.35L5.41 20z\"/>\n",
              "  </svg>\n",
              "      </button>\n",
              "      \n",
              "  <style>\n",
              "    .colab-df-container {\n",
              "      display:flex;\n",
              "      flex-wrap:wrap;\n",
              "      gap: 12px;\n",
              "    }\n",
              "\n",
              "    .colab-df-convert {\n",
              "      background-color: #E8F0FE;\n",
              "      border: none;\n",
              "      border-radius: 50%;\n",
              "      cursor: pointer;\n",
              "      display: none;\n",
              "      fill: #1967D2;\n",
              "      height: 32px;\n",
              "      padding: 0 0 0 0;\n",
              "      width: 32px;\n",
              "    }\n",
              "\n",
              "    .colab-df-convert:hover {\n",
              "      background-color: #E2EBFA;\n",
              "      box-shadow: 0px 1px 2px rgba(60, 64, 67, 0.3), 0px 1px 3px 1px rgba(60, 64, 67, 0.15);\n",
              "      fill: #174EA6;\n",
              "    }\n",
              "\n",
              "    [theme=dark] .colab-df-convert {\n",
              "      background-color: #3B4455;\n",
              "      fill: #D2E3FC;\n",
              "    }\n",
              "\n",
              "    [theme=dark] .colab-df-convert:hover {\n",
              "      background-color: #434B5C;\n",
              "      box-shadow: 0px 1px 3px 1px rgba(0, 0, 0, 0.15);\n",
              "      filter: drop-shadow(0px 1px 2px rgba(0, 0, 0, 0.3));\n",
              "      fill: #FFFFFF;\n",
              "    }\n",
              "  </style>\n",
              "\n",
              "      <script>\n",
              "        const buttonEl =\n",
              "          document.querySelector('#df-316692ba-b673-462b-999e-e19b3fb5581d button.colab-df-convert');\n",
              "        buttonEl.style.display =\n",
              "          google.colab.kernel.accessAllowed ? 'block' : 'none';\n",
              "\n",
              "        async function convertToInteractive(key) {\n",
              "          const element = document.querySelector('#df-316692ba-b673-462b-999e-e19b3fb5581d');\n",
              "          const dataTable =\n",
              "            await google.colab.kernel.invokeFunction('convertToInteractive',\n",
              "                                                     [key], {});\n",
              "          if (!dataTable) return;\n",
              "\n",
              "          const docLinkHtml = 'Like what you see? Visit the ' +\n",
              "            '<a target=\"_blank\" href=https://colab.research.google.com/notebooks/data_table.ipynb>data table notebook</a>'\n",
              "            + ' to learn more about interactive tables.';\n",
              "          element.innerHTML = '';\n",
              "          dataTable['output_type'] = 'display_data';\n",
              "          await google.colab.output.renderOutput(dataTable, element);\n",
              "          const docLink = document.createElement('div');\n",
              "          docLink.innerHTML = docLinkHtml;\n",
              "          element.appendChild(docLink);\n",
              "        }\n",
              "      </script>\n",
              "    </div>\n",
              "  </div>\n",
              "  "
            ]
          },
          "metadata": {},
          "execution_count": 123
        }
      ]
    },
    {
      "cell_type": "markdown",
      "source": [
        "**FPGROWTH**"
      ],
      "metadata": {
        "id": "ITBufNU_wrN-"
      }
    },
    {
      "cell_type": "code",
      "source": [
        "# Read dataset from binary.csv file\n",
        "dataset = pd.read_csv('dataa.csv', header=None)\n",
        "transactions = []"
      ],
      "metadata": {
        "id": "USFMhxqEwtZs"
      },
      "execution_count": null,
      "outputs": []
    },
    {
      "cell_type": "code",
      "source": [
        "# Convert pandas dataframe to list of transactions\n",
        "for i in range(len(dataset)):\n",
        "    transactions.append([str(dataset.values[i,j]) for j in range(len(dataset.columns))])\n"
      ],
      "metadata": {
        "id": "miVz1xKTxXd0"
      },
      "execution_count": null,
      "outputs": []
    },
    {
      "cell_type": "code",
      "source": [
        "# Set minimum support count\n",
        "min_support_count = 300\n",
        "\n",
        "# Create dictionary to store support count of each item\n",
        "support_count = defaultdict(int)"
      ],
      "metadata": {
        "id": "r8dqiWHExaxN"
      },
      "execution_count": null,
      "outputs": []
    },
    {
      "cell_type": "code",
      "source": [
        "# Count the support of each item\n",
        "for transaction in transactions:\n",
        "    for item in transaction:\n",
        "        support_count[item] += 1"
      ],
      "metadata": {
        "id": "KM12JewUxdlo"
      },
      "execution_count": null,
      "outputs": []
    },
    {
      "cell_type": "code",
      "source": [
        "# Remove items that don't meet minimum support count\n",
        "frequent_items = {}\n",
        "for item, support in support_count.items():\n",
        "    if support >= min_support_count:\n",
        "        frequent_items[item] = support"
      ],
      "metadata": {
        "id": "Hw8XlC_cxjGN"
      },
      "execution_count": null,
      "outputs": []
    },
    {
      "cell_type": "code",
      "source": [
        "# Sort frequent items by support count\n",
        "frequent_items = dict(sorted(frequent_items.items(), key=lambda item: item[1], reverse=True))"
      ],
      "metadata": {
        "id": "0RlSPsbVxmCO"
      },
      "execution_count": null,
      "outputs": []
    },
    {
      "cell_type": "code",
      "source": [
        "# Create sorted frequent itemsets from sorted frequent items\n",
        "sorted_frequent_itemsets = []\n",
        "for item in frequent_items:\n",
        "    sorted_frequent_itemsets.append([item])"
      ],
      "metadata": {
        "id": "BeRwCVHTxong"
      },
      "execution_count": null,
      "outputs": []
    },
    {
      "cell_type": "code",
      "source": [
        "# Build FP-tree\n",
        "root = {}\n",
        "for transaction in transactions:\n",
        "    transaction = [item for item in transaction if item in frequent_items]\n",
        "    transaction.sort(key=lambda item: frequent_items[item], reverse=True)\n",
        "    current_node = root\n",
        "    for item in transaction:\n",
        "        if item not in current_node:\n",
        "            current_node[item] = {'count': 1, 'children': {}}\n",
        "        else:\n",
        "            current_node[item]['count'] += 1\n",
        "        current_node = current_node[item]['children']\n",
        "\n",
        "# Generate frequent itemsets\n",
        "frequent_itemsets = []\n",
        "stack = [{'node': root, 'path': []}]\n",
        "while len(stack) > 0:\n",
        "    current_level_items = defaultdict(int)\n",
        "    while len(stack) > 0:\n",
        "        current = stack.pop()\n",
        "        node = current['node']\n",
        "        path = current['path']\n",
        "        for item, child_node in node.items():\n",
        "            current_path = path.copy()\n",
        "            current_path.append(item)\n",
        "            current_level_items[tuple(current_path)] += child_node['count']\n",
        "            stack.append({'node': child_node['children'], 'path': current_path})\n",
        "    for itemset, count in current_level_items.items():\n",
        "        if count >= min_support_count:\n",
        "            frequent_itemsets.append({'items': list(itemset), 'support': count})"
      ],
      "metadata": {
        "id": "R6_gC4VSxsDY"
      },
      "execution_count": null,
      "outputs": []
    },
    {
      "cell_type": "code",
      "source": [
        "# Print frequent itemsets\n",
        "print(\"Frequent itemsets (minimum support count = {}):\".format(min_support_count))\n",
        "for itemset in frequent_itemsets:\n",
        "    print(\"{} - support count: {}\".format(itemset['items'], itemset['support']))\n"
      ],
      "metadata": {
        "colab": {
          "base_uri": "https://localhost:8080/"
        },
        "id": "8Lg-ZAGjxtwE",
        "outputId": "5fff330c-6c3a-435e-fcd2-02ad2f684346"
      },
      "execution_count": null,
      "outputs": [
        {
          "output_type": "stream",
          "name": "stdout",
          "text": [
            "Frequent itemsets (minimum support count = 300):\n",
            "['0'] - support count: 2079\n",
            "['0', '0'] - support count: 2079\n",
            "['0', '0', '0'] - support count: 2078\n",
            "['0', '0', '0', '0'] - support count: 2075\n",
            "['0', '0', '0', '0', '0'] - support count: 2069\n",
            "['0', '0', '0', '0', '0', '0'] - support count: 2067\n",
            "['0', '0', '0', '0', '0', '0', '0'] - support count: 1870\n",
            "['0', '0', '0', '0', '0', '0', '0', '0'] - support count: 1648\n",
            "['0', '0', '0', '0', '0', '0', '0', '0', '0'] - support count: 1192\n",
            "['0', '0', '0', '0', '0', '0', '0', '0', '1'] - support count: 456\n",
            "['0', '0', '0', '0', '0', '0', '0', '0', '1', '1'] - support count: 456\n",
            "['0', '0', '0', '0', '0', '0', '0', '0', '1', '1', '1'] - support count: 456\n",
            "['0', '0', '0', '0', '0', '0', '0', '0', '1', '1', '1', '1'] - support count: 456\n",
            "['0', '0', '0', '0', '0', '0', '0', '0', '1', '1', '1', '1', '1'] - support count: 456\n",
            "['0', '0', '0', '0', '0', '0', '0', '0', '1', '1', '1', '1', '1', '1'] - support count: 456\n",
            "['0', '0', '0', '0', '0', '0', '0', '0', '1', '1', '1', '1', '1', '1', '1'] - support count: 456\n",
            "['0', '0', '0', '0', '0', '0', '0', '0', '1', '1', '1', '1', '1', '1', '1', '2'] - support count: 344\n",
            "['0', '0', '0', '0', '0', '0', '0', '0', '0', '1'] - support count: 551\n",
            "['0', '0', '0', '0', '0', '0', '0', '0', '0', '0'] - support count: 641\n",
            "['0', '0', '0', '0', '0', '0', '0', '0', '0', '0', '0'] - support count: 492\n",
            "['0', '0', '0', '0', '0', '0', '0', '0', '0', '1', '1'] - support count: 551\n",
            "['0', '0', '0', '0', '0', '0', '0', '0', '0', '1', '1', '1'] - support count: 551\n",
            "['0', '0', '0', '0', '0', '0', '0', '0', '0', '1', '1', '1', '1'] - support count: 551\n",
            "['0', '0', '0', '0', '0', '0', '0', '0', '0', '1', '1', '1', '1', '1'] - support count: 551\n",
            "['0', '0', '0', '0', '0', '0', '0', '0', '0', '1', '1', '1', '1', '1', '1'] - support count: 551\n",
            "['0', '0', '0', '0', '0', '0', '0', '0', '0', '1', '1', '1', '1', '1', '1', '1'] - support count: 517\n"
          ]
        }
      ]
    },
    {
      "cell_type": "markdown",
      "source": [
        "**Apriori**"
      ],
      "metadata": {
        "id": "swHWjGy9x4ZQ"
      }
    },
    {
      "cell_type": "code",
      "source": [
        "# Load dataset\n",
        "df = pd.read_csv('dataa.csv')\n",
        "\n",
        "# Convert columns to boolean\n",
        "df = df.astype(bool)\n",
        "\n",
        "# Find frequent itemsets using Apriori algorithm\n",
        "frequent_itemsets = apriori(df, min_support=0.3, use_colnames=True)\n",
        "\n",
        "# Generate association rules\n",
        "rules = association_rules(frequent_itemsets, metric='lift', min_threshold=1)\n",
        "\n",
        "# Print frequent itemsets\n",
        "print(frequent_itemsets)\n",
        "\n",
        "# Print association rules\n",
        "print(rules)"
      ],
      "metadata": {
        "colab": {
          "base_uri": "https://localhost:8080/"
        },
        "id": "zkGgPuudx6DL",
        "outputId": "8f4693da-3399-403c-aeba-8a8ed329e54a"
      },
      "execution_count": null,
      "outputs": [
        {
          "output_type": "stream",
          "name": "stdout",
          "text": [
            "     support                                         itemsets\n",
            "0   1.000000                                            (Age)\n",
            "1   0.614719                                         (Gender)\n",
            "2   0.800385                                         (Weight)\n",
            "3   0.551708                              (friends/Relatives)\n",
            "4   0.555075                          (understanding parents)\n",
            "..       ...                                              ...\n",
            "64  0.353535  (Age, understanding parents, friends/Relatives)\n",
            "65  0.317460         (Age, friends/Relatives, missed classes)\n",
            "66  0.303992             (Age, fights, understanding parents)\n",
            "67  0.325156            (Age, bullied, understanding parents)\n",
            "68  0.364117                           (Age, fights, bullied)\n",
            "\n",
            "[69 rows x 2 columns]\n",
            "           antecedents          consequents  antecedent support  \\\n",
            "0                (Age)             (Gender)            1.000000   \n",
            "1             (Gender)                (Age)            0.614719   \n",
            "2                (Age)             (Weight)            1.000000   \n",
            "3             (Weight)                (Age)            0.800385   \n",
            "4                (Age)  (friends/Relatives)            1.000000   \n",
            "..                 ...                  ...                 ...   \n",
            "141     (Age, bullied)             (fights)            0.479076   \n",
            "142  (fights, bullied)                (Age)            0.364117   \n",
            "143              (Age)    (fights, bullied)            1.000000   \n",
            "144           (fights)       (Age, bullied)            0.507456   \n",
            "145          (bullied)        (Age, fights)            0.479076   \n",
            "\n",
            "     consequent support   support  confidence      lift  leverage  conviction  \n",
            "0              0.614719  0.614719    0.614719  1.000000  0.000000    1.000000  \n",
            "1              1.000000  0.614719    1.000000  1.000000  0.000000         inf  \n",
            "2              0.800385  0.800385    0.800385  1.000000  0.000000    1.000000  \n",
            "3              1.000000  0.800385    1.000000  1.000000  0.000000         inf  \n",
            "4              0.551708  0.551708    0.551708  1.000000  0.000000    1.000000  \n",
            "..                  ...       ...         ...       ...       ...         ...  \n",
            "141            0.507456  0.364117    0.760040  1.497747  0.121007    2.052612  \n",
            "142            1.000000  0.364117    1.000000  1.000000  0.000000         inf  \n",
            "143            0.364117  0.364117    0.364117  1.000000  0.000000    1.000000  \n",
            "144            0.479076  0.364117    0.717536  1.497747  0.121007    1.844209  \n",
            "145            0.507456  0.364117    0.760040  1.497747  0.121007    2.052612  \n",
            "\n",
            "[146 rows x 9 columns]\n"
          ]
        }
      ]
    }
  ]
}